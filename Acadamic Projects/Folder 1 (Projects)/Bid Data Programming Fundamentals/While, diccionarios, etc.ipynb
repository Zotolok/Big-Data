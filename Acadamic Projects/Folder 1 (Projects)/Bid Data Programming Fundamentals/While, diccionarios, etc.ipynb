{
 "cells": [
  {
   "cell_type": "markdown",
   "id": "c3c4a149",
   "metadata": {},
   "source": [
    "# Nombre: Celic Gabriel Hernández Archundia\n",
    "## Matrícula: 2877240\n",
    "### Ciclo While\n",
    "Ejecuta un conjunto de instrucciones mientras se cumpla una cierta condición.\n",
    "\n",
    "while \\[condicion\\]:\n",
    "    \\# Aquí se escriben las condiciones y se busca alterar el estado de la condicion de paro.\n",
    "    \n",
    "### Diccionarios\n",
    "Son un conjunto de elementos para llave-valor que se encuentran encerrados en un par de llaves {}\n",
    "- Cada elemento contiene una llave y un valor y se puede acceder a cada valor utilizando la llave relacionada."
   ]
  },
  {
   "cell_type": "code",
   "execution_count": 1,
   "id": "3f2faab9",
   "metadata": {},
   "outputs": [],
   "source": [
    "diccionario = {\n",
    "    \"nombre\": \"Celic\",\n",
    "    \"cargo\": \"Alumno\",\n",
    "    \"grupo\": 3,\n",
    "    \"nombre_grupos\": [\"a\",\"b\",\"c\"]\n",
    "}"
   ]
  },
  {
   "cell_type": "code",
   "execution_count": 2,
   "id": "94cfcf09",
   "metadata": {},
   "outputs": [
    {
     "data": {
      "text/plain": [
       "'Celic'"
      ]
     },
     "execution_count": 2,
     "metadata": {},
     "output_type": "execute_result"
    }
   ],
   "source": [
    "diccionario[\"nombre\"]"
   ]
  },
  {
   "cell_type": "code",
   "execution_count": 3,
   "id": "9b031565",
   "metadata": {},
   "outputs": [
    {
     "data": {
      "text/plain": [
       "dict_keys(['nombre', 'cargo', 'grupo', 'nombre_grupos'])"
      ]
     },
     "execution_count": 3,
     "metadata": {},
     "output_type": "execute_result"
    }
   ],
   "source": [
    "diccionario.keys()"
   ]
  },
  {
   "cell_type": "code",
   "execution_count": 4,
   "id": "97f21e7f",
   "metadata": {},
   "outputs": [
    {
     "data": {
      "text/plain": [
       "dict_items([('nombre', 'Celic'), ('cargo', 'Alumno'), ('grupo', 3), ('nombre_grupos', ['a', 'b', 'c'])])"
      ]
     },
     "execution_count": 4,
     "metadata": {},
     "output_type": "execute_result"
    }
   ],
   "source": [
    "diccionario.items()"
   ]
  },
  {
   "cell_type": "code",
   "execution_count": 5,
   "id": "1dbda177",
   "metadata": {},
   "outputs": [
    {
     "data": {
      "text/plain": [
       "dict_values(['Celic', 'Alumno', 3, ['a', 'b', 'c']])"
      ]
     },
     "execution_count": 5,
     "metadata": {},
     "output_type": "execute_result"
    }
   ],
   "source": [
    "diccionario.values()"
   ]
  },
  {
   "cell_type": "code",
   "execution_count": 6,
   "id": "e7dda017",
   "metadata": {},
   "outputs": [
    {
     "data": {
      "text/plain": [
       "{'nombre': 'Celic',\n",
       " 'cargo': 'Alumno',\n",
       " 'grupo': 3,\n",
       " 'nombre_grupos': ['a', 'b', 'c']}"
      ]
     },
     "execution_count": 6,
     "metadata": {},
     "output_type": "execute_result"
    }
   ],
   "source": [
    "diccionario"
   ]
  },
  {
   "cell_type": "code",
   "execution_count": 7,
   "id": "8e20d350",
   "metadata": {},
   "outputs": [
    {
     "data": {
      "text/plain": [
       "4"
      ]
     },
     "execution_count": 7,
     "metadata": {},
     "output_type": "execute_result"
    }
   ],
   "source": [
    "len(diccionario)"
   ]
  },
  {
   "cell_type": "code",
   "execution_count": 8,
   "id": "b8dd049b",
   "metadata": {},
   "outputs": [
    {
     "name": "stdout",
     "output_type": "stream",
     "text": [
      "Celic\n",
      "Alumno\n",
      "3\n",
      "['a', 'b', 'c']\n"
     ]
    }
   ],
   "source": [
    "for key in diccionario: \n",
    "    print (diccionario[key])"
   ]
  }
 ],
 "metadata": {
  "kernelspec": {
   "display_name": "Python 3 (ipykernel)",
   "language": "python",
   "name": "python3"
  },
  "language_info": {
   "codemirror_mode": {
    "name": "ipython",
    "version": 3
   },
   "file_extension": ".py",
   "mimetype": "text/x-python",
   "name": "python",
   "nbconvert_exporter": "python",
   "pygments_lexer": "ipython3",
   "version": "3.9.13"
  }
 },
 "nbformat": 4,
 "nbformat_minor": 5
}
