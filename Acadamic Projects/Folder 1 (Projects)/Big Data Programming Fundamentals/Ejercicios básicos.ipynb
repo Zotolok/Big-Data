{
 "cells": [
  {
   "cell_type": "markdown",
   "id": "b92efa86",
   "metadata": {},
   "source": [
    "# Nombre: Celic Gabriel Hernández Archundia\n",
    "## Matrícula: 2877240\n",
    "## Materia: Fundamentos de programación de Big Data\n",
    "\n",
    "### Comentarios de Python"
   ]
  },
  {
   "cell_type": "code",
   "execution_count": 2,
   "id": "14d2ace7",
   "metadata": {},
   "outputs": [
    {
     "data": {
      "text/plain": [
       "'Este es un comentario\\nmultilínea. Puedo seguir escribiendo\\nen esta línea.'"
      ]
     },
     "execution_count": 2,
     "metadata": {},
     "output_type": "execute_result"
    }
   ],
   "source": [
    "# Este es un comentario de una sola línea\n",
    "\"\"\"Este es un comentario\n",
    "multilínea. Puedo seguir escribiendo\n",
    "en esta línea.\"\"\""
   ]
  },
  {
   "cell_type": "code",
   "execution_count": 3,
   "id": "30ec0f8e",
   "metadata": {},
   "outputs": [
    {
     "name": "stdout",
     "output_type": "stream",
     "text": [
      "Este es un texto que se imprime\n"
     ]
    }
   ],
   "source": [
    "print(\"Este es un texto que se imprime\")"
   ]
  },
  {
   "cell_type": "code",
   "execution_count": 5,
   "id": "e10afe05",
   "metadata": {},
   "outputs": [
    {
     "name": "stdout",
     "output_type": "stream",
     "text": [
      "Este texto tiene el símbolo \"dentro de mi texto\n",
      "Tambien puedo escribir texto con comillas simples\n"
     ]
    }
   ],
   "source": [
    "print(\"Este texto tiene el símbolo \\\"dentro de mi texto\")\n",
    "print('Tambien puedo escribir texto con comillas simples')"
   ]
  },
  {
   "cell_type": "code",
   "execution_count": 13,
   "id": "dec2f86a",
   "metadata": {},
   "outputs": [
    {
     "data": {
      "text/plain": [
       "-5"
      ]
     },
     "execution_count": 13,
     "metadata": {},
     "output_type": "execute_result"
    }
   ],
   "source": [
    "# Entero\n",
    "dato_entero = -5\n",
    "# Float (decimal)\n",
    "dato_float = 5.124435\n",
    "# Cada de caracteres\n",
    "dato_texto = \"Este es un texto\"\n",
    "# Booleano\n",
    "dato_booleano = True\n",
    "dato_entero"
   ]
  },
  {
   "cell_type": "code",
   "execution_count": 14,
   "id": "7cba214a",
   "metadata": {},
   "outputs": [
    {
     "name": "stdout",
     "output_type": "stream",
     "text": [
      "-5 5.124435 Este es un texto True\n"
     ]
    }
   ],
   "source": [
    "print(dato_entero, dato_float, dato_texto, dato_booleano)"
   ]
  },
  {
   "cell_type": "code",
   "execution_count": 16,
   "id": "bd1a9b0c",
   "metadata": {},
   "outputs": [
    {
     "name": "stdout",
     "output_type": "stream",
     "text": [
      "<class 'int'> <class 'float'> <class 'str'> <class 'bool'>\n"
     ]
    }
   ],
   "source": [
    "print(type(dato_entero), type(dato_float), type(dato_texto), type(dato_booleano))"
   ]
  },
  {
   "cell_type": "code",
   "execution_count": 17,
   "id": "1c1fb0a1",
   "metadata": {},
   "outputs": [],
   "source": [
    "valor = 3\n",
    "Valor = 4"
   ]
  },
  {
   "cell_type": "code",
   "execution_count": 20,
   "id": "1ab6565f",
   "metadata": {},
   "outputs": [
    {
     "data": {
      "text/plain": [
       "7"
      ]
     },
     "execution_count": 20,
     "metadata": {},
     "output_type": "execute_result"
    }
   ],
   "source": [
    "valor + Valor"
   ]
  },
  {
   "cell_type": "code",
   "execution_count": 21,
   "id": "fb0c0e4e",
   "metadata": {},
   "outputs": [
    {
     "data": {
      "text/plain": [
       "-1"
      ]
     },
     "execution_count": 21,
     "metadata": {},
     "output_type": "execute_result"
    }
   ],
   "source": [
    "valor - Valor"
   ]
  },
  {
   "cell_type": "code",
   "execution_count": 22,
   "id": "c30c4a99",
   "metadata": {},
   "outputs": [
    {
     "data": {
      "text/plain": [
       "12"
      ]
     },
     "execution_count": 22,
     "metadata": {},
     "output_type": "execute_result"
    }
   ],
   "source": [
    "valor * Valor"
   ]
  },
  {
   "cell_type": "code",
   "execution_count": 23,
   "id": "a21a4938",
   "metadata": {},
   "outputs": [
    {
     "data": {
      "text/plain": [
       "0.75"
      ]
     },
     "execution_count": 23,
     "metadata": {},
     "output_type": "execute_result"
    }
   ],
   "source": [
    "valor / Valor"
   ]
  },
  {
   "cell_type": "code",
   "execution_count": 24,
   "id": "d4d1fbed",
   "metadata": {},
   "outputs": [
    {
     "data": {
      "text/plain": [
       "81"
      ]
     },
     "execution_count": 24,
     "metadata": {},
     "output_type": "execute_result"
    }
   ],
   "source": [
    "valor ** Valor"
   ]
  },
  {
   "cell_type": "code",
   "execution_count": 25,
   "id": "032fe85d",
   "metadata": {},
   "outputs": [
    {
     "data": {
      "text/plain": [
       "15"
      ]
     },
     "execution_count": 25,
     "metadata": {},
     "output_type": "execute_result"
    }
   ],
   "source": [
    "valor + Valor * valor"
   ]
  },
  {
   "cell_type": "code",
   "execution_count": 28,
   "id": "5c1b0c29",
   "metadata": {},
   "outputs": [
    {
     "data": {
      "text/plain": [
       "4.0"
      ]
     },
     "execution_count": 28,
     "metadata": {},
     "output_type": "execute_result"
    }
   ],
   "source": [
    "import math\n",
    "\n",
    "math.sqrt(16)"
   ]
  },
  {
   "cell_type": "code",
   "execution_count": 31,
   "id": "b7a468bd",
   "metadata": {},
   "outputs": [
    {
     "data": {
      "text/plain": [
       "3"
      ]
     },
     "execution_count": 31,
     "metadata": {},
     "output_type": "execute_result"
    }
   ],
   "source": [
    "valor % Valor"
   ]
  },
  {
   "cell_type": "markdown",
   "id": "cd99c54b",
   "metadata": {},
   "source": [
    "Entrada de usuario"
   ]
  },
  {
   "cell_type": "code",
   "execution_count": 30,
   "id": "87523273",
   "metadata": {},
   "outputs": [
    {
     "name": "stdout",
     "output_type": "stream",
     "text": [
      "Por favor escribe tu edad: iugh\n"
     ]
    }
   ],
   "source": [
    "# La función input solicita una entrada al usuario\n",
    "edad = input(\"Por favor escribe tu edad: \")"
   ]
  },
  {
   "cell_type": "code",
   "execution_count": 32,
   "id": "9eb49323",
   "metadata": {},
   "outputs": [
    {
     "name": "stdout",
     "output_type": "stream",
     "text": [
      "iugh\n"
     ]
    }
   ],
   "source": [
    "print(edad)"
   ]
  },
  {
   "cell_type": "code",
   "execution_count": 35,
   "id": "726f1955",
   "metadata": {},
   "outputs": [
    {
     "name": "stdout",
     "output_type": "stream",
     "text": [
      "Escribe tu edad y yo calculo los días que has vivido20\n",
      "Has vivido  7300  dias\n"
     ]
    }
   ],
   "source": [
    "edad = input(\"Escribe tu edad y yo calculo los días que has vivido\")\n",
    "dias_vividos = int(edad) *365\n",
    "print(\"Has vivido \", dias_vividos, \" dias\")"
   ]
  },
  {
   "cell_type": "markdown",
   "id": "68190b54",
   "metadata": {},
   "source": [
    "## Ejercicios\n"
   ]
  },
  {
   "cell_type": "markdown",
   "id": "4cfaf224",
   "metadata": {},
   "source": [
    "Ejercicio 1: Programa que muestra en pantalla la cadena de texto ¡Hola Mundo!\n",
    "\n",
    "Ejercicio 2: Programa que almacena la cadena ¡Hola Mundo! en una variable y luego muestra por pantalla el contenido de la variable.\n",
    "\n",
    "Ejercicio 3: Programa que pregunta el nombre del usuario en la consola y después muestra por pantalla la cadena ¡Hola \\<nombre\\>! donde \\<nombre\\> es el nombre que el usuario introdujo.\n",
    "\n",
    "Ejercicio 4: Escribir un programa que pregunte al usuario por el número de horas trabajadas y el coste por hora. Después debe mostrar por pantalla la paga que le corresponde."
   ]
  },
  {
   "cell_type": "markdown",
   "id": "6bc39ccd",
   "metadata": {},
   "source": [
    "### Ejercicio 1"
   ]
  },
  {
   "cell_type": "code",
   "execution_count": 45,
   "id": "1c5f6540",
   "metadata": {},
   "outputs": [
    {
     "name": "stdout",
     "output_type": "stream",
     "text": [
      "¡Hola Mundo!\n"
     ]
    }
   ],
   "source": [
    "print(\"¡Hola Mundo!\")"
   ]
  },
  {
   "cell_type": "markdown",
   "id": "4c8d8edc",
   "metadata": {},
   "source": [
    "### Ejercicio 2"
   ]
  },
  {
   "cell_type": "code",
   "execution_count": 46,
   "id": "a6e63934",
   "metadata": {},
   "outputs": [
    {
     "name": "stdout",
     "output_type": "stream",
     "text": [
      "¡Hola Mundo!\n"
     ]
    }
   ],
   "source": [
    "var = \"¡Hola Mundo!\"\n",
    "print(var)"
   ]
  },
  {
   "cell_type": "markdown",
   "id": "0436915a",
   "metadata": {},
   "source": [
    "### Ejercicio 3"
   ]
  },
  {
   "cell_type": "code",
   "execution_count": 44,
   "id": "ad3d5552",
   "metadata": {},
   "outputs": [
    {
     "name": "stdout",
     "output_type": "stream",
     "text": [
      "¿Cuál es tu nombre? Celic\n",
      "¡Hola Celic !\n"
     ]
    }
   ],
   "source": [
    "usuario = input(\"¿Cuál es tu nombre? \")\n",
    "print(\"¡Hola\",usuario, \"!\")"
   ]
  },
  {
   "cell_type": "markdown",
   "id": "5728ed02",
   "metadata": {},
   "source": [
    "### Ejercicio 4"
   ]
  },
  {
   "cell_type": "code",
   "execution_count": 43,
   "id": "f1cd052e",
   "metadata": {},
   "outputs": [
    {
     "name": "stdout",
     "output_type": "stream",
     "text": [
      "Horas trabajadas: 8\n",
      "Coste por hora: 250\n",
      "Paga correspondiente: $ 2000\n"
     ]
    }
   ],
   "source": [
    "horas = input(\"Horas trabajadas: \")\n",
    "costeHora = input(\"Coste por hora: \")\n",
    "paga = int(horas) * int(costeHora)\n",
    "print(\"Paga correspondiente: $\",paga)"
   ]
  }
 ],
 "metadata": {
  "kernelspec": {
   "display_name": "Python 3 (ipykernel)",
   "language": "python",
   "name": "python3"
  },
  "language_info": {
   "codemirror_mode": {
    "name": "ipython",
    "version": 3
   },
   "file_extension": ".py",
   "mimetype": "text/x-python",
   "name": "python",
   "nbconvert_exporter": "python",
   "pygments_lexer": "ipython3",
   "version": "3.9.13"
  }
 },
 "nbformat": 4,
 "nbformat_minor": 5
}
