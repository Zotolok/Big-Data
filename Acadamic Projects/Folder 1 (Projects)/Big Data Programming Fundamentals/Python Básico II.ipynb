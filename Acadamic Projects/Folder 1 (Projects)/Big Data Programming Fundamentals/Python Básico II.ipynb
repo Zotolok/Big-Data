{
 "cells": [
  {
   "cell_type": "markdown",
   "id": "c9e55f93",
   "metadata": {},
   "source": [
    "# Python Básico II\n",
    "## Alumno 1: Celic Gabriel Hernández Archundia\n",
    "## Alumno 2: Diego Iván García Zarza\n",
    "### Matrícula 1: 2877240\n",
    "### Matrícula 2: 2897709\n",
    "#### Uso de Strings"
   ]
  },
  {
   "cell_type": "code",
   "execution_count": 1,
   "id": "a5986e7f",
   "metadata": {},
   "outputs": [],
   "source": [
    "nombre = \"Celic Gabriel Hernández Archundia\""
   ]
  },
  {
   "cell_type": "code",
   "execution_count": 2,
   "id": "63e7ca1d",
   "metadata": {},
   "outputs": [
    {
     "data": {
      "text/plain": [
       "33"
      ]
     },
     "execution_count": 2,
     "metadata": {},
     "output_type": "execute_result"
    }
   ],
   "source": [
    "len(nombre)"
   ]
  },
  {
   "cell_type": "code",
   "execution_count": 4,
   "id": "6d8df418",
   "metadata": {},
   "outputs": [
    {
     "name": "stdout",
     "output_type": "stream",
     "text": [
      "Celic Gabriel Hernández Archundia\n",
      "Celic-Gabriel-Hernández-Archundia\n",
      "CelicGabrielHernándezArchundia\n"
     ]
    }
   ],
   "source": [
    "print(\" \".join([\"Celic\", \"Gabriel\", \"Hernández\", \"Archundia\"]))\n",
    "print(\"-\".join([\"Celic\", \"Gabriel\", \"Hernández\", \"Archundia\"]))\n",
    "print(\"\".join([\"Celic\", \"Gabriel\", \"Hernández\", \"Archundia\"]))"
   ]
  },
  {
   "cell_type": "markdown",
   "id": "c0225ba8",
   "metadata": {},
   "source": [
    "*Función **split** sirve para separar cadenas de caracteres a partir de un caracter en particular*"
   ]
  },
  {
   "cell_type": "code",
   "execution_count": 6,
   "id": "4ecdbad0",
   "metadata": {},
   "outputs": [
    {
     "data": {
      "text/plain": [
       "['Celic', 'Gabriel', 'Hernández', 'Archundia']"
      ]
     },
     "execution_count": 6,
     "metadata": {},
     "output_type": "execute_result"
    }
   ],
   "source": [
    "nombre.split(\" \")"
   ]
  },
  {
   "cell_type": "code",
   "execution_count": 7,
   "id": "963c6753",
   "metadata": {},
   "outputs": [
    {
     "data": {
      "text/plain": [
       "['Celic G', 'briel Hernández Archundi', '']"
      ]
     },
     "execution_count": 7,
     "metadata": {},
     "output_type": "execute_result"
    }
   ],
   "source": [
    "nombre.split('a')"
   ]
  },
  {
   "cell_type": "markdown",
   "id": "901372ac",
   "metadata": {},
   "source": [
    "Sirve **replace** sirve para sustituir caracteres por otros"
   ]
  },
  {
   "cell_type": "code",
   "execution_count": 10,
   "id": "dcea6b2a",
   "metadata": {},
   "outputs": [
    {
     "data": {
      "text/plain": [
       "'el guapo Gabriel Hernández Archundia'"
      ]
     },
     "execution_count": 10,
     "metadata": {},
     "output_type": "execute_result"
    }
   ],
   "source": [
    "nombre.replace('Celic', 'el guapo')"
   ]
  },
  {
   "cell_type": "code",
   "execution_count": 12,
   "id": "64c2b2c8",
   "metadata": {},
   "outputs": [
    {
     "data": {
      "text/plain": [
       "'Celic Gabriel Hernández Archundia'"
      ]
     },
     "execution_count": 12,
     "metadata": {},
     "output_type": "execute_result"
    }
   ],
   "source": [
    "nombre"
   ]
  },
  {
   "cell_type": "markdown",
   "id": "aeea455a",
   "metadata": {},
   "source": [
    "Función ***find*** sirve para buscar una cadena de caracteres dentro de otra. Encuentra solo la primer coincidencia"
   ]
  },
  {
   "cell_type": "code",
   "execution_count": 14,
   "id": "0437ddce",
   "metadata": {},
   "outputs": [
    {
     "data": {
      "text/plain": [
       "6"
      ]
     },
     "execution_count": 14,
     "metadata": {},
     "output_type": "execute_result"
    }
   ],
   "source": [
    "nombre.find(\"Gabriel\")"
   ]
  },
  {
   "cell_type": "code",
   "execution_count": 17,
   "id": "6de99b16",
   "metadata": {},
   "outputs": [
    {
     "data": {
      "text/plain": [
       "0"
      ]
     },
     "execution_count": 17,
     "metadata": {},
     "output_type": "execute_result"
    }
   ],
   "source": [
    "nombre.find(\"Celic\")"
   ]
  },
  {
   "cell_type": "code",
   "execution_count": 19,
   "id": "a255e35b",
   "metadata": {},
   "outputs": [
    {
     "data": {
      "text/plain": [
       "7"
      ]
     },
     "execution_count": 19,
     "metadata": {},
     "output_type": "execute_result"
    }
   ],
   "source": [
    "nombre.find(\"a\")"
   ]
  },
  {
   "cell_type": "markdown",
   "id": "938e1d6d",
   "metadata": {},
   "source": [
    "Función ***find*** sirve para buscar una cadena de caracteres dentro de otra buscándola desde el final. Pero sigue contando desde 0"
   ]
  },
  {
   "cell_type": "code",
   "execution_count": 20,
   "id": "ac5d3eb6",
   "metadata": {},
   "outputs": [
    {
     "data": {
      "text/plain": [
       "14"
      ]
     },
     "execution_count": 20,
     "metadata": {},
     "output_type": "execute_result"
    }
   ],
   "source": [
    "nombre.rfind(\"H\")"
   ]
  },
  {
   "cell_type": "markdown",
   "id": "3c7dc4a3",
   "metadata": {},
   "source": [
    "Concatenación"
   ]
  },
  {
   "cell_type": "code",
   "execution_count": 21,
   "id": "f463b23e",
   "metadata": {},
   "outputs": [
    {
     "data": {
      "text/plain": [
       "'CelicGabriel'"
      ]
     },
     "execution_count": 21,
     "metadata": {},
     "output_type": "execute_result"
    }
   ],
   "source": [
    "\"Celic\" + \"Gabriel\""
   ]
  },
  {
   "cell_type": "markdown",
   "id": "7ccd66b9",
   "metadata": {},
   "source": [
    "Uso de listas"
   ]
  },
  {
   "cell_type": "code",
   "execution_count": 11,
   "id": "7e68695e",
   "metadata": {},
   "outputs": [],
   "source": [
    "milista = [1,2,3,4,5,6]\n",
    "milista2 = [\"Celic\",\"Gabriel\"]\n",
    "milista3 = [ [1,2,3,4], [\"a\",\"b\",\"c\", \"d\"]] # Listas anidadas"
   ]
  },
  {
   "cell_type": "code",
   "execution_count": 12,
   "id": "87ad867b",
   "metadata": {},
   "outputs": [],
   "source": [
    "milista4 = [True, \"asda\", 1, 123.2131, []]"
   ]
  },
  {
   "cell_type": "code",
   "execution_count": 13,
   "id": "a2411df1",
   "metadata": {},
   "outputs": [
    {
     "data": {
      "text/plain": [
       "6"
      ]
     },
     "execution_count": 13,
     "metadata": {},
     "output_type": "execute_result"
    }
   ],
   "source": [
    "len(milista)"
   ]
  },
  {
   "cell_type": "code",
   "execution_count": 14,
   "id": "a989d5a5",
   "metadata": {},
   "outputs": [
    {
     "data": {
      "text/plain": [
       "'Celic'"
      ]
     },
     "execution_count": 14,
     "metadata": {},
     "output_type": "execute_result"
    }
   ],
   "source": [
    "milista2[0]"
   ]
  },
  {
   "cell_type": "code",
   "execution_count": 15,
   "id": "d9792e1c",
   "metadata": {},
   "outputs": [
    {
     "data": {
      "text/plain": [
       "'Gabriel'"
      ]
     },
     "execution_count": 15,
     "metadata": {},
     "output_type": "execute_result"
    }
   ],
   "source": [
    "milista2[-1]"
   ]
  },
  {
   "cell_type": "code",
   "execution_count": 31,
   "id": "f73e3413",
   "metadata": {},
   "outputs": [
    {
     "data": {
      "text/plain": [
       "[1, 2, 3, 4, 5, 6, 'Celic', 'Gabriel']"
      ]
     },
     "execution_count": 31,
     "metadata": {},
     "output_type": "execute_result"
    }
   ],
   "source": [
    "milista + milista2"
   ]
  },
  {
   "cell_type": "code",
   "execution_count": 43,
   "id": "69832e3c",
   "metadata": {},
   "outputs": [],
   "source": [
    "milista.append(7)"
   ]
  },
  {
   "cell_type": "code",
   "execution_count": 44,
   "id": "2a38b71b",
   "metadata": {},
   "outputs": [
    {
     "data": {
      "text/plain": [
       "[1, 2, 3, 4, 5, 6, 7]"
      ]
     },
     "execution_count": 44,
     "metadata": {},
     "output_type": "execute_result"
    }
   ],
   "source": [
    "milista"
   ]
  },
  {
   "cell_type": "code",
   "execution_count": 45,
   "id": "58b40a5e",
   "metadata": {},
   "outputs": [],
   "source": [
    "del milista[-1]"
   ]
  },
  {
   "cell_type": "code",
   "execution_count": 46,
   "id": "5b44a8e0",
   "metadata": {},
   "outputs": [
    {
     "data": {
      "text/plain": [
       "[1, 2, 3, 4, 5, 6]"
      ]
     },
     "execution_count": 46,
     "metadata": {},
     "output_type": "execute_result"
    }
   ],
   "source": [
    "milista"
   ]
  },
  {
   "cell_type": "code",
   "execution_count": 47,
   "id": "8d59e894",
   "metadata": {},
   "outputs": [
    {
     "data": {
      "text/plain": [
       "[1, 2, 3, 4, 5]"
      ]
     },
     "execution_count": 47,
     "metadata": {},
     "output_type": "execute_result"
    }
   ],
   "source": [
    "milista.remove(6)\n",
    "milista"
   ]
  },
  {
   "cell_type": "markdown",
   "id": "915fa865",
   "metadata": {},
   "source": [
    "La función **index** sirve para encontrar un elemento dentro de una lista"
   ]
  },
  {
   "cell_type": "code",
   "execution_count": 48,
   "id": "fee7d23c",
   "metadata": {},
   "outputs": [
    {
     "data": {
      "text/plain": [
       "2"
      ]
     },
     "execution_count": 48,
     "metadata": {},
     "output_type": "execute_result"
    }
   ],
   "source": [
    "milista.index(3)"
   ]
  },
  {
   "cell_type": "markdown",
   "id": "d8db363d",
   "metadata": {},
   "source": [
    "La función **insert** sirve para agregar un elemento a una lista en una posición específica "
   ]
  },
  {
   "cell_type": "code",
   "execution_count": 49,
   "id": "3f9ff234",
   "metadata": {},
   "outputs": [],
   "source": [
    "milista.insert(1,66) # posicion, valor o elemento"
   ]
  },
  {
   "cell_type": "code",
   "execution_count": 20,
   "id": "57edbd50",
   "metadata": {},
   "outputs": [
    {
     "data": {
      "text/plain": [
       "[1, 2, 3, 4, 5, 6]"
      ]
     },
     "execution_count": 20,
     "metadata": {},
     "output_type": "execute_result"
    }
   ],
   "source": [
    "milista"
   ]
  },
  {
   "cell_type": "markdown",
   "id": "63be3ecd",
   "metadata": {},
   "source": [
    "Uso de tuplas"
   ]
  },
  {
   "cell_type": "code",
   "execution_count": 139,
   "id": "cc47807b",
   "metadata": {},
   "outputs": [
    {
     "name": "stdout",
     "output_type": "stream",
     "text": [
      "(1, True, 'Celic')\n"
     ]
    }
   ],
   "source": [
    "miTupla = (1, True, \"Celic\")\n",
    "print(miTupla)"
   ]
  },
  {
   "cell_type": "code",
   "execution_count": 52,
   "id": "5e2d72bd",
   "metadata": {},
   "outputs": [
    {
     "data": {
      "text/plain": [
       "3"
      ]
     },
     "execution_count": 52,
     "metadata": {},
     "output_type": "execute_result"
    }
   ],
   "source": [
    "len(miTupla)"
   ]
  },
  {
   "cell_type": "code",
   "execution_count": 53,
   "id": "e062a3a0",
   "metadata": {},
   "outputs": [
    {
     "data": {
      "text/plain": [
       "'Celic'"
      ]
     },
     "execution_count": 53,
     "metadata": {},
     "output_type": "execute_result"
    }
   ],
   "source": [
    "miTupla[2]"
   ]
  },
  {
   "cell_type": "code",
   "execution_count": 58,
   "id": "bccbb8e2",
   "metadata": {},
   "outputs": [],
   "source": [
    "miTupla2 = 1,4,7,3,8,9,12,43,7"
   ]
  },
  {
   "cell_type": "markdown",
   "id": "e3b9735b",
   "metadata": {},
   "source": [
    "La función **count** devuelve el número de elementos repetidos de acuerdo a un elemento de búsqueda"
   ]
  },
  {
   "cell_type": "code",
   "execution_count": 59,
   "id": "adbb3ae1",
   "metadata": {},
   "outputs": [
    {
     "data": {
      "text/plain": [
       "2"
      ]
     },
     "execution_count": 59,
     "metadata": {},
     "output_type": "execute_result"
    }
   ],
   "source": [
    "miTupla2.count(7)"
   ]
  },
  {
   "cell_type": "code",
   "execution_count": 60,
   "id": "f3068f42",
   "metadata": {},
   "outputs": [
    {
     "data": {
      "text/plain": [
       "'Celic Gabriel Hernández Archundia'"
      ]
     },
     "execution_count": 60,
     "metadata": {},
     "output_type": "execute_result"
    }
   ],
   "source": [
    "nombre"
   ]
  },
  {
   "cell_type": "code",
   "execution_count": 61,
   "id": "47e43ffb",
   "metadata": {},
   "outputs": [
    {
     "data": {
      "text/plain": [
       "'a'"
      ]
     },
     "execution_count": 61,
     "metadata": {},
     "output_type": "execute_result"
    }
   ],
   "source": [
    "nombre[7]"
   ]
  },
  {
   "cell_type": "markdown",
   "id": "0bc03c09",
   "metadata": {},
   "source": [
    "Ciclo For"
   ]
  },
  {
   "cell_type": "code",
   "execution_count": 64,
   "id": "f7bdaffe",
   "metadata": {},
   "outputs": [
    {
     "name": "stdout",
     "output_type": "stream",
     "text": [
      "C\n",
      "e\n",
      "l\n",
      "i\n",
      "c\n",
      " \n",
      "G\n",
      "a\n",
      "b\n",
      "r\n",
      "i\n",
      "e\n",
      "l\n",
      " \n",
      "H\n",
      "e\n",
      "r\n",
      "n\n",
      "á\n",
      "n\n",
      "d\n",
      "e\n",
      "z\n",
      " \n",
      "A\n",
      "r\n",
      "c\n",
      "h\n",
      "u\n",
      "n\n",
      "d\n",
      "i\n",
      "a\n"
     ]
    }
   ],
   "source": [
    "for elemento in nombre:\n",
    "    print(elemento)"
   ]
  },
  {
   "cell_type": "markdown",
   "id": "81cd00b7",
   "metadata": {},
   "source": [
    "### Funciones en Python\n",
    "Las funciones se definen con una palabra clave **de** y se tienen la sintaxis:\n",
    "    def nombre_funcion(parametros):\n",
    "Para devolver un valor utilizando la palabra clave **return**\n",
    "\n",
    "Ejemplo 1: Escribe una función en Python que encuentre el valor más grande de una lista de números"
   ]
  },
  {
   "cell_type": "code",
   "execution_count": 17,
   "id": "9973e409",
   "metadata": {},
   "outputs": [
    {
     "data": {
      "text/plain": [
       "6"
      ]
     },
     "execution_count": 17,
     "metadata": {},
     "output_type": "execute_result"
    }
   ],
   "source": [
    "def busca_mayor(milista):\n",
    "    resultado = milista[0]\n",
    "    for numero in milista:\n",
    "        if numero > resultado:\n",
    "            resultado = numero\n",
    "    return resultado\n",
    "num_mayor = busca_mayor(milista)\n",
    "num_mayor"
   ]
  },
  {
   "cell_type": "markdown",
   "id": "9ea578f2",
   "metadata": {},
   "source": [
    "Ejemplo 2: Escribe una función en Python que lea un string y lo devuelva al revés"
   ]
  },
  {
   "cell_type": "code",
   "execution_count": 41,
   "id": "1c7182d2",
   "metadata": {},
   "outputs": [
    {
     "data": {
      "text/plain": [
       "[5, 4, 3, 2]"
      ]
     },
     "execution_count": 41,
     "metadata": {},
     "output_type": "execute_result"
    }
   ],
   "source": [
    "[x for x in range(5, 1, -1)]"
   ]
  },
  {
   "cell_type": "code",
   "execution_count": 50,
   "id": "128cad0b",
   "metadata": {
    "scrolled": true
   },
   "outputs": [
    {
     "name": "stdout",
     "output_type": "stream",
     "text": [
      "cileC\n"
     ]
    }
   ],
   "source": [
    "def revierteCadena(cadena):\n",
    "    resultado = \"\"\n",
    "    for index in range(len(cadena) -1, -1, -1):\n",
    "        resultado = resultado + cadena[index]\n",
    "    print(resultado)\n",
    "    \n",
    "revierteCadena(\"Celic\")"
   ]
  },
  {
   "cell_type": "markdown",
   "id": "6fc640a5",
   "metadata": {},
   "source": [
    "# Ejercicios II"
   ]
  },
  {
   "cell_type": "markdown",
   "id": "0c03c578",
   "metadata": {},
   "source": [
    "## Ejercicios de Diego Iván García Zarza"
   ]
  },
  {
   "cell_type": "markdown",
   "id": "81b6633b",
   "metadata": {},
   "source": [
    "##### 1. Escribe una función que reciba un número positivo entero \"n\" y muestre un cuadrado de tamaño n*n usando el número positivo."
   ]
  },
  {
   "cell_type": "code",
   "execution_count": 108,
   "id": "b7ca2fda",
   "metadata": {},
   "outputs": [
    {
     "name": "stdout",
     "output_type": "stream",
     "text": [
      "Ingresa el valor de un lado:  5\n",
      "----------\n",
      "----------\n",
      "----------\n",
      "----------\n",
      "----------\n",
      "El cuadrado se ve asi\n"
     ]
    }
   ],
   "source": [
    "def cuadrado():\n",
    "    n =  int(input(\"Ingresa el valor de un lado:  \" ))\n",
    "    for i in range(n):\n",
    "        print(\"--\" * (n))\n",
    "        \n",
    "    print(\"El cuadrado se ve asi\")\n",
    "cuadrado()\n"
   ]
  },
  {
   "cell_type": "markdown",
   "id": "9eccd382",
   "metadata": {},
   "source": [
    "##### 2. Escribe una función en Python que encuentre el palíndromo más cercano al valor de un número. Si hay dos palíndromos cuya distancia absoluta es la misma, muestra el valor más pequeño."
   ]
  },
  {
   "cell_type": "code",
   "execution_count": 111,
   "id": "d36a033a",
   "metadata": {},
   "outputs": [
    {
     "name": "stdout",
     "output_type": "stream",
     "text": [
      "Ingresa un numero para conocer el palindromo mas cercano: 10\n",
      "9\n"
     ]
    }
   ],
   "source": [
    "def encontrar_palindromo(numero):\n",
    "   \n",
    "    palindromo_inf = numero\n",
    "    palindromo_sup = numero\n",
    "    \n",
    "    while (str(palindromo_inf)[::-1]) != str(palindromo_inf):\n",
    "        palindromo_inf -= 1\n",
    "        \n",
    "    while (str(palindromo_sup)[::-1]) != str(palindromo_sup):\n",
    "        palindromo_sup += 1\n",
    "    \n",
    "    if (abs(numero - palindromo_sup)< abs(numero-palindromo_inf)):\n",
    "        palindromo = palindromo_sup\n",
    "    \n",
    "    else:\n",
    "        palindromo = palindromo_inf\n",
    "        \n",
    "    return palindromo\n",
    "\n",
    "numero = int(input(\"Ingresa un numero para conocer el palindromo mas cercano: \"))\n",
    "             \n",
    "resultado = encontrar_palindromo(numero)\n",
    "\n",
    "print(resultado)"
   ]
  },
  {
   "cell_type": "markdown",
   "id": "efad6adc",
   "metadata": {},
   "source": [
    "##### 3. Escribe una función en Python que encuentre los dígitos que no aparecen en un dado número de teléfono."
   ]
  },
  {
   "cell_type": "code",
   "execution_count": 112,
   "id": "82f2f627",
   "metadata": {
    "scrolled": true
   },
   "outputs": [
    {
     "name": "stdout",
     "output_type": "stream",
     "text": [
      "Ingresa el numero de telefono: 5540046660\n",
      "Los dígitos faltantes del numero  5540046660  son: {'9', '7', '1', '8', '2', '3'}\n"
     ]
    }
   ],
   "source": [
    "def encontrar_digitos_faltantes(numero):\n",
    "        digitos_faltantes = set(\"0123456789\") - set(str(numero))\n",
    "        return digitos_faltantes\n",
    "\n",
    "numero_telefono =input(\"Ingresa el numero de telefono: \")\n",
    "digitos_faltantes= encontrar_digitos_faltantes(numero_telefono)\n",
    "\n",
    "\n",
    "print(\"Los dígitos faltantes del numero \", numero_telefono, \" son:\", digitos_faltantes)\n",
    "\n"
   ]
  },
  {
   "cell_type": "code",
   "execution_count": 113,
   "id": "b5f0885d",
   "metadata": {},
   "outputs": [
    {
     "name": "stdout",
     "output_type": "stream",
     "text": [
      "Ingrese un numero telefonico: 456\n",
      "El numero que ingreso le faltan:  7  digitos\n"
     ]
    }
   ],
   "source": [
    "def digitos_faltantes(numero):\n",
    "    if len(numero) < 10:\n",
    "        print(\"El numero que ingreso le faltan: \", 10-len(numero), \" digitos\")\n",
    "    elif len(numero) > 10:\n",
    "        print(\"El numero que ingreso es invalido ya que tiene mas de 10 numeros\")\n",
    "    else:\n",
    "        print(\"El numero que ingreso esta correcto, felcidades\")\n",
    "        \n",
    "numero = input(\"Ingrese un numero telefonico: \")\n",
    "digitos_faltantes(numero)"
   ]
  },
  {
   "cell_type": "markdown",
   "id": "993a793b",
   "metadata": {},
   "source": [
    "##### 4. Escribe una función en Python que calcule la suma de los dígitos de un número."
   ]
  },
  {
   "cell_type": "code",
   "execution_count": 115,
   "id": "ef86ac33",
   "metadata": {},
   "outputs": [
    {
     "name": "stdout",
     "output_type": "stream",
     "text": [
      "Ingrese algun nunero que desee sumar entre todos sus digitos: 3456\n",
      "La suma es igual a: 18\n"
     ]
    }
   ],
   "source": [
    "from numpy import double\n",
    "def suma_numeros():\n",
    "    numero =int(input(\"Ingrese algun nunero que desee sumar entre todos sus digitos: \"))\n",
    "    \n",
    "    suma = 0\n",
    "    \n",
    "    while numero > 0:\n",
    "        digito = numero % 10\n",
    "        suma += digito\n",
    "        numero //= 10\n",
    "    print (\"La suma es igual a:\", suma)\n",
    "suma_numeros()"
   ]
  },
  {
   "cell_type": "markdown",
   "id": "c32d4f99",
   "metadata": {},
   "source": [
    "##### 5. Escribe una función en Python que reciba una oración y la convierta a una lista de palabras."
   ]
  },
  {
   "cell_type": "code",
   "execution_count": 116,
   "id": "7eb7d75f",
   "metadata": {},
   "outputs": [
    {
     "name": "stdout",
     "output_type": "stream",
     "text": [
      "Ingresa una oracion o frase: Hola soy Homelo\n",
      "Hola\n",
      "soy\n",
      "Homelo\n"
     ]
    }
   ],
   "source": [
    "def separador_palabras():\n",
    "    oracion = input(\"Ingresa una oracion o frase: \")\n",
    "    palabras = oracion.split()\n",
    "\n",
    "\n",
    "    for palabra in palabras:\n",
    "        print (palabra)\n",
    "separador_palabras()"
   ]
  },
  {
   "cell_type": "markdown",
   "id": "161ef1a8",
   "metadata": {},
   "source": [
    "##### 6. Escribe una función en Python que encuentre el dígito más grande y el más pequeño de un número."
   ]
  },
  {
   "cell_type": "code",
   "execution_count": 118,
   "id": "21e9dce0",
   "metadata": {},
   "outputs": [
    {
     "name": "stdout",
     "output_type": "stream",
     "text": [
      "Ingrese el numero que quiere resolver: 10\n",
      "\n",
      "El digito mas grande es : 1 \n",
      "El digito mas pequeño es: 0\n"
     ]
    }
   ],
   "source": [
    "def encontrar_max_min_digito():\n",
    "    numero = int(input(\"Ingrese el numero que quiere resolver: \"))\n",
    "    digito_min = 9\n",
    "    digito_max = 0\n",
    "    \n",
    "    while numero  !=0:\n",
    "        digito = numero % 10\n",
    "        if digito > digito_max:\n",
    "            digito_max = digito\n",
    "        if digito < digito_min:\n",
    "            digito_min = digito\n",
    "    \n",
    "        numero //= 10\n",
    "    \n",
    "    print(\"\\nEl digito mas grande es :\",digito_max, \"\\nEl digito mas pequeño es:\", digito_min)\n",
    "            \n",
    "\n",
    "encontrar_max_min_digito()"
   ]
  },
  {
   "cell_type": "markdown",
   "id": "13572b70",
   "metadata": {},
   "source": [
    "##### 7. Escribe una función en Python que indique si en una cadena de caracteres aparecen dos símbolos iguales consecutivos."
   ]
  },
  {
   "cell_type": "code",
   "execution_count": 122,
   "id": "744b5f2a",
   "metadata": {},
   "outputs": [
    {
     "name": "stdout",
     "output_type": "stream",
     "text": [
      "Ingrese una cadena de caracteres: ooola\n",
      "\n",
      "Los símbolos consecutivos son: oo\n"
     ]
    }
   ],
   "source": [
    "def cadena_simbolos(cadena):\n",
    "    \n",
    "    simbolo_anterior = \"\"\n",
    "\n",
    "    for simbolo in range(len(cadena)-1):\n",
    "        if cadena[simbolo] == cadena[simbolo+1]:\n",
    "            if cadena[simbolo] != simbolo_anterior:\n",
    "                print(f\"\\nLos símbolos consecutivos son: {cadena[simbolo]}{cadena[simbolo+1]}\")\n",
    "                simbolo_anterior = cadena[simbolo]\n",
    "\n",
    "\n",
    "cadena = input(\"Ingrese una cadena de caracteres: \")\n",
    "\n",
    "cadena_simbolos(cadena)"
   ]
  },
  {
   "cell_type": "markdown",
   "id": "ba842e98",
   "metadata": {},
   "source": [
    "##### 8. Escribe una función en Python que reciba una lista de palabras e indique la palabra más larga y su tamaño."
   ]
  },
  {
   "cell_type": "code",
   "execution_count": 123,
   "id": "4e30ace4",
   "metadata": {},
   "outputs": [
    {
     "name": "stdout",
     "output_type": "stream",
     "text": [
      "Ingrese varias palabras: El deber de un soldado es proteger a la humanidad\n",
      "La palabra más larga es 'humanidad' con un tamaño de 9\n"
     ]
    }
   ],
   "source": [
    "def lista_palabras (cadena):\n",
    "    \n",
    "    palabras = cadena.split()  \n",
    "    palabra_mas_larga = \"\"\n",
    "    tamaño_max = 0\n",
    "    \n",
    "    for palabra in palabras:\n",
    "        tamaño_palabra = len(palabra)\n",
    "        if tamaño_palabra > tamaño_max:\n",
    "            palabra_mas_larga = palabra\n",
    "            tamaño_max = tamaño_palabra\n",
    "    \n",
    "    print(f\"La palabra más larga es '{palabra_mas_larga}' con un tamaño de {tamaño_max}\")\n",
    "\n",
    "\n",
    "cadena = input(\"Ingrese varias palabras: \")\n",
    "lista_palabras(cadena)"
   ]
  },
  {
   "cell_type": "markdown",
   "id": "db8f2cac",
   "metadata": {},
   "source": [
    "##### 9. Escribe una función en Python que reciba una cadena de caracteres y elimine aquellos cuyo índice sea un número impar."
   ]
  },
  {
   "cell_type": "code",
   "execution_count": 125,
   "id": "f3182dbf",
   "metadata": {},
   "outputs": [
    {
     "name": "stdout",
     "output_type": "stream",
     "text": [
      "Ingresa una cadena de caracteres: Halo es el mejor juego\n",
      "Hl se eo ug\n"
     ]
    }
   ],
   "source": [
    "def eliminar_numero_impar(cadena):\n",
    "    nueva_cadena = \"\"\n",
    "    for numero, caracter in enumerate(cadena):\n",
    "        if numero % 2 == 0:\n",
    "            nueva_cadena += caracter\n",
    "    return nueva_cadena\n",
    "\n",
    "cadena= input(\"Ingresa una cadena de caracteres: \")\n",
    "print(eliminar_numero_impar(cadena))"
   ]
  },
  {
   "cell_type": "markdown",
   "id": "cd3dd6e2",
   "metadata": {},
   "source": [
    "##### 10. Escribe una función en Python que ordene una cadena de caracteres de manera lexicográfica."
   ]
  },
  {
   "cell_type": "code",
   "execution_count": 127,
   "id": "84a6370f",
   "metadata": {},
   "outputs": [
    {
     "name": "stdout",
     "output_type": "stream",
     "text": [
      "Ingresa un texto u oracion a ordenar: Titanfall es mejor que Apex\n",
      "        A T a a e e e e f i j l l m n o p q r s t u x\n"
     ]
    }
   ],
   "source": [
    "def orden_alfabetico():\n",
    "    cadena = input(\"Ingresa un texto u oracion a ordenar: \")\n",
    "    cadena_ordenada = \" \".join(sorted(cadena))\n",
    "    print(cadena_ordenada)\n",
    "orden_alfabetico()"
   ]
  },
  {
   "cell_type": "markdown",
   "id": "a8b0757e",
   "metadata": {},
   "source": [
    "## Ejercicios de Celic Gabriel Hernández Archundia"
   ]
  },
  {
   "cell_type": "markdown",
   "id": "4db9736d",
   "metadata": {},
   "source": [
    "##### 11. Escribe una función en Python que recibe un conjunto de valores RGB y los convierta a código Hexadecimal."
   ]
  },
  {
   "cell_type": "code",
   "execution_count": 130,
   "id": "056a0651",
   "metadata": {
    "scrolled": true
   },
   "outputs": [
    {
     "name": "stdout",
     "output_type": "stream",
     "text": [
      "Bienvenido. Por favor, introduce los valores RGB\n",
      "\n",
      "R:255\n",
      "G:100\n",
      "B:34\n",
      "\n",
      "Resultados Forma 1 (Función)\n",
      "\n",
      "Código Hexadecimal: FF 64 22\n",
      "\n",
      "Resultado Forma 2 (Método hex)\n",
      "\n",
      "Código Hexadecimal: 0xff 0x64 0x22\n"
     ]
    }
   ],
   "source": [
    "# Diccionario de conversión de decimal a hexadecimal\n",
    "tablaConversion = {0: '0', 1: '1', 2: '2', 3: '3', 4: '4',\n",
    "                   5: '5', 6: '6', 7: '7',\n",
    "                   8: '8', 9: '9', 10: 'A', 11: 'B', 12: 'C',\n",
    "                   13: 'D', 14: 'E', 15: 'F'}\n",
    "\n",
    "# Función para convertir de decimal a Hexadecimal\n",
    "def convertirAHexadecimal(decimal):\n",
    "    hexadecimal = ''\n",
    "    while (decimal > 0):\n",
    "        residuo = decimal % 16\n",
    "        hexadecimal = tablaConversion[residuo] + hexadecimal\n",
    "        decimal = decimal // 16\n",
    "\n",
    "    return hexadecimal\n",
    "\n",
    "# Función para pasar de valores RGB a código hexadecimal\n",
    "def RGB_CHexadecimal():\n",
    "    print(\"Bienvenido. Por favor, introduce los valores RGB\\n\")\n",
    "    R = input(\"R:\")\n",
    "    R = int(R)\n",
    "    G = input(\"G:\")\n",
    "    G = int(G)\n",
    "    B = input(\"B:\")\n",
    "    B = int(B)\n",
    "    \n",
    "    if (R > 255): R = 255\n",
    "    if (G > 255): G = 255\n",
    "    if (B > 255): B = 255\n",
    "    if (R < 0): R = 0\n",
    "    if (G < 0): G = 0\n",
    "    if (B < 0): B = 0\n",
    "    \n",
    "    print(\"\\nResultados Forma 1 (Función)\")\n",
    "    print(\"\\nCódigo Hexadecimal:\",convertirAHexadecimal(R)\n",
    "                               ,convertirAHexadecimal(G)\n",
    "                               ,convertirAHexadecimal(B))\n",
    "    \n",
    "    print(\"\\nResultado Forma 2 (Método hex)\")\n",
    "    print(\"\\nCódigo Hexadecimal:\",hex(R)\n",
    "                                 ,hex(G)\n",
    "                                 ,hex(B))\n",
    "    \n",
    "\n",
    "RGB_CHexadecimal()"
   ]
  },
  {
   "cell_type": "markdown",
   "id": "499b39f9",
   "metadata": {},
   "source": [
    "##### 12. Escribe una función en Python que convierta los valores de una tupla a string"
   ]
  },
  {
   "cell_type": "code",
   "execution_count": 150,
   "id": "b0599c81",
   "metadata": {},
   "outputs": [
    {
     "name": "stdout",
     "output_type": "stream",
     "text": [
      "('1', '45.3', 'True', 'Holaaa')\n"
     ]
    }
   ],
   "source": [
    "def convertirString(nuevaTupla):\n",
    "    y = list(nuevaTupla)\n",
    "    i = 0\n",
    "    \n",
    "    for elementos in nuevaTupla:\n",
    "        y[i] = str(elementos)\n",
    "        i+=1\n",
    "    x = tuple(y)\n",
    "    \n",
    "    return x\n",
    "    \n",
    "myTupla = (1, 45.3, True, \"Holaaa\")\n",
    "\n",
    "print(convertirString(myTupla))"
   ]
  },
  {
   "cell_type": "markdown",
   "id": "847d22c1",
   "metadata": {},
   "source": [
    "##### 13. Escribe una función en Python que sume todos los valores numéricos de una lista"
   ]
  },
  {
   "cell_type": "code",
   "execution_count": 151,
   "id": "af7e6e43",
   "metadata": {},
   "outputs": [
    {
     "name": "stdout",
     "output_type": "stream",
     "text": [
      "25.5\n"
     ]
    }
   ],
   "source": [
    "def sumaValoresLista(listaValores):\n",
    "    x = 1\n",
    "    y = 1.1\n",
    "    suma = 0\n",
    "    for elemento in listaValores:\n",
    "        if type(elemento) == type(x) or type(elemento) == type(y):\n",
    "            suma += elemento\n",
    "    \n",
    "    return suma\n",
    "\n",
    "Lista = [1,2,3,4,5.5, \"Celic\", True, 10]\n",
    "print(sumaValoresLista(Lista))"
   ]
  },
  {
   "cell_type": "markdown",
   "id": "dc6966e4",
   "metadata": {},
   "source": [
    "##### 14. Escribe una función en Python que remueva valores duplicados de una lista"
   ]
  },
  {
   "cell_type": "code",
   "execution_count": 152,
   "id": "829c60c3",
   "metadata": {},
   "outputs": [
    {
     "name": "stdout",
     "output_type": "stream",
     "text": [
      "[1, 23, 'Celic', 'Carlos', 45, 45.5]\n"
     ]
    }
   ],
   "source": [
    "def removerDuplicado(thisList):\n",
    "    for elemento in thisList:\n",
    "        if thisList.count(elemento) > 1:\n",
    "            thisList.remove(elemento)\n",
    "    \n",
    "    return thisList\n",
    "    \n",
    "ListaD = [1, 1, 23, \"Celic\", \"Celic\", \"Carlos\", 45, 45.5]\n",
    "print(removerDuplicado(ListaD))"
   ]
  },
  {
   "cell_type": "markdown",
   "id": "7b12e4e9",
   "metadata": {},
   "source": [
    "##### 15. Escribe una función en Python que revise si una lista está vacía o no."
   ]
  },
  {
   "cell_type": "code",
   "execution_count": 1,
   "id": "5d5235ab",
   "metadata": {},
   "outputs": [
    {
     "name": "stdout",
     "output_type": "stream",
     "text": [
      "Lista 1: [1, True, 'Celic']\n",
      "Lista 2: Esta lista está vacía\n"
     ]
    }
   ],
   "source": [
    "def estaVaciaQ(estaLista):\n",
    "    j = len(estaLista)\n",
    "    \n",
    "    if j == 0:\n",
    "        \n",
    "        return \"Esta lista está vacía\"\n",
    "    else:\n",
    "        \n",
    "        return estaLista\n",
    "\n",
    "       \n",
    "ListaV1 = [1, True, \"Celic\"]\n",
    "ListaV2 = []\n",
    "\n",
    "print (\"Lista 1:\",estaVaciaQ(ListaV1))\n",
    "print (\"Lista 2:\",estaVaciaQ(ListaV2))"
   ]
  },
  {
   "cell_type": "markdown",
   "id": "77bc6843",
   "metadata": {},
   "source": [
    "##### 16. Escribe una función en Python que genere todas las permutaciones de una lista."
   ]
  },
  {
   "cell_type": "code",
   "execution_count": 1,
   "id": "f4e2cf3c",
   "metadata": {},
   "outputs": [
    {
     "name": "stdout",
     "output_type": "stream",
     "text": [
      "[1, 2, 3]\n",
      "[1, 3, 2]\n",
      "[2, 1, 3]\n",
      "[2, 3, 1]\n",
      "[3, 1, 2]\n",
      "[3, 2, 1]\n"
     ]
    }
   ],
   "source": [
    "def permutaciones(empezar, fin=[]):\n",
    "    if len(empezar) == 0:\n",
    "        print(fin)\n",
    "    else:\n",
    "        for i in range(len(empezar)):\n",
    "            permutaciones(empezar[:i] + empezar[i+1:], fin + empezar[i:i+1])\n",
    "    \n",
    "listaPe = [1,2,3]\n",
    "permutaciones(listaPe)"
   ]
  },
  {
   "cell_type": "markdown",
   "id": "810cc962",
   "metadata": {},
   "source": [
    "##### 17. Escribe una función en Python que encuentre el segundo valor más grande de una lista de números."
   ]
  },
  {
   "cell_type": "code",
   "execution_count": 35,
   "id": "9ef4b30c",
   "metadata": {},
   "outputs": [
    {
     "name": "stdout",
     "output_type": "stream",
     "text": [
      "El segundo número más alto es: 8\n"
     ]
    }
   ],
   "source": [
    "def segundoMayor(listaM):\n",
    "    \n",
    "    return (sorted(listaM, reverse=True)[1])\n",
    "    \n",
    "    \n",
    "    \n",
    "listaMayor = [4,7,8,2,9,5]\n",
    "print(\"El segundo número más alto es:\",segundoMayor(listaMayor))"
   ]
  },
  {
   "cell_type": "markdown",
   "id": "d1f53bd1",
   "metadata": {},
   "source": [
    "##### 18. Escribe una función en Python que imprima todos los valores únicos de una lista"
   ]
  },
  {
   "cell_type": "code",
   "execution_count": 105,
   "id": "d096bc26",
   "metadata": {
    "scrolled": true
   },
   "outputs": [
    {
     "name": "stdout",
     "output_type": "stream",
     "text": [
      "[3, 8, 1]\n",
      "Valores únicos de la lista: [5, 6, 9, 2]\n"
     ]
    }
   ],
   "source": [
    "from collections import Counter\n",
    "\n",
    "def valoresUnicos(listaAñadida):\n",
    "    x = 0\n",
    "    listaR = [k for k,v in Counter(listaAñadida).items() if v>1]\n",
    "    print(listaR)\n",
    "    nuevaLista = listaAñadida\n",
    "    for j in listaR:        \n",
    "        for i in listaAñadida:\n",
    "            if j == i:\n",
    "                nuevaLista.remove(j)\n",
    "                \n",
    "            if j == i+1:\n",
    "                nuevaLista.remove(j)\n",
    "            \n",
    "            if j+1 == i:\n",
    "                nuevaLista.remove(j)\n",
    "        \n",
    "    return nuevaLista\n",
    "    \n",
    "\n",
    "    \n",
    "listaRepetida = [3,3,5,6,9,8,8,1,2,1]\n",
    "print(\"Valores únicos de la lista:\",valoresUnicos(listaRepetida))"
   ]
  },
  {
   "cell_type": "markdown",
   "id": "5b7d4f2e",
   "metadata": {},
   "source": [
    "##### 19. Escribe una función en Python que convierta una cadena a una lista."
   ]
  },
  {
   "cell_type": "code",
   "execution_count": 43,
   "id": "70a9ee21",
   "metadata": {},
   "outputs": [
    {
     "name": "stdout",
     "output_type": "stream",
     "text": [
      "Nueva lista: ['H', 'o', 'l', 'a', ',', ' ', 's', 'o', 'y', ' ', 'C', 'e', 'l', 'i', 'c', '.', ' ', 'T', 'e', 'n', 'g', 'o', ' ', '2', '0', ' ', 'a', 'ñ', 'o', 's']\n"
     ]
    }
   ],
   "source": [
    "def convertirALista(cadena):\n",
    "    return list(cadena)\n",
    "    \n",
    "texto = \"Hola, soy Celic. Tengo 20 años\"\n",
    "print(\"Nueva lista:\",convertirALista(texto))"
   ]
  },
  {
   "cell_type": "markdown",
   "id": "e7f15b3f",
   "metadata": {},
   "source": [
    "##### 20. Escribe una función en Python que revise si un string es palíndromo o no."
   ]
  },
  {
   "cell_type": "code",
   "execution_count": 46,
   "id": "324f5a8a",
   "metadata": {},
   "outputs": [
    {
     "name": "stdout",
     "output_type": "stream",
     "text": [
      "madam\n",
      "Resultado: madam es un palíndromo\n"
     ]
    }
   ],
   "source": [
    "def esPalindromo(palabra):\n",
    "    if str(palabra) == str(palabra)[::-1]:\n",
    "        respuesta = \"es un palíndromo\"\n",
    "    else:\n",
    "        respuesta = \"no es un palíndromo\"\n",
    "        \n",
    "    return respuesta\n",
    "\n",
    "palabra = input()\n",
    "print(\"Resultado:\",palabra,esPalindromo(palabra))"
   ]
  }
 ],
 "metadata": {
  "kernelspec": {
   "display_name": "Python 3 (ipykernel)",
   "language": "python",
   "name": "python3"
  },
  "language_info": {
   "codemirror_mode": {
    "name": "ipython",
    "version": 3
   },
   "file_extension": ".py",
   "mimetype": "text/x-python",
   "name": "python",
   "nbconvert_exporter": "python",
   "pygments_lexer": "ipython3",
   "version": "3.9.13"
  }
 },
 "nbformat": 4,
 "nbformat_minor": 5
}
