{
  "cells": [
    {
      "cell_type": "markdown",
      "source": [
        "# Nombre: Celic Gabriel Hernández Archundia\n",
        "# Matrícula: 2877240"
      ],
      "metadata": {
        "id": "LQGc1XlbZ5u9"
      }
    },
    {
      "cell_type": "code",
      "execution_count": 1,
      "metadata": {
        "id": "wqBcfMhmwPXN"
      },
      "outputs": [],
      "source": [
        "%%capture\n",
        "!pip install rpy2==3.5.1"
      ]
    },
    {
      "cell_type": "code",
      "execution_count": 2,
      "metadata": {
        "id": "kleXub7JxaI9"
      },
      "outputs": [],
      "source": [
        "%load_ext rpy2.ipython"
      ]
    },
    {
      "cell_type": "code",
      "source": [
        "from google.colab import drive\n",
        "drive.mount('/content/drive', force_remount=True)"
      ],
      "metadata": {
        "colab": {
          "base_uri": "https://localhost:8080/"
        },
        "id": "CQIe_6Hx-NQM",
        "outputId": "63d8d54f-a78a-4308-a06e-a470e02e83c7"
      },
      "execution_count": 3,
      "outputs": [
        {
          "output_type": "stream",
          "name": "stdout",
          "text": [
            "Mounted at /content/drive\n"
          ]
        }
      ]
    },
    {
      "cell_type": "markdown",
      "source": [
        "## Mounted at /content/drive"
      ],
      "metadata": {
        "id": "rgF1_8yb-puD"
      }
    },
    {
      "cell_type": "code",
      "execution_count": 4,
      "metadata": {
        "colab": {
          "base_uri": "https://localhost:8080/"
        },
        "id": "9yNGuGIdxhZG",
        "outputId": "c62c9de7-5b74-4086-c07e-703051bc0c3e"
      },
      "outputs": [
        {
          "output_type": "stream",
          "name": "stderr",
          "text": [
            "WARNING:rpy2.rinterface_lib.callbacks:R[write to console]: Installing package into ‘/usr/local/lib/R/site-library’\n",
            "(as ‘lib’ is unspecified)\n",
            "\n",
            "WARNING:rpy2.rinterface_lib.callbacks:R[write to console]: also installing the dependencies ‘textshaping’, ‘conflicted’, ‘jsonlite’, ‘ragg’, ‘stringr’\n",
            "\n",
            "\n",
            "WARNING:rpy2.rinterface_lib.callbacks:R[write to console]: trying URL 'https://cran.rstudio.com/src/contrib/textshaping_0.3.6.tar.gz'\n",
            "\n",
            "WARNING:rpy2.rinterface_lib.callbacks:R[write to console]: Content type 'application/x-gzip'\n",
            "WARNING:rpy2.rinterface_lib.callbacks:R[write to console]:  length 35722 bytes (34 KB)\n",
            "\n",
            "WARNING:rpy2.rinterface_lib.callbacks:R[write to console]: =\n",
            "WARNING:rpy2.rinterface_lib.callbacks:R[write to console]: =\n",
            "WARNING:rpy2.rinterface_lib.callbacks:R[write to console]: =\n",
            "WARNING:rpy2.rinterface_lib.callbacks:R[write to console]: =\n",
            "WARNING:rpy2.rinterface_lib.callbacks:R[write to console]: =\n",
            "WARNING:rpy2.rinterface_lib.callbacks:R[write to console]: =\n",
            "WARNING:rpy2.rinterface_lib.callbacks:R[write to console]: =\n",
            "WARNING:rpy2.rinterface_lib.callbacks:R[write to console]: =\n",
            "WARNING:rpy2.rinterface_lib.callbacks:R[write to console]: =\n",
            "WARNING:rpy2.rinterface_lib.callbacks:R[write to console]: =\n",
            "WARNING:rpy2.rinterface_lib.callbacks:R[write to console]: =\n",
            "WARNING:rpy2.rinterface_lib.callbacks:R[write to console]: =\n",
            "WARNING:rpy2.rinterface_lib.callbacks:R[write to console]: =\n",
            "WARNING:rpy2.rinterface_lib.callbacks:R[write to console]: =\n",
            "WARNING:rpy2.rinterface_lib.callbacks:R[write to console]: =\n",
            "WARNING:rpy2.rinterface_lib.callbacks:R[write to console]: =\n",
            "WARNING:rpy2.rinterface_lib.callbacks:R[write to console]: =\n",
            "WARNING:rpy2.rinterface_lib.callbacks:R[write to console]: =\n",
            "WARNING:rpy2.rinterface_lib.callbacks:R[write to console]: =\n",
            "WARNING:rpy2.rinterface_lib.callbacks:R[write to console]: =\n",
            "WARNING:rpy2.rinterface_lib.callbacks:R[write to console]: =\n",
            "WARNING:rpy2.rinterface_lib.callbacks:R[write to console]: =\n",
            "WARNING:rpy2.rinterface_lib.callbacks:R[write to console]: =\n",
            "WARNING:rpy2.rinterface_lib.callbacks:R[write to console]: =\n",
            "WARNING:rpy2.rinterface_lib.callbacks:R[write to console]: =\n",
            "WARNING:rpy2.rinterface_lib.callbacks:R[write to console]: =\n",
            "WARNING:rpy2.rinterface_lib.callbacks:R[write to console]: =\n",
            "WARNING:rpy2.rinterface_lib.callbacks:R[write to console]: =\n",
            "WARNING:rpy2.rinterface_lib.callbacks:R[write to console]: =\n",
            "WARNING:rpy2.rinterface_lib.callbacks:R[write to console]: =\n",
            "WARNING:rpy2.rinterface_lib.callbacks:R[write to console]: =\n",
            "WARNING:rpy2.rinterface_lib.callbacks:R[write to console]: =\n",
            "WARNING:rpy2.rinterface_lib.callbacks:R[write to console]: =\n",
            "WARNING:rpy2.rinterface_lib.callbacks:R[write to console]: =\n",
            "WARNING:rpy2.rinterface_lib.callbacks:R[write to console]: =\n",
            "WARNING:rpy2.rinterface_lib.callbacks:R[write to console]: =\n",
            "WARNING:rpy2.rinterface_lib.callbacks:R[write to console]: =\n",
            "WARNING:rpy2.rinterface_lib.callbacks:R[write to console]: =\n",
            "WARNING:rpy2.rinterface_lib.callbacks:R[write to console]: =\n",
            "WARNING:rpy2.rinterface_lib.callbacks:R[write to console]: =\n",
            "WARNING:rpy2.rinterface_lib.callbacks:R[write to console]: =\n",
            "WARNING:rpy2.rinterface_lib.callbacks:R[write to console]: =\n",
            "WARNING:rpy2.rinterface_lib.callbacks:R[write to console]: =\n",
            "WARNING:rpy2.rinterface_lib.callbacks:R[write to console]: =\n",
            "WARNING:rpy2.rinterface_lib.callbacks:R[write to console]: =\n",
            "WARNING:rpy2.rinterface_lib.callbacks:R[write to console]: =\n",
            "WARNING:rpy2.rinterface_lib.callbacks:R[write to console]: =\n",
            "WARNING:rpy2.rinterface_lib.callbacks:R[write to console]: =\n",
            "WARNING:rpy2.rinterface_lib.callbacks:R[write to console]: =\n",
            "WARNING:rpy2.rinterface_lib.callbacks:R[write to console]: =\n",
            "WARNING:rpy2.rinterface_lib.callbacks:R[write to console]: \n",
            "\n",
            "WARNING:rpy2.rinterface_lib.callbacks:R[write to console]: downloaded 34 KB\n",
            "\n",
            "\n",
            "WARNING:rpy2.rinterface_lib.callbacks:R[write to console]: trying URL 'https://cran.rstudio.com/src/contrib/conflicted_1.2.0.tar.gz'\n",
            "\n",
            "WARNING:rpy2.rinterface_lib.callbacks:R[write to console]: Content type 'application/x-gzip'\n",
            "WARNING:rpy2.rinterface_lib.callbacks:R[write to console]:  length 17071 bytes (16 KB)\n",
            "\n",
            "WARNING:rpy2.rinterface_lib.callbacks:R[write to console]: =\n",
            "WARNING:rpy2.rinterface_lib.callbacks:R[write to console]: =\n",
            "WARNING:rpy2.rinterface_lib.callbacks:R[write to console]: =\n",
            "WARNING:rpy2.rinterface_lib.callbacks:R[write to console]: =\n",
            "WARNING:rpy2.rinterface_lib.callbacks:R[write to console]: =\n",
            "WARNING:rpy2.rinterface_lib.callbacks:R[write to console]: =\n",
            "WARNING:rpy2.rinterface_lib.callbacks:R[write to console]: =\n",
            "WARNING:rpy2.rinterface_lib.callbacks:R[write to console]: =\n",
            "WARNING:rpy2.rinterface_lib.callbacks:R[write to console]: =\n",
            "WARNING:rpy2.rinterface_lib.callbacks:R[write to console]: =\n",
            "WARNING:rpy2.rinterface_lib.callbacks:R[write to console]: =\n",
            "WARNING:rpy2.rinterface_lib.callbacks:R[write to console]: =\n",
            "WARNING:rpy2.rinterface_lib.callbacks:R[write to console]: =\n",
            "WARNING:rpy2.rinterface_lib.callbacks:R[write to console]: =\n",
            "WARNING:rpy2.rinterface_lib.callbacks:R[write to console]: =\n",
            "WARNING:rpy2.rinterface_lib.callbacks:R[write to console]: =\n",
            "WARNING:rpy2.rinterface_lib.callbacks:R[write to console]: =\n",
            "WARNING:rpy2.rinterface_lib.callbacks:R[write to console]: =\n",
            "WARNING:rpy2.rinterface_lib.callbacks:R[write to console]: =\n",
            "WARNING:rpy2.rinterface_lib.callbacks:R[write to console]: =\n",
            "WARNING:rpy2.rinterface_lib.callbacks:R[write to console]: =\n",
            "WARNING:rpy2.rinterface_lib.callbacks:R[write to console]: =\n",
            "WARNING:rpy2.rinterface_lib.callbacks:R[write to console]: =\n",
            "WARNING:rpy2.rinterface_lib.callbacks:R[write to console]: =\n",
            "WARNING:rpy2.rinterface_lib.callbacks:R[write to console]: =\n",
            "WARNING:rpy2.rinterface_lib.callbacks:R[write to console]: =\n",
            "WARNING:rpy2.rinterface_lib.callbacks:R[write to console]: =\n",
            "WARNING:rpy2.rinterface_lib.callbacks:R[write to console]: =\n",
            "WARNING:rpy2.rinterface_lib.callbacks:R[write to console]: =\n",
            "WARNING:rpy2.rinterface_lib.callbacks:R[write to console]: =\n",
            "WARNING:rpy2.rinterface_lib.callbacks:R[write to console]: =\n",
            "WARNING:rpy2.rinterface_lib.callbacks:R[write to console]: =\n",
            "WARNING:rpy2.rinterface_lib.callbacks:R[write to console]: =\n",
            "WARNING:rpy2.rinterface_lib.callbacks:R[write to console]: =\n",
            "WARNING:rpy2.rinterface_lib.callbacks:R[write to console]: =\n",
            "WARNING:rpy2.rinterface_lib.callbacks:R[write to console]: =\n",
            "WARNING:rpy2.rinterface_lib.callbacks:R[write to console]: =\n",
            "WARNING:rpy2.rinterface_lib.callbacks:R[write to console]: =\n",
            "WARNING:rpy2.rinterface_lib.callbacks:R[write to console]: =\n",
            "WARNING:rpy2.rinterface_lib.callbacks:R[write to console]: =\n",
            "WARNING:rpy2.rinterface_lib.callbacks:R[write to console]: =\n",
            "WARNING:rpy2.rinterface_lib.callbacks:R[write to console]: =\n",
            "WARNING:rpy2.rinterface_lib.callbacks:R[write to console]: =\n",
            "WARNING:rpy2.rinterface_lib.callbacks:R[write to console]: =\n",
            "WARNING:rpy2.rinterface_lib.callbacks:R[write to console]: =\n",
            "WARNING:rpy2.rinterface_lib.callbacks:R[write to console]: =\n",
            "WARNING:rpy2.rinterface_lib.callbacks:R[write to console]: =\n",
            "WARNING:rpy2.rinterface_lib.callbacks:R[write to console]: =\n",
            "WARNING:rpy2.rinterface_lib.callbacks:R[write to console]: =\n",
            "WARNING:rpy2.rinterface_lib.callbacks:R[write to console]: =\n",
            "WARNING:rpy2.rinterface_lib.callbacks:R[write to console]: \n",
            "\n",
            "WARNING:rpy2.rinterface_lib.callbacks:R[write to console]: downloaded 16 KB\n",
            "\n",
            "\n",
            "WARNING:rpy2.rinterface_lib.callbacks:R[write to console]: trying URL 'https://cran.rstudio.com/src/contrib/jsonlite_1.8.4.tar.gz'\n",
            "\n",
            "WARNING:rpy2.rinterface_lib.callbacks:R[write to console]: Content type 'application/x-gzip'\n",
            "WARNING:rpy2.rinterface_lib.callbacks:R[write to console]:  length 1053135 bytes (1.0 MB)\n",
            "\n",
            "WARNING:rpy2.rinterface_lib.callbacks:R[write to console]: =\n",
            "WARNING:rpy2.rinterface_lib.callbacks:R[write to console]: =\n",
            "WARNING:rpy2.rinterface_lib.callbacks:R[write to console]: =\n",
            "WARNING:rpy2.rinterface_lib.callbacks:R[write to console]: =\n",
            "WARNING:rpy2.rinterface_lib.callbacks:R[write to console]: =\n",
            "WARNING:rpy2.rinterface_lib.callbacks:R[write to console]: =\n",
            "WARNING:rpy2.rinterface_lib.callbacks:R[write to console]: =\n",
            "WARNING:rpy2.rinterface_lib.callbacks:R[write to console]: =\n",
            "WARNING:rpy2.rinterface_lib.callbacks:R[write to console]: =\n",
            "WARNING:rpy2.rinterface_lib.callbacks:R[write to console]: =\n",
            "WARNING:rpy2.rinterface_lib.callbacks:R[write to console]: =\n",
            "WARNING:rpy2.rinterface_lib.callbacks:R[write to console]: =\n",
            "WARNING:rpy2.rinterface_lib.callbacks:R[write to console]: =\n",
            "WARNING:rpy2.rinterface_lib.callbacks:R[write to console]: =\n",
            "WARNING:rpy2.rinterface_lib.callbacks:R[write to console]: =\n",
            "WARNING:rpy2.rinterface_lib.callbacks:R[write to console]: =\n",
            "WARNING:rpy2.rinterface_lib.callbacks:R[write to console]: =\n",
            "WARNING:rpy2.rinterface_lib.callbacks:R[write to console]: =\n",
            "WARNING:rpy2.rinterface_lib.callbacks:R[write to console]: =\n",
            "WARNING:rpy2.rinterface_lib.callbacks:R[write to console]: =\n",
            "WARNING:rpy2.rinterface_lib.callbacks:R[write to console]: =\n",
            "WARNING:rpy2.rinterface_lib.callbacks:R[write to console]: =\n",
            "WARNING:rpy2.rinterface_lib.callbacks:R[write to console]: =\n",
            "WARNING:rpy2.rinterface_lib.callbacks:R[write to console]: =\n",
            "WARNING:rpy2.rinterface_lib.callbacks:R[write to console]: =\n",
            "WARNING:rpy2.rinterface_lib.callbacks:R[write to console]: =\n",
            "WARNING:rpy2.rinterface_lib.callbacks:R[write to console]: =\n",
            "WARNING:rpy2.rinterface_lib.callbacks:R[write to console]: =\n",
            "WARNING:rpy2.rinterface_lib.callbacks:R[write to console]: =\n",
            "WARNING:rpy2.rinterface_lib.callbacks:R[write to console]: =\n",
            "WARNING:rpy2.rinterface_lib.callbacks:R[write to console]: =\n",
            "WARNING:rpy2.rinterface_lib.callbacks:R[write to console]: =\n",
            "WARNING:rpy2.rinterface_lib.callbacks:R[write to console]: =\n",
            "WARNING:rpy2.rinterface_lib.callbacks:R[write to console]: =\n",
            "WARNING:rpy2.rinterface_lib.callbacks:R[write to console]: =\n",
            "WARNING:rpy2.rinterface_lib.callbacks:R[write to console]: =\n",
            "WARNING:rpy2.rinterface_lib.callbacks:R[write to console]: =\n",
            "WARNING:rpy2.rinterface_lib.callbacks:R[write to console]: =\n",
            "WARNING:rpy2.rinterface_lib.callbacks:R[write to console]: =\n",
            "WARNING:rpy2.rinterface_lib.callbacks:R[write to console]: =\n",
            "WARNING:rpy2.rinterface_lib.callbacks:R[write to console]: =\n",
            "WARNING:rpy2.rinterface_lib.callbacks:R[write to console]: =\n",
            "WARNING:rpy2.rinterface_lib.callbacks:R[write to console]: =\n",
            "WARNING:rpy2.rinterface_lib.callbacks:R[write to console]: =\n",
            "WARNING:rpy2.rinterface_lib.callbacks:R[write to console]: =\n",
            "WARNING:rpy2.rinterface_lib.callbacks:R[write to console]: =\n",
            "WARNING:rpy2.rinterface_lib.callbacks:R[write to console]: =\n",
            "WARNING:rpy2.rinterface_lib.callbacks:R[write to console]: =\n",
            "WARNING:rpy2.rinterface_lib.callbacks:R[write to console]: =\n",
            "WARNING:rpy2.rinterface_lib.callbacks:R[write to console]: =\n",
            "WARNING:rpy2.rinterface_lib.callbacks:R[write to console]: \n",
            "\n",
            "WARNING:rpy2.rinterface_lib.callbacks:R[write to console]: downloaded 1.0 MB\n",
            "\n",
            "\n",
            "WARNING:rpy2.rinterface_lib.callbacks:R[write to console]: trying URL 'https://cran.rstudio.com/src/contrib/ragg_1.2.5.tar.gz'\n",
            "\n",
            "WARNING:rpy2.rinterface_lib.callbacks:R[write to console]: Content type 'application/x-gzip'\n",
            "WARNING:rpy2.rinterface_lib.callbacks:R[write to console]:  length 427859 bytes (417 KB)\n",
            "\n",
            "WARNING:rpy2.rinterface_lib.callbacks:R[write to console]: =\n",
            "WARNING:rpy2.rinterface_lib.callbacks:R[write to console]: =\n",
            "WARNING:rpy2.rinterface_lib.callbacks:R[write to console]: =\n",
            "WARNING:rpy2.rinterface_lib.callbacks:R[write to console]: =\n",
            "WARNING:rpy2.rinterface_lib.callbacks:R[write to console]: =\n",
            "WARNING:rpy2.rinterface_lib.callbacks:R[write to console]: =\n",
            "WARNING:rpy2.rinterface_lib.callbacks:R[write to console]: =\n",
            "WARNING:rpy2.rinterface_lib.callbacks:R[write to console]: =\n",
            "WARNING:rpy2.rinterface_lib.callbacks:R[write to console]: =\n",
            "WARNING:rpy2.rinterface_lib.callbacks:R[write to console]: =\n",
            "WARNING:rpy2.rinterface_lib.callbacks:R[write to console]: =\n",
            "WARNING:rpy2.rinterface_lib.callbacks:R[write to console]: =\n",
            "WARNING:rpy2.rinterface_lib.callbacks:R[write to console]: =\n",
            "WARNING:rpy2.rinterface_lib.callbacks:R[write to console]: =\n",
            "WARNING:rpy2.rinterface_lib.callbacks:R[write to console]: =\n",
            "WARNING:rpy2.rinterface_lib.callbacks:R[write to console]: =\n",
            "WARNING:rpy2.rinterface_lib.callbacks:R[write to console]: =\n",
            "WARNING:rpy2.rinterface_lib.callbacks:R[write to console]: =\n",
            "WARNING:rpy2.rinterface_lib.callbacks:R[write to console]: =\n",
            "WARNING:rpy2.rinterface_lib.callbacks:R[write to console]: =\n",
            "WARNING:rpy2.rinterface_lib.callbacks:R[write to console]: =\n",
            "WARNING:rpy2.rinterface_lib.callbacks:R[write to console]: =\n",
            "WARNING:rpy2.rinterface_lib.callbacks:R[write to console]: =\n",
            "WARNING:rpy2.rinterface_lib.callbacks:R[write to console]: =\n",
            "WARNING:rpy2.rinterface_lib.callbacks:R[write to console]: =\n",
            "WARNING:rpy2.rinterface_lib.callbacks:R[write to console]: =\n",
            "WARNING:rpy2.rinterface_lib.callbacks:R[write to console]: =\n",
            "WARNING:rpy2.rinterface_lib.callbacks:R[write to console]: =\n",
            "WARNING:rpy2.rinterface_lib.callbacks:R[write to console]: =\n",
            "WARNING:rpy2.rinterface_lib.callbacks:R[write to console]: =\n",
            "WARNING:rpy2.rinterface_lib.callbacks:R[write to console]: =\n",
            "WARNING:rpy2.rinterface_lib.callbacks:R[write to console]: =\n",
            "WARNING:rpy2.rinterface_lib.callbacks:R[write to console]: =\n",
            "WARNING:rpy2.rinterface_lib.callbacks:R[write to console]: =\n",
            "WARNING:rpy2.rinterface_lib.callbacks:R[write to console]: =\n",
            "WARNING:rpy2.rinterface_lib.callbacks:R[write to console]: =\n",
            "WARNING:rpy2.rinterface_lib.callbacks:R[write to console]: =\n",
            "WARNING:rpy2.rinterface_lib.callbacks:R[write to console]: =\n",
            "WARNING:rpy2.rinterface_lib.callbacks:R[write to console]: =\n",
            "WARNING:rpy2.rinterface_lib.callbacks:R[write to console]: =\n",
            "WARNING:rpy2.rinterface_lib.callbacks:R[write to console]: =\n",
            "WARNING:rpy2.rinterface_lib.callbacks:R[write to console]: =\n",
            "WARNING:rpy2.rinterface_lib.callbacks:R[write to console]: =\n",
            "WARNING:rpy2.rinterface_lib.callbacks:R[write to console]: =\n",
            "WARNING:rpy2.rinterface_lib.callbacks:R[write to console]: =\n",
            "WARNING:rpy2.rinterface_lib.callbacks:R[write to console]: =\n",
            "WARNING:rpy2.rinterface_lib.callbacks:R[write to console]: =\n",
            "WARNING:rpy2.rinterface_lib.callbacks:R[write to console]: =\n",
            "WARNING:rpy2.rinterface_lib.callbacks:R[write to console]: =\n",
            "WARNING:rpy2.rinterface_lib.callbacks:R[write to console]: =\n",
            "WARNING:rpy2.rinterface_lib.callbacks:R[write to console]: \n",
            "\n",
            "WARNING:rpy2.rinterface_lib.callbacks:R[write to console]: downloaded 417 KB\n",
            "\n",
            "\n",
            "WARNING:rpy2.rinterface_lib.callbacks:R[write to console]: trying URL 'https://cran.rstudio.com/src/contrib/stringr_1.5.0.tar.gz'\n",
            "\n",
            "WARNING:rpy2.rinterface_lib.callbacks:R[write to console]: Content type 'application/x-gzip'\n",
            "WARNING:rpy2.rinterface_lib.callbacks:R[write to console]:  length 175699 bytes (171 KB)\n",
            "\n",
            "WARNING:rpy2.rinterface_lib.callbacks:R[write to console]: =\n",
            "WARNING:rpy2.rinterface_lib.callbacks:R[write to console]: =\n",
            "WARNING:rpy2.rinterface_lib.callbacks:R[write to console]: =\n",
            "WARNING:rpy2.rinterface_lib.callbacks:R[write to console]: =\n",
            "WARNING:rpy2.rinterface_lib.callbacks:R[write to console]: =\n",
            "WARNING:rpy2.rinterface_lib.callbacks:R[write to console]: =\n",
            "WARNING:rpy2.rinterface_lib.callbacks:R[write to console]: =\n",
            "WARNING:rpy2.rinterface_lib.callbacks:R[write to console]: =\n",
            "WARNING:rpy2.rinterface_lib.callbacks:R[write to console]: =\n",
            "WARNING:rpy2.rinterface_lib.callbacks:R[write to console]: =\n",
            "WARNING:rpy2.rinterface_lib.callbacks:R[write to console]: =\n",
            "WARNING:rpy2.rinterface_lib.callbacks:R[write to console]: =\n",
            "WARNING:rpy2.rinterface_lib.callbacks:R[write to console]: =\n",
            "WARNING:rpy2.rinterface_lib.callbacks:R[write to console]: =\n",
            "WARNING:rpy2.rinterface_lib.callbacks:R[write to console]: =\n",
            "WARNING:rpy2.rinterface_lib.callbacks:R[write to console]: =\n",
            "WARNING:rpy2.rinterface_lib.callbacks:R[write to console]: =\n",
            "WARNING:rpy2.rinterface_lib.callbacks:R[write to console]: =\n",
            "WARNING:rpy2.rinterface_lib.callbacks:R[write to console]: =\n",
            "WARNING:rpy2.rinterface_lib.callbacks:R[write to console]: =\n",
            "WARNING:rpy2.rinterface_lib.callbacks:R[write to console]: =\n",
            "WARNING:rpy2.rinterface_lib.callbacks:R[write to console]: =\n",
            "WARNING:rpy2.rinterface_lib.callbacks:R[write to console]: =\n",
            "WARNING:rpy2.rinterface_lib.callbacks:R[write to console]: =\n",
            "WARNING:rpy2.rinterface_lib.callbacks:R[write to console]: =\n",
            "WARNING:rpy2.rinterface_lib.callbacks:R[write to console]: =\n",
            "WARNING:rpy2.rinterface_lib.callbacks:R[write to console]: =\n",
            "WARNING:rpy2.rinterface_lib.callbacks:R[write to console]: =\n",
            "WARNING:rpy2.rinterface_lib.callbacks:R[write to console]: =\n",
            "WARNING:rpy2.rinterface_lib.callbacks:R[write to console]: =\n",
            "WARNING:rpy2.rinterface_lib.callbacks:R[write to console]: =\n",
            "WARNING:rpy2.rinterface_lib.callbacks:R[write to console]: =\n",
            "WARNING:rpy2.rinterface_lib.callbacks:R[write to console]: =\n",
            "WARNING:rpy2.rinterface_lib.callbacks:R[write to console]: =\n",
            "WARNING:rpy2.rinterface_lib.callbacks:R[write to console]: =\n",
            "WARNING:rpy2.rinterface_lib.callbacks:R[write to console]: =\n",
            "WARNING:rpy2.rinterface_lib.callbacks:R[write to console]: =\n",
            "WARNING:rpy2.rinterface_lib.callbacks:R[write to console]: =\n",
            "WARNING:rpy2.rinterface_lib.callbacks:R[write to console]: =\n",
            "WARNING:rpy2.rinterface_lib.callbacks:R[write to console]: =\n",
            "WARNING:rpy2.rinterface_lib.callbacks:R[write to console]: =\n",
            "WARNING:rpy2.rinterface_lib.callbacks:R[write to console]: =\n",
            "WARNING:rpy2.rinterface_lib.callbacks:R[write to console]: =\n",
            "WARNING:rpy2.rinterface_lib.callbacks:R[write to console]: =\n",
            "WARNING:rpy2.rinterface_lib.callbacks:R[write to console]: =\n",
            "WARNING:rpy2.rinterface_lib.callbacks:R[write to console]: =\n",
            "WARNING:rpy2.rinterface_lib.callbacks:R[write to console]: =\n",
            "WARNING:rpy2.rinterface_lib.callbacks:R[write to console]: =\n",
            "WARNING:rpy2.rinterface_lib.callbacks:R[write to console]: =\n",
            "WARNING:rpy2.rinterface_lib.callbacks:R[write to console]: =\n",
            "WARNING:rpy2.rinterface_lib.callbacks:R[write to console]: \n",
            "\n",
            "WARNING:rpy2.rinterface_lib.callbacks:R[write to console]: downloaded 171 KB\n",
            "\n",
            "\n",
            "WARNING:rpy2.rinterface_lib.callbacks:R[write to console]: trying URL 'https://cran.rstudio.com/src/contrib/tidyverse_2.0.0.tar.gz'\n",
            "\n",
            "WARNING:rpy2.rinterface_lib.callbacks:R[write to console]: Content type 'application/x-gzip'\n",
            "WARNING:rpy2.rinterface_lib.callbacks:R[write to console]:  length 704618 bytes (688 KB)\n",
            "\n",
            "WARNING:rpy2.rinterface_lib.callbacks:R[write to console]: =\n",
            "WARNING:rpy2.rinterface_lib.callbacks:R[write to console]: =\n",
            "WARNING:rpy2.rinterface_lib.callbacks:R[write to console]: =\n",
            "WARNING:rpy2.rinterface_lib.callbacks:R[write to console]: =\n",
            "WARNING:rpy2.rinterface_lib.callbacks:R[write to console]: =\n",
            "WARNING:rpy2.rinterface_lib.callbacks:R[write to console]: =\n",
            "WARNING:rpy2.rinterface_lib.callbacks:R[write to console]: =\n",
            "WARNING:rpy2.rinterface_lib.callbacks:R[write to console]: =\n",
            "WARNING:rpy2.rinterface_lib.callbacks:R[write to console]: =\n",
            "WARNING:rpy2.rinterface_lib.callbacks:R[write to console]: =\n",
            "WARNING:rpy2.rinterface_lib.callbacks:R[write to console]: =\n",
            "WARNING:rpy2.rinterface_lib.callbacks:R[write to console]: =\n",
            "WARNING:rpy2.rinterface_lib.callbacks:R[write to console]: =\n",
            "WARNING:rpy2.rinterface_lib.callbacks:R[write to console]: =\n",
            "WARNING:rpy2.rinterface_lib.callbacks:R[write to console]: =\n",
            "WARNING:rpy2.rinterface_lib.callbacks:R[write to console]: =\n",
            "WARNING:rpy2.rinterface_lib.callbacks:R[write to console]: =\n",
            "WARNING:rpy2.rinterface_lib.callbacks:R[write to console]: =\n",
            "WARNING:rpy2.rinterface_lib.callbacks:R[write to console]: =\n",
            "WARNING:rpy2.rinterface_lib.callbacks:R[write to console]: =\n",
            "WARNING:rpy2.rinterface_lib.callbacks:R[write to console]: =\n",
            "WARNING:rpy2.rinterface_lib.callbacks:R[write to console]: =\n",
            "WARNING:rpy2.rinterface_lib.callbacks:R[write to console]: =\n",
            "WARNING:rpy2.rinterface_lib.callbacks:R[write to console]: =\n",
            "WARNING:rpy2.rinterface_lib.callbacks:R[write to console]: =\n",
            "WARNING:rpy2.rinterface_lib.callbacks:R[write to console]: =\n",
            "WARNING:rpy2.rinterface_lib.callbacks:R[write to console]: =\n",
            "WARNING:rpy2.rinterface_lib.callbacks:R[write to console]: =\n",
            "WARNING:rpy2.rinterface_lib.callbacks:R[write to console]: =\n",
            "WARNING:rpy2.rinterface_lib.callbacks:R[write to console]: =\n",
            "WARNING:rpy2.rinterface_lib.callbacks:R[write to console]: =\n",
            "WARNING:rpy2.rinterface_lib.callbacks:R[write to console]: =\n",
            "WARNING:rpy2.rinterface_lib.callbacks:R[write to console]: =\n",
            "WARNING:rpy2.rinterface_lib.callbacks:R[write to console]: =\n",
            "WARNING:rpy2.rinterface_lib.callbacks:R[write to console]: =\n",
            "WARNING:rpy2.rinterface_lib.callbacks:R[write to console]: =\n",
            "WARNING:rpy2.rinterface_lib.callbacks:R[write to console]: =\n",
            "WARNING:rpy2.rinterface_lib.callbacks:R[write to console]: =\n",
            "WARNING:rpy2.rinterface_lib.callbacks:R[write to console]: =\n",
            "WARNING:rpy2.rinterface_lib.callbacks:R[write to console]: =\n",
            "WARNING:rpy2.rinterface_lib.callbacks:R[write to console]: =\n",
            "WARNING:rpy2.rinterface_lib.callbacks:R[write to console]: =\n",
            "WARNING:rpy2.rinterface_lib.callbacks:R[write to console]: =\n",
            "WARNING:rpy2.rinterface_lib.callbacks:R[write to console]: =\n",
            "WARNING:rpy2.rinterface_lib.callbacks:R[write to console]: =\n",
            "WARNING:rpy2.rinterface_lib.callbacks:R[write to console]: =\n",
            "WARNING:rpy2.rinterface_lib.callbacks:R[write to console]: =\n",
            "WARNING:rpy2.rinterface_lib.callbacks:R[write to console]: =\n",
            "WARNING:rpy2.rinterface_lib.callbacks:R[write to console]: =\n",
            "WARNING:rpy2.rinterface_lib.callbacks:R[write to console]: =\n",
            "WARNING:rpy2.rinterface_lib.callbacks:R[write to console]: \n",
            "\n",
            "WARNING:rpy2.rinterface_lib.callbacks:R[write to console]: downloaded 688 KB\n",
            "\n",
            "\n",
            "WARNING:rpy2.rinterface_lib.callbacks:R[write to console]: \n",
            "\n",
            "WARNING:rpy2.rinterface_lib.callbacks:R[write to console]: \n",
            "WARNING:rpy2.rinterface_lib.callbacks:R[write to console]: The downloaded source packages are in\n",
            "\t‘/tmp/Rtmp8Bnw12/downloaded_packages’\n",
            "WARNING:rpy2.rinterface_lib.callbacks:R[write to console]: \n",
            "WARNING:rpy2.rinterface_lib.callbacks:R[write to console]: \n",
            "\n"
          ]
        }
      ],
      "source": [
        "%%R\n",
        "install.packages(\"tidyverse\")"
      ]
    },
    {
      "cell_type": "code",
      "execution_count": 5,
      "metadata": {
        "colab": {
          "base_uri": "https://localhost:8080/"
        },
        "id": "UkrWtV9ix005",
        "outputId": "f3ce43a2-186d-45c2-a294-a16039b4d649"
      },
      "outputs": [
        {
          "output_type": "stream",
          "name": "stderr",
          "text": [
            "WARNING:rpy2.rinterface_lib.callbacks:R[write to console]: \n",
            "Attaching package: ‘dplyr’\n",
            "\n",
            "\n",
            "WARNING:rpy2.rinterface_lib.callbacks:R[write to console]: The following objects are masked from ‘package:stats’:\n",
            "\n",
            "    filter, lag\n",
            "\n",
            "\n",
            "WARNING:rpy2.rinterface_lib.callbacks:R[write to console]: The following objects are masked from ‘package:base’:\n",
            "\n",
            "    intersect, setdiff, setequal, union\n",
            "\n",
            "\n"
          ]
        }
      ],
      "source": [
        "%%R\n",
        "library(readr)\n",
        "library(magrittr)\n",
        "library(dplyr)"
      ]
    },
    {
      "cell_type": "code",
      "execution_count": 6,
      "metadata": {
        "id": "7BGgZHV_yAo3"
      },
      "outputs": [],
      "source": [
        "%%R\n",
        "data <- read.csv(\"drive/MyDrive/Tecmilenio/Big Data/student-mat.csv\")"
      ]
    },
    {
      "cell_type": "code",
      "execution_count": 7,
      "metadata": {
        "colab": {
          "base_uri": "https://localhost:8080/"
        },
        "id": "qznNm1afzlsH",
        "outputId": "0f8041bb-4b36-42e4-8f0b-e403a15d5e45"
      },
      "outputs": [
        {
          "output_type": "stream",
          "name": "stdout",
          "text": [
            "    school sex age address famsize Pstatus Medu Fedu     Mjob     Fjob\n",
            "1       GP   F  18       U     GT3       A    4    4  at_home  teacher\n",
            "2       GP   F  17       U     GT3       T    1    1  at_home    other\n",
            "3       GP   F  15       U     LE3       T    1    1  at_home    other\n",
            "4       GP   F  15       U     GT3       T    4    2   health services\n",
            "5       GP   F  16       U     GT3       T    3    3    other    other\n",
            "6       GP   M  16       U     LE3       T    4    3 services    other\n",
            "7       GP   M  16       U     LE3       T    2    2    other    other\n",
            "8       GP   F  17       U     GT3       A    4    4    other  teacher\n",
            "9       GP   M  15       U     LE3       A    3    2 services    other\n",
            "10      GP   M  15       U     GT3       T    3    4    other    other\n",
            "11      GP   F  15       U     GT3       T    4    4  teacher   health\n",
            "12      GP   F  15       U     GT3       T    2    1 services    other\n",
            "13      GP   M  15       U     LE3       T    4    4   health services\n",
            "14      GP   M  15       U     GT3       T    4    3  teacher    other\n",
            "15      GP   M  15       U     GT3       A    2    2    other    other\n",
            "16      GP   F  16       U     GT3       T    4    4   health    other\n",
            "17      GP   F  16       U     GT3       T    4    4 services services\n",
            "18      GP   F  16       U     GT3       T    3    3    other    other\n",
            "19      GP   M  17       U     GT3       T    3    2 services services\n",
            "20      GP   M  16       U     LE3       T    4    3   health    other\n",
            "21      GP   M  15       U     GT3       T    4    3  teacher    other\n",
            "22      GP   M  15       U     GT3       T    4    4   health   health\n",
            "23      GP   M  16       U     LE3       T    4    2  teacher    other\n",
            "24      GP   M  16       U     LE3       T    2    2    other    other\n",
            "25      GP   F  15       R     GT3       T    2    4 services   health\n",
            "26      GP   F  16       U     GT3       T    2    2 services services\n",
            "27      GP   M  15       U     GT3       T    2    2    other    other\n",
            "28      GP   M  15       U     GT3       T    4    2   health services\n",
            "29      GP   M  16       U     LE3       A    3    4 services    other\n",
            "30      GP   M  16       U     GT3       T    4    4  teacher  teacher\n",
            "31      GP   M  15       U     GT3       T    4    4   health services\n",
            "32      GP   M  15       U     GT3       T    4    4 services services\n",
            "33      GP   M  15       R     GT3       T    4    3  teacher  at_home\n",
            "34      GP   M  15       U     LE3       T    3    3    other    other\n",
            "35      GP   M  16       U     GT3       T    3    2    other    other\n",
            "36      GP   F  15       U     GT3       T    2    3    other    other\n",
            "37      GP   M  15       U     LE3       T    4    3  teacher services\n",
            "38      GP   M  16       R     GT3       A    4    4    other  teacher\n",
            "39      GP   F  15       R     GT3       T    3    4 services   health\n",
            "40      GP   F  15       R     GT3       T    2    2  at_home    other\n",
            "41      GP   F  16       U     LE3       T    2    2    other    other\n",
            "42      GP   M  15       U     LE3       T    4    4  teacher    other\n",
            "43      GP   M  15       U     GT3       T    4    4 services  teacher\n",
            "44      GP   M  15       U     GT3       T    2    2 services services\n",
            "45      GP   F  16       U     LE3       T    2    2    other  at_home\n",
            "46      GP   F  15       U     LE3       A    4    3    other    other\n",
            "47      GP   F  16       U     LE3       A    3    3    other services\n",
            "48      GP   M  16       U     GT3       T    4    3   health services\n",
            "49      GP   M  15       U     GT3       T    4    2  teacher    other\n",
            "50      GP   F  15       U     GT3       T    4    4 services  teacher\n",
            "51      GP   F  16       U     LE3       T    2    2 services services\n",
            "52      GP   F  15       U     LE3       T    4    2   health    other\n",
            "53      GP   M  15       U     LE3       A    4    2   health   health\n",
            "54      GP   F  15       U     GT3       T    4    4 services services\n",
            "55      GP   F  15       U     LE3       A    3    3    other    other\n",
            "56      GP   F  16       U     GT3       A    2    1    other    other\n",
            "57      GP   F  15       U     GT3       A    4    3 services services\n",
            "58      GP   M  15       U     GT3       T    4    4  teacher   health\n",
            "59      GP   M  15       U     LE3       T    1    2    other  at_home\n",
            "60      GP   F  16       U     GT3       T    4    2 services    other\n",
            "61      GP   F  16       R     GT3       T    4    4   health  teacher\n",
            "62      GP   F  16       U     GT3       T    1    1 services services\n",
            "63      GP   F  16       U     LE3       T    1    2    other services\n",
            "64      GP   F  16       U     GT3       T    4    3  teacher   health\n",
            "65      GP   F  15       U     LE3       T    4    3 services services\n",
            "66      GP   F  16       U     LE3       T    4    3  teacher services\n",
            "67      GP   M  15       U     GT3       A    4    4    other services\n",
            "68      GP   F  16       U     GT3       T    3    1 services    other\n",
            "69      GP   F  15       R     LE3       T    2    2   health services\n",
            "70      GP   F  15       R     LE3       T    3    1    other    other\n",
            "71      GP   M  16       U     GT3       T    3    1    other    other\n",
            "72      GP   M  15       U     GT3       T    4    2    other    other\n",
            "73      GP   F  15       R     GT3       T    1    1    other    other\n",
            "74      GP   M  16       U     GT3       T    3    1    other    other\n",
            "75      GP   F  16       U     GT3       T    3    3    other services\n",
            "76      GP   M  15       U     GT3       T    4    3  teacher    other\n",
            "77      GP   M  15       U     GT3       T    4    0  teacher    other\n",
            "78      GP   F  16       U     GT3       T    2    2    other    other\n",
            "79      GP   M  17       U     GT3       T    2    1    other    other\n",
            "80      GP   F  16       U     GT3       T    3    4  at_home    other\n",
            "81      GP   M  15       U     GT3       T    2    3    other services\n",
            "82      GP   M  15       U     GT3       T    2    3    other    other\n",
            "83      GP   F  15       U     LE3       T    3    2 services    other\n",
            "84      GP   M  15       U     LE3       T    2    2 services services\n",
            "85      GP   F  15       U     GT3       T    1    1    other    other\n",
            "86      GP   F  15       U     GT3       T    4    4 services services\n",
            "87      GP   F  16       U     LE3       T    2    2  at_home    other\n",
            "88      GP   F  15       U     GT3       T    4    2    other    other\n",
            "89      GP   M  16       U     GT3       T    2    2 services    other\n",
            "90      GP   M  16       U     LE3       A    4    4  teacher   health\n",
            "91      GP   F  16       U     GT3       T    3    3    other    other\n",
            "92      GP   F  15       U     GT3       T    4    3 services    other\n",
            "93      GP   F  16       U     LE3       T    3    1    other    other\n",
            "94      GP   F  16       U     GT3       T    4    2  teacher services\n",
            "95      GP   M  15       U     LE3       T    2    2 services   health\n",
            "96      GP   F  15       R     GT3       T    1    1  at_home    other\n",
            "97      GP   M  16       R     GT3       T    4    3 services    other\n",
            "98      GP   F  16       U     GT3       T    2    1    other    other\n",
            "99      GP   F  16       U     GT3       T    4    4    other    other\n",
            "100     GP   F  16       U     GT3       T    4    3    other  at_home\n",
            "101     GP   M  16       U     GT3       T    4    4 services services\n",
            "102     GP   M  16       U     GT3       T    4    4 services  teacher\n",
            "103     GP   M  15       U     GT3       T    4    4 services    other\n",
            "104     GP   F  15       U     GT3       T    3    2 services    other\n",
            "105     GP   M  15       U     GT3       A    3    4 services    other\n",
            "106     GP   F  15       U     GT3       A    3    3    other   health\n",
            "107     GP   F  15       U     GT3       T    2    2    other    other\n",
            "108     GP   M  16       U     GT3       T    3    3 services    other\n",
            "109     GP   M  15       R     GT3       T    4    4    other    other\n",
            "110     GP   F  16       U     LE3       T    4    4   health   health\n",
            "111     GP   M  15       U     LE3       A    4    4  teacher  teacher\n",
            "112     GP   F  16       R     GT3       T    3    3 services    other\n",
            "113     GP   F  16       U     GT3       T    2    2  at_home    other\n",
            "114     GP   M  15       U     LE3       T    4    2  teacher    other\n",
            "115     GP   M  15       R     GT3       T    2    1   health services\n",
            "116     GP   M  16       U     GT3       T    4    4  teacher  teacher\n",
            "117     GP   M  15       U     GT3       T    4    4    other  teacher\n",
            "118     GP   M  16       U     GT3       T    3    3    other services\n",
            "119     GP   M  17       R     GT3       T    1    3    other    other\n",
            "120     GP   M  15       U     GT3       T    3    4    other    other\n",
            "121     GP   F  15       U     GT3       T    1    2  at_home services\n",
            "122     GP   M  15       U     GT3       T    2    2 services services\n",
            "123     GP   F  16       U     LE3       T    2    4    other   health\n",
            "124     GP   M  16       U     GT3       T    4    4   health    other\n",
            "125     GP   F  16       U     GT3       T    2    2    other    other\n",
            "126     GP   M  15       U     GT3       T    3    4 services services\n",
            "127     GP   F  15       U     LE3       A    3    4    other    other\n",
            "128     GP   F  19       U     GT3       T    0    1  at_home    other\n",
            "129     GP   M  18       R     GT3       T    2    2 services    other\n",
            "130     GP   M  16       R     GT3       T    4    4  teacher  teacher\n",
            "131     GP   F  15       R     GT3       T    3    4 services  teacher\n",
            "132     GP   F  15       U     GT3       T    1    1  at_home    other\n",
            "133     GP   F  17       U     LE3       T    2    2    other    other\n",
            "134     GP   F  16       U     GT3       A    3    4 services    other\n",
            "135     GP   M  15       R     GT3       T    3    4  at_home  teacher\n",
            "136     GP   F  15       U     GT3       T    4    4 services  at_home\n",
            "137     GP   M  17       R     GT3       T    3    4  at_home    other\n",
            "138     GP   F  16       U     GT3       A    3    3    other    other\n",
            "139     GP   M  16       U     LE3       T    1    1 services    other\n",
            "140     GP   F  15       U     GT3       T    4    4  teacher  teacher\n",
            "141     GP   M  15       U     GT3       T    4    3  teacher services\n",
            "142     GP   M  16       U     LE3       T    2    2 services services\n",
            "143     GP   F  15       U     GT3       T    4    4  teacher services\n",
            "144     GP   F  16       U     LE3       T    1    1  at_home  at_home\n",
            "145     GP   M  17       U     GT3       T    2    1    other    other\n",
            "146     GP   F  15       U     GT3       T    1    1    other services\n",
            "147     GP   F  15       U     GT3       T    3    2   health services\n",
            "148     GP   F  15       U     GT3       T    1    2  at_home    other\n",
            "149     GP   M  16       U     GT3       T    4    4  teacher  teacher\n",
            "150     GP   M  15       U     LE3       A    2    1 services    other\n",
            "151     GP   M  18       U     LE3       T    1    1    other    other\n",
            "152     GP   M  16       U     LE3       T    2    1  at_home    other\n",
            "153     GP   F  15       R     GT3       T    3    3 services services\n",
            "154     GP   M  19       U     GT3       T    3    2 services  at_home\n",
            "155     GP   F  17       U     GT3       T    4    4    other  teacher\n",
            "156     GP   M  15       R     GT3       T    2    3  at_home services\n",
            "157     GP   M  17       R     LE3       T    1    2    other    other\n",
            "158     GP   F  18       R     GT3       T    1    1  at_home    other\n",
            "159     GP   M  16       R     GT3       T    2    2  at_home    other\n",
            "160     GP   M  16       U     GT3       T    3    3    other services\n",
            "161     GP   M  17       R     LE3       T    2    1  at_home    other\n",
            "162     GP   M  15       R     GT3       T    3    2    other    other\n",
            "163     GP   M  16       U     LE3       T    1    2    other    other\n",
            "164     GP   M  17       U     GT3       T    1    3  at_home services\n",
            "165     GP   M  17       R     LE3       T    1    1    other services\n",
            "166     GP   M  16       U     GT3       T    3    2 services services\n",
            "167     GP   M  16       U     GT3       T    2    2    other    other\n",
            "168     GP   F  16       U     GT3       T    4    2   health services\n",
            "169     GP   F  16       U     GT3       T    2    2    other    other\n",
            "170     GP   F  16       U     GT3       T    4    4   health   health\n",
            "171     GP   M  16       U     GT3       T    3    4    other    other\n",
            "172     GP   M  16       U     GT3       T    1    0    other    other\n",
            "173     GP   M  17       U     LE3       T    4    4  teacher    other\n",
            "174     GP   F  16       U     GT3       T    1    3  at_home services\n",
            "175     GP   F  16       U     LE3       T    3    3    other    other\n",
            "176     GP   M  17       U     LE3       T    4    3  teacher    other\n",
            "177     GP   F  16       U     GT3       T    2    2 services    other\n",
            "178     GP   M  17       U     GT3       T    3    3    other    other\n",
            "179     GP   M  16       R     GT3       T    4    2  teacher services\n",
            "180     GP   M  17       U     GT3       T    4    3    other    other\n",
            "181     GP   M  16       U     GT3       T    4    3  teacher    other\n",
            "182     GP   M  16       U     GT3       T    3    3 services    other\n",
            "183     GP   F  17       U     GT3       T    2    4 services services\n",
            "184     GP   F  17       U     LE3       T    3    3    other    other\n",
            "185     GP   F  16       U     GT3       T    3    2    other    other\n",
            "186     GP   M  17       U     GT3       T    3    3 services services\n",
            "187     GP   M  16       U     GT3       T    1    2 services services\n",
            "188     GP   M  16       U     LE3       T    2    1    other    other\n",
            "189     GP   F  17       U     GT3       A    3    3   health    other\n",
            "190     GP   M  17       R     GT3       T    1    2  at_home    other\n",
            "191     GP   F  16       U     GT3       T    2    3 services services\n",
            "192     GP   F  17       U     GT3       T    1    1  at_home services\n",
            "193     GP   M  17       U     GT3       T    1    2  at_home services\n",
            "194     GP   M  16       R     GT3       T    3    3 services services\n",
            "195     GP   M  16       U     GT3       T    2    3    other    other\n",
            "196     GP   F  17       U     LE3       T    2    4 services services\n",
            "197     GP   M  17       U     GT3       T    4    4 services  teacher\n",
            "198     GP   M  16       R     LE3       T    3    3  teacher    other\n",
            "199     GP   F  17       U     GT3       T    4    4 services  teacher\n",
            "200     GP   F  16       U     LE3       T    4    4  teacher  teacher\n",
            "201     GP   F  16       U     GT3       T    4    3   health    other\n",
            "202     GP   F  16       U     GT3       T    2    3    other    other\n",
            "203     GP   F  17       U     GT3       T    1    1    other    other\n",
            "204     GP   F  17       R     GT3       T    2    2    other    other\n",
            "205     GP   F  16       R     GT3       T    2    2 services services\n",
            "206     GP   F  17       U     GT3       T    3    4  at_home services\n",
            "207     GP   F  16       U     GT3       A    3    1 services    other\n",
            "208     GP   F  16       U     GT3       T    4    3  teacher    other\n",
            "209     GP   F  16       U     GT3       T    1    1  at_home    other\n",
            "210     GP   F  17       R     GT3       T    4    3  teacher    other\n",
            "211     GP   F  19       U     GT3       T    3    3    other    other\n",
            "212     GP   M  17       U     LE3       T    4    4 services    other\n",
            "213     GP   F  16       U     GT3       A    2    2    other    other\n",
            "214     GP   M  18       U     GT3       T    2    2 services    other\n",
            "215     GP   F  17       R     LE3       T    4    4 services    other\n",
            "216     GP   F  17       U     LE3       T    3    2    other    other\n",
            "217     GP   F  17       U     GT3       T    4    3    other    other\n",
            "218     GP   M  18       U     LE3       T    3    3 services   health\n",
            "219     GP   F  17       U     GT3       T    2    3  at_home    other\n",
            "220     GP   F  17       U     GT3       T    2    2  at_home  at_home\n",
            "221     GP   F  17       R     GT3       T    2    1  at_home services\n",
            "222     GP   F  17       U     GT3       T    1    1  at_home    other\n",
            "223     GP   F  16       U     GT3       T    2    3 services  teacher\n",
            "224     GP   M  18       U     GT3       T    2    2    other    other\n",
            "225     GP   F  16       U     GT3       T    4    4  teacher services\n",
            "226     GP   F  18       R     GT3       T    3    1    other    other\n",
            "227     GP   F  17       U     GT3       T    3    2    other    other\n",
            "228     GP   M  17       U     LE3       T    2    3 services services\n",
            "229     GP   M  18       U     LE3       T    2    1  at_home    other\n",
            "230     GP   F  17       U     GT3       A    2    1    other    other\n",
            "231     GP   F  17       U     LE3       T    4    3   health    other\n",
            "232     GP   M  17       R     GT3       T    2    2    other    other\n",
            "233     GP   M  17       U     GT3       T    4    4  teacher  teacher\n",
            "234     GP   M  16       U     GT3       T    4    4   health    other\n",
            "235     GP   M  16       U     LE3       T    1    1    other    other\n",
            "236     GP   M  16       U     GT3       T    3    2  at_home    other\n",
            "237     GP   M  17       U     LE3       T    2    2    other    other\n",
            "238     GP   F  16       U     GT3       T    2    1    other    other\n",
            "239     GP   F  17       R     GT3       T    2    1  at_home services\n",
            "240     GP   M  18       U     GT3       T    2    2    other services\n",
            "241     GP   M  17       U     LE3       T    4    3   health    other\n",
            "242     GP   M  17       R     LE3       A    4    4  teacher    other\n",
            "243     GP   M  16       U     LE3       T    4    3  teacher    other\n",
            "244     GP   M  16       U     GT3       T    4    4 services services\n",
            "245     GP   F  18       U     GT3       T    2    1    other    other\n",
            "246     GP   M  16       U     GT3       T    2    1    other    other\n",
            "247     GP   M  17       U     GT3       T    2    3    other    other\n",
            "248     GP   M  22       U     GT3       T    3    1 services services\n",
            "249     GP   M  18       R     LE3       T    3    3    other services\n",
            "250     GP   M  16       U     GT3       T    0    2    other    other\n",
            "251     GP   M  18       U     GT3       T    3    2 services    other\n",
            "252     GP   M  16       U     GT3       T    3    3  at_home    other\n",
            "253     GP   M  18       U     GT3       T    2    1 services services\n",
            "254     GP   M  16       R     GT3       T    2    1    other    other\n",
            "255     GP   M  17       R     GT3       T    2    1    other    other\n",
            "256     GP   M  17       U     LE3       T    1    1   health    other\n",
            "257     GP   F  17       U     LE3       T    4    2  teacher services\n",
            "258     GP   M  19       U     LE3       A    4    3 services  at_home\n",
            "259     GP   M  18       U     GT3       T    2    1    other    other\n",
            "260     GP   F  17       U     LE3       T    2    2 services services\n",
            "261     GP   F  18       U     GT3       T    4    3 services    other\n",
            "262     GP   M  18       U     GT3       T    4    3  teacher    other\n",
            "263     GP   M  18       R     GT3       T    3    2    other    other\n",
            "264     GP   F  17       U     GT3       T    3    3    other    other\n",
            "265     GP   F  18       U     GT3       T    2    2  at_home services\n",
            "266     GP   M  18       R     LE3       A    3    4    other    other\n",
            "267     GP   M  17       U     GT3       T    3    1 services    other\n",
            "268     GP   F  18       R     GT3       T    4    4  teacher    other\n",
            "269     GP   M  18       U     GT3       T    4    2   health    other\n",
            "270     GP   F  18       R     GT3       T    2    1    other    other\n",
            "271     GP   F  19       U     GT3       T    3    3    other services\n",
            "272     GP   F  18       U     GT3       T    2    3    other services\n",
            "273     GP   F  18       U     LE3       T    1    1    other    other\n",
            "274     GP   M  17       R     GT3       T    1    2  at_home  at_home\n",
            "275     GP   F  17       U     GT3       T    2    4  at_home   health\n",
            "276     GP   F  17       U     LE3       T    2    2 services    other\n",
            "277     GP   F  18       R     GT3       A    3    2    other services\n",
            "278     GP   M  18       U     GT3       T    4    4  teacher services\n",
            "279    1 services  at_home\n",
            "294     GP   F  17       R     LE3       T    3    1 services    other\n",
            "295     GP   M  18       R     LE3       T    3    2 services    other\n",
            "296     GP   M  17       U     GT3       T    3    3   health    other\n",
            "297     GP   F  19       U     GT3       T    4    4   health    other\n",
            "298     GP   F  18       U     LE3       T    4    3    other    other\n",
            "299     GP   F  18       U     GT3       T    4    3    other    other\n",
            "300     GP   M  18       U     LE3       T    4    4  teacher  teacher\n",
            "301     GP   F  18       U     LE3       A    4    4   health    other\n",
            "302     GP   M  17       U     LE3       T    4    4    other  teacher\n",
            "303     GP   F  17       U     GT3       T    4    2    other    other\n",
            "304     GP   F  17       U     GT3       T    3    2   health   health\n",
            "305     GP   M  19       U     GT3       T    3    3    other    other\n",
            "306     GP   F  18       U     GT3       T    2    4 services  at_home\n",
            "307     GP   M  20       U     GT3       A    3    2 services    other\n",
            "308     GP   M  19       U     GT3       T    4    4  teacher services\n",
            "309     GP   M  19       R     GT3       T    3    3    other services\n",
            "310     GP   F  19       U     LE3       T    1    1  at_home    other\n",
            "311     GP   F  19       U     LE3       T    1    2 services services\n",
            "312     GP   F  19       U     GT3       T    2    1  at_home    other\n",
            "313     GP   M  19       U     GT3       T    1    2    other services\n",
            "314     GP   F  19       U     LE3       T    3    2 services    other\n",
            "315     GP   F  19       U     GT3       T    1    1  at_home   health\n",
            "316     GP   F  19       R     GT3       T    2    3    other    other\n",
            "317     GP   F  18       U     GT3       T    2    1 services    other\n",
            "318     GP   F  18       U     GT3       T    4    3    other    other\n",
            "319     GP   F  17       R     GT3       T    3    4  at_home services\n",
            "320     GP   F  18       U     GT3       T    4    4  teacher    other\n",
            "321     GP   F  17       U     GT3       A    4    3 services services\n",
            "322     GP   F  17       U     GT3       T    2    2    other    other\n",
            "323     GP   F  17       R     LE3       T    2    2 services services\n",
            "324     GP   F  17       U     GT3       T    3    1 services services\n",
            "325     GP   F  17       U     LE3       T    0    2  at_home  at_home\n",
            "326     GP   M  18       U     GT3       T    4    4    other    other\n",
            "327     GP   M  17       U     GT3       T    3    3    other services\n",
            "328     GP   M  17       R     GT3       T    2    2 services    other\n",
            "329     GP   F  17       U     GT3       T    4    4  teacher services\n",
            "330     GP   F  17       U     GT3       T    4    4  teacher  teacher\n",
            "331     GP   M  18       U     LE3       T    2    2    other    other\n",
            "332     GP   F  17       R     GT3       T    2    4  at_home    other\n",
            "333     GP   F  18       U     GT3       T    3    3 services services\n",
            "334     GP   F  18       U     LE3       T    2    2    other    other\n",
            "335     GP   F  18       R     GT3       T    2    2  at_home    other\n",
            "336     GP   F  17       U     GT3       T    3    4 services    other\n",
            "337     GP   F  19       R     GT3       A    3    1 services  at_home\n",
            "338     GP   F  17       U     GT3       T    3    2    other    other\n",
            "339     GP       T    4    4  teacher services\n",
            "379     MS   F  18       U     GT3       T    3    3    other    other\n",
            "380     MS   F  17       R     GT3       T    3    1  at_home    other\n",
            "381     MS   M  18       U     GT3       T    4    4  teacher  teacher\n",
            "382     MS   M  18       R     GT3       T    2    1    other    other\n",
            "383     MS   M  17       U     GT3       T    2    3    other services\n",
            "384     MS   M  19       R     GT3       T    1    1    other services\n",
            "385     MS   M  18       R     GT3       T    4    2    other    other\n",
            "386     MS   F  18       R     GT3       T    2    2  at_home    other\n",
            "387     MS   F  18       R     GT3       T    4    4  teacher  at_home\n",
            "388     MS   F  19       R     GT3       T    2    3 services    other\n",
            "389     MS   F  18       U     LE3       T    3    1  teacher services\n",
            "390     MS   F  18       U     GT3       T    1    1    other    other\n",
            "391     MS   M  20       U     LE3       A    2    2 services services\n",
            "392     MS   M  17       U     LE3       T    3    1 services services\n",
            "393     MS   M  21       R     GT3       T    1    1    other    other\n",
            "394     MS   M  18       R     LE3       T    3    2 services    other\n",
            "395     MS   M  19       U     LE3       T    1    1    other  at_home\n",
            "        reason guardian traveltime studytime failures schoolsup famsup paid\n",
            "1       course   mother          2         2        0       yes     no   no\n",
            "2       course   father          1         2        0        no    yes   no\n",
            "3        other   mother          1         2        3       yes     no  yes\n",
            "4         home   mother          1         3        0        no    yes  yes\n",
            "5         home   father          1         2        0        no    yes  yes\n",
            "6   reputation   mother          1         2        0        no    yes  yes\n",
            "7         home   mother          1         2        0        no     no   no\n",
            "8         home   mother          2         2        0       yes    yes   no\n",
            "9         home   mother          1         2        0        no    yes  yes\n",
            "10        home   mother          1         2        0        no    yes  yes\n",
            "11  reputation   mother          1         2        0        no    yes  yes\n",
            "12  reputation   father          3         3        0        no    yes   no\n",
            "13      course   father          1         1        0        no    yes  yes\n",
            "14      course   mother          2         2        0        no    yes  yes\n",
            "15        home    other          1         3        0        no    yes   no\n",
            "16        home   mother          1         1        0        no    yes   no\n",
            "17  reputation   mother          1         3        0        no    yes  yes\n",
            "18  reputation   mother          3         2        0       yes    yes   no\n",
            "19      course   mother          1         1        3        no    yes   no\n",
            "20        home   father          1         1        0        no     no  yes\n",
            "21  reputation   mother          1         2        0        no     no   no\n",
            "22       other   father          1         1        0        no    yes  yes\n",
            "23      course   mother          1         2        0        no     no   no\n",
            "24  reputation   mother          2         2        0        no    yes   no\n",
            "25      course   mother          1         3        0       yes    yes  yes\n",
            "26        home   mother          1         1        2        no    yes  yes\n",
            "27        home   mother          1         1        0        no    yes  yes\n",
            "28       other   mother          1         1        0        no     no  yes\n",
            "29        home   mother          1         2        0       yes    yes   no\n",
            "30        home   mother          1         2        0        no    yes  yes\n",
            "31        home   mother          1         2        0        no    yes  yes\n",
            "32  reputation   mother          2         2        0        no    yes   no\n",
            "33      course   mother          1         2        0        no    yes   no\n",
            "34    mother          1         1        0        no     no   no\n",
            "100     course   mother          1         3        0       yes    yes  yes\n",
            "101      other   mother          1         1        0       yes    yes  yes\n",
            "102      other   father          1         3        0        no    yes   no\n",
            "103     course   mother          1         1        0        no    yes   no\n",
            "104       home   mother          2         2        0       yes    yes  yes\n",
            "105     course   mother          1         2        0        no    yes  yes\n",
            "106 reputation   father          1         4        0       yes     no   no\n",
            "107     course   mother          1         4        0       yes    yes  yes\n",
            "108       home   father          1         3        0        no    yes   no\n",
            "109       home   father          4         4        0        no    yes  yes\n",
            "110      other   mother          1         3        0        no    yes  yes\n",
            "111     course   mother          1         1        0        no     no   no\n",
            "112 reputation   father          1         3        1       yes    yes   no\n",
            "113       home   mother          1         2        1       yes     no   no\n",
            "114     course   mother          1         1        0        no     no   no\n",
            "115 reputation   mother          1         2        0        no     no   no\n",
            "116     course   father          1         2        0        no    yes   no\n",
            "117 reputation   father          2         2        0        no    yes   no\n",
            "118       home   father          2         1        0        no     no   no\n",
            "119     course   father          3         2        1        no    yes   no\n",
            "120 reputation   father          1         1        0        no     no   no\n",
            "121     course   mother          1         2        0        no     no   no\n",
            "122       home   father          1         4        0        no    yes  yes\n",
            "123     course   father          2         2        0        no    yes  yes\n",
            "124     course   mother          1         1        0        no    yes   no\n",
            "125       home   mother          1         2        0        no     no  yes\n",
            "126       home   father          1         1        0       yes     no   no\n",
            "127       home   mother          1         2        0       yes     no   no\n",
            "128     course    other          1         2        3        no    yes   no\n",
            "129 reputation   mother          1         1        2        no    yes   no\n",
            "130     course   mother          1         1        0        no     no  yes\n",
            "131     course   father          2         3        2        no    yes   no\n",
            "132     course   mother          3         1        0        no    yes   no\n",
            "133     course   father          1         1        0        no    yes   no\n",
            "134     course   father          1         1        0        no     no   no\n",
            "135     course   mother          4         2        0        no    yes   no\n",
            "136     course   mother          1         3        0        no    yes   no\n",
            "137     course   mother          3         2        0        no     no   no\n",
            "138     course    other          2         1        2        no    yes   no\n",
            "139     course   mother          1         2        1        no     no   no\n",
            "140     course   mother          2         1        0        no     no   no\n",
            "141     course   father          2         4        0       yes    yes   no\n",
            "142 reputation   father          2         1        2        no    yes   no\n",
            "143     course   mother          1         3        0        no    yes  yes\n",
            "144     course   mother          1         1        0        no     no   no\n",
            "145       home   mother          1         1        3        no    yes   no\n",
            "146     course   father          1         2        0        no    yes  yes\n",
            "147       home   father          1         2        3        no    yes   no\n",
            "148     course   mother          1         2        0        no    yes  yes\n",
            "149     course   mother          1         1        0        no    yes   no\n",
            "150     course   mother          4         1        3        no     no   no\n",
            "151     course   mother          1         1        3        no     no   no\n",
            "152     course   mother          1         1        1        no     no   no\n",
            "153 reputation    other          2         3        2        no    yes  yes\n",
            "154       home   mother          1         1        3        no         3        1        no    yes   no\n",
            "223      other   mother          1         2        0       yes     no   no\n",
            "224       home   mother          2         2        0        no    yes  yes\n",
            "225       home   mother          1         3        0        no    yes   no\n",
            "226 reputation   mother          1         2        1        no     no   no\n",
            "227     course   mother          1         2        0        no     no   no\n",
            "228 reputation   father          1         2        0        no    yes  yes\n",
            "229     course   mother          4         2        0       yes    yes  yes\n",
            "230     course   mother          2         3        0        no     no   no\n",
            "231 reputation   father          1         2        0        no     no   no\n",
            "232     course   father          2         2        0        no    yes  yes\n",
            "233 reputation   mother          1         2        0       yes    yes   no\n",
            "234 reputation   father          1         2        0        no    yes  yes\n",
            "235       home   mother          2         2        0        no    yes  yes\n",
            "236 reputation   mother          2         3        0        no     no   no\n",
            "237       home   father          1         2        0        no     no  yes\n",
            "238       home   mother          1         1        0        no     no   no\n",
            "239     course   mother          3         2        0        no     no   no\n",
            "240 reputation   father          1         2        1        no     no   no\n",
            "241     course   mother          2         2        0        no     no   no\n",
            "242     course   mother          2         2        0        no    yes  yes\n",
            "243     course   mother          1         1        0        no     no   no\n",
            "244     course   mother          1         1        0        no     no   no\n",
            "245     course    other          2         3        0        no    yes  yes\n",
            "246     course   mother          3         1        0        no     no   no\n",
            "247     course   father          2         1        0        no     no   no\n",
            "248      other   mother          1         1        3        no     no   no\n",
            "249     course   mother          1         2        1        no    yes   no\n",
            "250      other   mother          1         1        0        no     no  yes\n",
            "251     course   mother          2         1        1        no     no   no\n",
            "252 reputation    other          3         2        0       yes    yes   no\n",
            "253      other   mother          1         1        1        no     no   no\n",
            "254     course   mother          2         1        0        no     no   no\n",
            "255     course   mother          1         1        0        no     no   no\n",
            "256     course   mother          2         1        1        no    yes   no\n",
            "257 reputation   mother          1         4        0        no    yes  yes\n",
            "258 reputation   mother          1         2        0        no    yes   no\n",
            "259       home   mother          1         2        0        no     no   no\n",
            "260     course   father          1         4        0        no     no  yes\n",
            "261       home   father          1         2        0        no    yes  yes\n",
            "262     course   mother          1         2        0        no    yes  yes\n",
            "263     course   mother          1         3        0        no     no   no\n",
            "264       home   mother          1         3        0        no     no   no\n",
            "265       home   mother          1         3        0        no    yes  yes\n",
            "266 reputation   mother          2         2        0        no    yes  yes\n",
            "267      other   mother          1         2        0        no     no  yes\n",
            "268 reputation   mother          2         2        0        no     no  yes\n",
            "269 reputation   father          1         2        0        no    yes  yes\n",
            "270 reputation   mother          2         2        0        no    yes   no\n",
            "271       home    other          1         2        2        no    yes  yes\n",
            "272 reputation   father          1         4        0        no    yes  yes\n",
            "273       home   mother          2         2        0        no    yes  yes\n",
            "274       home   mother          1         2        0        no    yes  yes\n",
            "275 reputation   mother          2         2        0        no    yes  yes\n",
            "276     course   mother          2         2        0       yes    yes  yes\n",
            "277       home   mother          2         2        0        no     no   no       home   father          2         1        0        no     no   no\n",
            "360     course   father          2         3        0        no     no   no\n",
            "361     course   mother          3         2        0        no     no   no\n",
            "362      other   mother          2         2        1        no     no   no\n",
            "363      other   mother          2         2        0        no    yes   no\n",
            "364     course   mother          1         2        0        no    yes  yes\n",
            "365     course   father          2         2        0        no     no   no\n",
            "366     course   mother          2         2        0        no    yes  yes\n",
            "367      other   mother          2         3        0        no     no  yes\n",
            "368 reputation   mother          3         1        1        no    yes  yes\n",
            "369     course   father          2         1        0        no    yes  yes\n",
            "370      other   father          3         2        0        no    yes  yes\n",
            "371       home    other          2         2        2        no     no   no\n",
            "372      other   father          3         1        0        no    yes  yes\n",
            "373       home   mother          1         3        0        no     no   no\n",
            "374     course   mother          1         1        0        no     no   no\n",
            "375 reputation   mother          2         3        0        no     no   no\n",
            "376       home   mother          4         3        0        no     no   no\n",
            "377     course    other          2         3        2        no    yes  yes\n",
            "378     course   mother          1         2        0        no     no  yes\n",
            "379       home   mother          1         2        0        no     no  yes\n",
            "380 reputation   mother          1         2        0        no    yes  yes\n",
            "381       home   father          1         2        0        no     no  yes\n",
            "382      other   mother          2         1        0        no     no   no\n",
            "383       home   father          2         2        0        no     no   no\n",
            "384      other   mother          2         1        1        no     no   no\n",
            "385       home   father          2         1        1        no     no  yes\n",
            "386      other   mother          2         3        0        no     no  yes\n",
            "387 reputation   mother          3         1        0        no    yes  yes\n",
            "388     course   mother          1         3        1        no     no   no\n",
            "389     course   mother          1         2        0        no    yes  yes\n",
            "390     course   mother          2         2        1        no     no   no\n",
            "391     course    other          1         2        2        no    yes  yes\n",
            "392     course   mother          2         1        0        no     no   no\n",
            "393     course    other          1         1        3        no     no   no\n",
            "394     course   mother          3         1        0        no     no   no\n",
            "395     course   father          1         1        0        no     no   no\n",
            "    activities nursery higher internet romantic famrel freetime goout Dalc Walc\n",
            "1           no     yes    yes       no       no      4        3     4    1    1\n",
            "2           no      no    yes      yes       no      5        3     3    1    1\n",
            "3           no     yes    yes      yes       no      4        3     2    2    3\n",
            "4          yes     yes    yes      yes      yes      3        2     2    1    1\n",
            "5           no     yes    yes       no       no      4        3     2    1    2\n",
            "6          yes     yes    yes      yes       no      5        4     2    1    2\n",
            "7           no     yes    yes      yes       no      4        4     4    1    1\n",
            "8           no     yes    yes       no       no      4        1     4    1    1\n",
            "9           no     yes    yes      yes       no      4        2     2    1    1\n",
            "10         yes     yes    yes      yes       no      5        5     1    1    1\n",
            "11          no     yes    yes      yes       no      3        3     3    1    2\n",
            "12         yes     yes    yes      yes       no      5        2     2    1    1\n",
            "13         yes     yes    yes      yes       no      4        3     3    1    3\n",
            "14          no     yes    yes      yes       no      5        4     3    1    2\n",
            "15          no       no      4        3     2    1    1\n",
            "72          no     yes    yes      yes       no      3        3     3    1    1\n",
            "73          no      no    yes      yes      yes      3        3     4    2    4\n",
            "74         yes     yes    yes       no       no      5        3     2    2    2\n",
            "75         yes     yes    yes      yes       no      4        3     3    2    4\n",
            "76         yes     yes    yes      yes       no      4        3     3    2    3\n",
            "77         yes     yes    yes      yes       no      3        4     3    1    1\n",
            "78          no     yes    yes      yes      yes      5        2     3    1    3\n",
            "79         yes     yes     no      yes       no      4        5     1    1    1\n",
            "80          no     yes    yes      yes       no      2        4     3    1    2\n",
            "81         yes      no    yes      yes      yes      3        2     2    1    3\n",
            "82          no      no    yes      yes       no      5        3     2    1    2\n",
            "83          no     yes    yes      yes       no      4        4     4    1    1\n",
            "84         yes     yes    yes      yes       no      5        3     3    1    3\n",
            "85         yes      no    yes      yes       no      4        3     2    2    3\n",
            "86          no     yes    yes      yes      yes      4        4     4    2    3\n",
            "87          no     yes    yes       no       no      4        3     4    1    2\n",
            "88         yes     yes    yes      yes       no      5        3     3    1    3\n",
            "89         yes      no    yes      yes       no      4        4     2    1    1\n",
            "90          no     yes    yes       no       no      4        1     3    3    5\n",
            "91          no     yes    yes      yes      yes      4        3     3    1    3\n",
            "92         yes     yes    yes      yes       no      4        5     5    1    3\n",
            "93          no     yes    yes       no       no      3        3     3    2    3\n",
            "94         yes     yes    yes      yes       no      5        3     3    1    1\n",
            "95         yes     yes    yes      yes       no      4        3     4    1    1\n",
            "96         yes     yes    yes      yes       no      3        1     2    1    1\n",
            "97         yes      no    yes      yes       no      3        3     3    1    1\n",
            "98          no     yes    yes       no      yes      4        3     5    1    1\n",
            "99         yes      no    yes      yes       no      5        3     4    1    2\n",
            "100         no     yes    yes      yes       no      5        3     5    1    1\n",
            "101        yes     yes    yes      yes       no      4        5     5    5    5\n",
            "102        yes     yes    yes      yes      yes      4        4     3    1    1\n",
            "103        yes      no    yes      yes       no      5        3     3    1    1\n",
            "104         no     yes    yes      yes       no      4        3     5    1    1\n",
            "105        yes     yes    yes      yes       no      5        4     4    1    1\n",
            "106         no     yes    yes       no       no      4        3     3    1    1\n",
            "107         no     yes    yes      yes       no      5        1     2    1    1\n",
            "108        yes     yes    yes      yes       no      5        3     3    1    1\n",
            "109        yes     yes    yes      yes      yes      1        3     5    3    5\n",
            "110        yes     yes    yes      yes      yes      5        4     5    1    1\n",
            "111        yes     yes    yes      yes       no      5        5     3    1    1\n",
            "112        yes     yes    yes      yes       no      4        1     2    1    1\n",
            "113        yes     yes    yes      yes       no      3        1     2    1    1\n",
            "114         no     yes    yes      yes       no      3        5     2    1    1\n",
            "115        yes     yes    yes      yes      yes      5        4     2    1    1\n",
            "116        yes     yes    yes      yes       no      5        4     4    1    1\n",
            "197         no     yes    yes      yes       no      5        2     3    1    2\n",
            "198        yes     yes    yes      yes       no      3        3     4    3    5\n",
            "199         no     yes    yes      yes       no      4        2     4    2    3\n",
            "200         no     yes    yes      yes       no      4        5     2    1    2\n",
            "201        yes     yes    yes      yes       no      4        3     5    1    5\n",
            "202        yes     yes    yes       no       no      4        4     3    1    3\n",
            "203         no      no    yes       no       no      4        4     4    1    3\n",
            "204         no     yes    yes      yes       no      5        3     2    1    2\n",
            "205        yes      no    yes      yes       no      5        3     5    1    1\n",
            "206         no     yes    yes      yes      yes      4        4     3    3    4\n",
            "207         no     yes    yes      yes       no      2        3     3    2    2\n",
            "208        yes     yes    yes      yes      yes      1        3     2    1    1\n",
            "209         no     yes    yes       no       no      4        3     2    1    4\n",
            "210        yes     yes    yes      yes      yes      4        4     2    1    1\n",
            "211        yes     yes    yes      yes       no      4        3     3    1    2\n",
            "212         no     yes    yes      yes      yes      5        3     5    4    5\n",
            "213         no     yes    yes      yes       no      3        3     4    1    1\n",
            "214        yes     yes    yes      yes       no      4        4     4    2    4\n",
            "215         no     yes    yes       no       no      5        2     1    1    2\n",
            "216         no     yes    yes      yes       no      4        4     4    1    3\n",
            "217         no     yes    yes      yes      yes      3        4     5    2    4\n",
            "218         no     yes    yes      yes       no      3        2     4    2    4\n",
            "219         no     yes    yes       no       no      3        3     3    1    4\n",
            "220        yes     yes    yes      yes       no      4        3     3    1    1\n",
            "221        yes     yes    yes      yes       no      4        2     5    1    2\n",
            "222        yes     yes    yes       no      yes      4        3     4    1    1\n",
            "223         no     yes    yes      yes       no      2        3     1    1    1\n",
            "224         no     yes    yes      yes       no      3        3     3    5    5\n",
            "225        yes      no    yes      yes       no      5        3     2    1    1\n",
            "226        yes     yes    yes      yes      yes      5        3     3    1    1\n",
            "227        yes      no    yes      yes       no      5        3     4    1    3\n",
            "228         no      no    yes      yes       no      5        3     3    1    3\n",
            "229        yes     yes    yes      yes      yes      4        3     2    4    5\n",
            "230        yes     yes    yes      yes      yes      3        2     3    1    2\n",
            "231        yes     yes    yes      yes      yes      3        2     3    1    2\n",
            "232        yes     yes    yes      yes       no      4        5     2    1    1\n",
            "233        yes     yes    yes      yes      yes      4        5     5    1    3\n",
            "234        yes     yes    yes      yes       no      4        2     4    2    4\n",
            "235         no     yes    yes      yes       no      3        4     2    1    1\n",
            "236        yes     yes    yes      yes      yes      5        3     3    1    3\n",
            "237        yes      no    yes      yes      yes      4        4     2    5    5\n",
            "238         no     yes    yes      yes      yes      4        5     2    1    1\n",
            "239        yes     yes    yes       no       no      2        1     1    1    1\n",
            "240         no     yes     no      yes       no      5        5     4    3    5\n",
            "241        yes     yes    yes      yes      yes      2        5     5    1    4\n",
            "242         no     yes    yes 11\n",
            "62       5        6 10  8 11\n",
            "63       1        4  8 10  9\n",
            "64       4        2 10  9  9\n",
            "65       2        0 10 10 10\n",
            "66       1        2 16 15 15\n",
            "67       3        4 13 13 12\n",
            "68       5        4  7  7  6\n",
            "69       4        2  8  9  8\n",
            "70       3       12 16 16 16\n",
            "71       5        0 13 15 15\n",
            "72       3        0 10 10 10\n",
            "73       5        2  8  6  5\n",
            "74       5        2 12 12 14\n",
            "75       5       54 11 12 11\n",
            "76       5        6  9  9 10\n",
            "77       1        8 11 11 10\n",
            "78       3        0 11 11 11\n",
            "79       3        2  8  8 10\n",
            "80       3       12  5  5  5\n",
            "81       3        2 10 12 12\n",
            "82       5        4 11 10 11\n",
            "83       5       10  7  6  6\n",
            "84       4        4 15 15 15\n",
            "85       4        2  9 10 10\n",
            "86       5        6  7  9  8\n",
            "87       2        4  8  7  6\n",
            "88       1        4 13 14 14\n",
            "89       3       12 11 10 10\n",
            "90       5       18  8  6  7\n",
            "91       4        0  7  7  8\n",
            "92       1        4 16 17 18\n",
            "93       2        4  7  6  6\n",
            "94       1        0 11 10 10\n",
            "95       4        6 11 13 14\n",
            "96       1        2  7 10 10\n",
            "97       4        2 11 15 15\n",
            "98       5        2  8  9 10\n",
            "99       1        6 11 14 14\n",
            "100      3        0  7  9  8\n",
            "101      4       14  7  7  5\n",
            "102      4        0 16 17 17\n",
            "103      5        4 10 13 14\n",
            "104      2       26  7  6  6\n",
            "105      1        0 16 18 18\n",
            "106      4       10 10 11 11\n",
            "107      3        8  7  8  8\n",
            "108      5        2 16 18 18\n",
            "109      1        6 10 13 13\n",
            "110      4        4 14 15 16\n",
            "111      4        6 18 19 19\n",
            "112      2        0  7 10 10\n",
            "113      5        6 10 13 13\n",
            "114      3       10 18 19 19\n",
            "115      5        8  9  9  9\n",
            "116      5        2 15 15 16\n",
            "117      2        2 11 13 14\n",
            "118      5        0 13 14 13\n",
            "119      5       20  9  7  8\n",
            "120      4        6 14 13 13\n",
            "121      1        2 16 15 15\n",
            "122      5        6 16 14 15\n",
            "123      5        2 13 13 13\n",
            "124      5       18 14 11 13\n",
            "125      5        0  8  7  8\n",
            "126      5        0 13 13 12\n",
            "127      1        0  7 10 11\n",
            "128      5        2  7  8  9\n",
            "129      4        0  7  4  0\n",
            "130      4        8 18 18 18\n",
            "131      5        0 12  0  0\n",
            "132      4        0  8  0  0\n",
            "133      5       12 10 13 12\n",
            "134      5       16 12 11 11\n",
            "135      5        0  9  0  0\n",
            "136      5        0 11  0  0\n",
            "137      5        0 10  0  0\n",
            "138      5        0  4  0  0\n",
            "139      5        0 14 12 12\n",
            "140      5        0 16 16 15\n",
            "141      3        0  7  9  0\n",
            "142      2        8  9  9  9\n",
            "143      5        2  9 11 11\n",
            "144      1        2 14 14 13\n",
            "145 12 10\n",
            "395      5        5  8  9  9\n"
          ]
        }
      ],
      "source": [
        "%%R\n",
        "data"
      ]
    },
    {
      "cell_type": "code",
      "execution_count": 8,
      "metadata": {
        "colab": {
          "base_uri": "https://localhost:8080/"
        },
        "id": "PvJnMY7n0gMH",
        "outputId": "72df1ec1-e931-49b2-a7fd-eed939b30827"
      },
      "outputs": [
        {
          "output_type": "stream",
          "name": "stdout",
          "text": [
            "    school sex age address famsize Pstatus Medu Fedu     Mjob     Fjob reason\n",
            "390     MS   F  18       U     GT3       T    1    1    other    other course\n",
            "391     MS   M  20       U     LE3       A    2    2 services services course\n",
            "392     MS   M  17       U     LE3       T    3    1 services services course\n",
            "393     MS   M  21       R     GT3       T    1    1    other    other course\n",
            "394     MS   M  18       R     LE3       T    3    2 services    other course\n",
            "395     MS   M  19       U     LE3       T    1    1    other  at_home course\n",
            "    guardian traveltime studytime failures schoolsup famsup paid activities\n",
            "390   mother          2         2        1        no     no   no        yes\n",
            "391    other          1         2        2        no    yes  yes         no\n",
            "392   mother          2         1        0        no     no   no         no\n",
            "393    other          1         1        3        no     no   no         no\n",
            "394   mother          3         1        0        no     no   no         no\n",
            "395   father          1         1        0        no     no   no         no\n",
            "    nursery higher internet romantic famrel freetime goout Dalc Walc health\n",
            "390     yes    yes       no       no      1        1     1    1    1      5\n",
            "391     yes    yes       no       no      5        5     4    4    5      4\n",
            "392      no    yes      yes       no      2        4     5    3    4      2\n",
            "393      no    yes       no       no      5        5     3    3    3      3\n",
            "394      no    yes      yes       no      4        4     1    3    4      5\n",
            "395     yes    yes      yes       no      3        2     3    3    3      5\n",
            "    absences G1 G2 G3\n",
            "390        0  6  5  0\n",
            "391       11  9  9  9\n",
            "392        3 14 16 16\n",
            "393        3 10  8  7\n",
            "394        0 11 12 10\n",
            "395        5  8  9  9\n"
          ]
        }
      ],
      "source": [
        "%%R\n",
        "tail(data)"
      ]
    },
    {
      "cell_type": "code",
      "source": [
        "%%R\n",
        "length(rownames(data))"
      ],
      "metadata": {
        "colab": {
          "base_uri": "https://localhost:8080/"
        },
        "id": "HZdbP74rBDT8",
        "outputId": "ed67ea46-a194-4046-a72c-0702a5859a2c"
      },
      "execution_count": 9,
      "outputs": [
        {
          "output_type": "stream",
          "name": "stdout",
          "text": [
            "[1] 395\n"
          ]
        }
      ]
    },
    {
      "cell_type": "code",
      "source": [
        "%%R\n",
        "length(colnames(data))"
      ],
      "metadata": {
        "colab": {
          "base_uri": "https://localhost:8080/"
        },
        "id": "rJVFSvaRBVdW",
        "outputId": "a687ff6f-771c-4e55-a53b-1a278c9b2f21"
      },
      "execution_count": 10,
      "outputs": [
        {
          "output_type": "stream",
          "name": "stdout",
          "text": [
            "[1] 33\n"
          ]
        }
      ]
    },
    {
      "cell_type": "code",
      "source": [
        "%%R\n",
        "colnames(data)"
      ],
      "metadata": {
        "colab": {
          "base_uri": "https://localhost:8080/"
        },
        "id": "nY2Z25ePBeZz",
        "outputId": "b1dc550b-9a27-4e12-b059-c1545bf7b876"
      },
      "execution_count": 11,
      "outputs": [
        {
          "output_type": "stream",
          "name": "stdout",
          "text": [
            " [1] \"school\"     \"sex\"        \"age\"        \"address\"    \"famsize\"   \n",
            " [6] \"Pstatus\"    \"Medu\"       \"Fedu\"       \"Mjob\"       \"Fjob\"      \n",
            "[11] \"reason\"     \"guardian\"   \"traveltime\" \"studytime\"  \"failures\"  \n",
            "[16] \"schoolsup\"  \"famsup\"     \"paid\"       \"activities\" \"nursery\"   \n",
            "[21] \"higher\"     \"internet\"   \"romantic\"   \"famrel\"     \"freetime\"  \n",
            "[26] \"goout\"      \"Dalc\"       \"Walc\"       \"health\"     \"absences\"  \n",
            "[31] \"G1\"         \"G2\"         \"G3\"        \n"
          ]
        }
      ]
    },
    {
      "cell_type": "markdown",
      "source": [
        "## Ejercicio 0. Visualización previa de datos"
      ],
      "metadata": {
        "id": "StTK6EcLD3DB"
      }
    },
    {
      "cell_type": "code",
      "execution_count": 12,
      "metadata": {
        "colab": {
          "base_uri": "https://localhost:8080/"
        },
        "id": "fYVGL7Kf0jxO",
        "outputId": "69e8b2a1-def0-40aa-f934-7e8bef113c21"
      },
      "outputs": [
        {
          "output_type": "stream",
          "name": "stdout",
          "text": [
            "   school sex age address famsize Pstatus Medu Fedu     Mjob     Fjob\n",
            "1      GP   F  18       U     GT3       A    4    4  at_home  teacher\n",
            "2      GP   F  17       U     GT3       T    1    1  at_home    other\n",
            "3      GP   F  15       U     LE3       T    1    1  at_home    other\n",
            "4      GP   F  15       U     GT3       T    4    2   health services\n",
            "5      GP   F  16       U     GT3       T    3    3    other    other\n",
            "6      GP   M  16       U     LE3       T    4    3 services    other\n",
            "7      GP   M  16       U     LE3       T    2    2    other    other\n",
            "8      GP   F  17       U     GT3       A    4    4    other  teacher\n",
            "9      GP   M  15       U     LE3       A    3    2 services    other\n",
            "10     GP   M  15       U     GT3       T    3    4    other    other\n"
          ]
        }
      ],
      "source": [
        "%%R\n",
        "#select(data, famsize, traveltime, studytime)\n",
        "data %>% \n",
        "select(1:10, age) %>% # Esta es la forma correcta de escribirlo\n",
        "head(n=10)"
      ]
    },
    {
      "cell_type": "markdown",
      "source": [
        "## Ejercicio 1. Alumnos que salen de casa regularmente (>=3) y toman regularmente los fines de semana"
      ],
      "metadata": {
        "id": "UKMNliOlDjRL"
      }
    },
    {
      "cell_type": "code",
      "execution_count": 13,
      "metadata": {
        "colab": {
          "base_uri": "https://localhost:8080/"
        },
        "id": "5xuxYMYI2aIp",
        "outputId": "f7e30ac8-811a-43c8-dd56-ae665c2a38d5"
      },
      "outputs": [
        {
          "output_type": "stream",
          "name": "stdout",
          "text": [
            "    school sex age address famsize Pstatus Medu Fedu     Mjob goout Walc\n",
            "1       GP   M  15       U     LE3       T    4    4   health     3    3\n",
            "2       GP   M  17       U     GT3       T    3    2 services     5       U     GT3       T    3    2  at_home     3    3\n",
            "79      GP   M  18       U     GT3       T    2    2    other     4    5\n",
            "80      GP   M  17       U     LE3       T    4    3   health     5    4\n",
            "81      GP   M  17       R     LE3       A    4    4  teacher     3    3\n",
            "82      GP   M  22       U     GT3       T    3    1 services     5    5\n",
            "83      GP   M  18       R     LE3       T    3    3    other     3    3\n",
            "84      GP   M  18       U     GT3       T    3    2 services     5    4\n",
            "85      GP   M  16       U     GT3       T    3    3  at_home     3    3\n",
            "86      GP   M  18       U     GT3       T    2    1 services     5    5\n",
            "87      GP   M  18       R     LE3       A    3    4    other     5    4\n",
            "88      GP   M  17       U     GT3       T    3    1 services     4    4\n",
            "89      GP   M  18       U     GT3       T    4    2   health     5    3\n",
            "90      GP   F  19       U     GT3       T    3    3    other     5    3\n",
            "91      GP   F  18       U     GT3       T    2    3    other     5    3\n",
            "92      GP   F  17       U     LE3       T    2    2 services     4    3\n",
            "93      GP   M  18       U     GT3       T    4    4  teacher     4    4\n",
            "94      GP   M  17       U     LE3       A    4    1 services     4    4\n",
            "95      GP   M  17       U     LE3       A    3    2  teacher     4    4\n",
            "96      GP   M  18       U     GT3       T    2    1 services     4    3\n",
            "97      GP   M  17       U     GT3       T    3    3   health     3    3\n",
            "98      GP   F  19       U     GT3       T    4    4   health     4    3\n",
            "99      GP   F  19       U     LE3       T    1    1  at_home     3    3\n",
            "100     GP   F  17       R     GT3       T    3    4  at_home     4    5\n"
          ]
        }
      ],
      "source": [
        "%%R\n",
        "#FILTER Sirve para depurar valores en columnas\n",
        "data %>% \n",
        "filter(goout >= 3 & Walc >= 3) %>% \n",
        "select(1:9, goout, Walc) %>%\n",
        "head(n=100)"
      ]
    },
    {
      "cell_type": "markdown",
      "source": [
        "## Ejercicio 2. Alumnos que salen con amigos regularmente (>=3) y toman regularmente cada semana"
      ],
      "metadata": {
        "id": "gMS3gPXZF00W"
      }
    },
    {
      "cell_type": "code",
      "source": [
        "%%R\n",
        "data %>% \n",
        "filter(goout >= 3 & Dalc >= 3) %>% \n",
        "select(1:9, goout, Dalc) %>%\n",
        "head(n=100)"
      ],
      "metadata": {
        "colab": {
          "base_uri": "https://localhost:8080/"
        },
        "id": "R3eXKyNuIn7u",
        "outputId": "b8543188-11e0-4413-b306-30175e60442a"
      },
      "execution_count": 14,
      "outputs": [
        {
          "output_type": "stream",
          "name": "stdout",
          "text": [
            "   school sex age address famsize Pstatus Medu Fedu     Mjob goout Dalc\n",
            "1      GP   M  16       U     GT3       T    4    4  teacher     5    5\n",
            "2      GP   M  15       U     LE3       A    4    2   health     5    3\n",
            "3      GP   F  15       U     LE3       A    3    3    other     4    4\n",
            "4      GP   F  16       U     GT3       T    1    1 services     5    5\n",
            "5      GP   M  15       U     GT3       A    4    4    other     3    5\n",
            "6      GP   M  16       U     LE3       A    4    4  teacher     3    3\n",
            "7      GP   M  16       U     GT3       T    4    4 services     5    5\n",
            "8      GP   M  15       R     GT3       T    4    4    other     5    3\n",
            "9      GP   M  15       U     GT3       T    3    4 services     5    3\n",
            "10     GP   F  16       U     LE3       T    1    1  at_home     4    3\n",
            "11     GP   M  16       U     LE3       T    2    1  at_home     4    3\n",
            "12     GP   M  16       U     GT3       T    3    3    other     5    4\n",
            "13     GP   M  17       U     LE3       T    4    3  teacher     4    4\n",
            "14     GP   M  16       R     GT3       T    4    2  teacher     3    3\n",
            "15     GP   M  17       U     GT3       T    1    2  at_home     4    4\n",
            "16     GP   M  16       R     LE3       T    3    3  teacher     4    3\n",
            "17     GP   F  17       U     GT3       T    3    4  at_home     3    3\n",
            "18     GP   M  17       U     LE3       T    4"
          ]
        }
      ]
    },
    {
      "cell_type": "markdown",
      "source": [
        "## Ejercicio 3. Alumnos que salen con amigos y toman regularmente cada dia"
      ],
      "metadata": {
        "id": "-l4thf8xGHSf"
      }
    },
    {
      "cell_type": "code",
      "source": [
        "%%R\n",
        "data %>% \n",
        "filter(goout >= 3 & (Walc >=3 | Dalc >=3)) %>% \n",
        "select(1:9, goout, Walc, Dalc) %>%\n",
        "head(n=100)"
      ],
      "metadata": {
        "id": "vK2jOMjyIo7p"
      },
      "execution_count": 15,
      "outputs": []
    },
    {
      "cell_type": "code",
      "source": [],
      "metadata": {
        "id": "ztqX7QC6KejJ"
      },
      "execution_count": 15,
      "outputs": []
    },
    {
      "cell_type": "markdown",
      "source": [
        "## Ejercicio 4. ¿Los alumnos del ejercicio 1 son los mismos que los del ejercicio 2?¿Por qué?\n",
        "No, no son los mismos porque no todos los alumnos salen y toman el fin de semana o entre semana con regularidad. Habrá unos que toman en ambos, fin de semana y entre semana, pero no es una regla que aplique para todos."
      ],
      "metadata": {
        "id": "9bU9LgvXGGoJ"
      }
    },
    {
      "cell_type": "markdown",
      "source": [
        "## Ejercicio 5. Alumnos que no quieren continuar sus estudios pero sus padres sí cuentan con un alto grado de estudios (>=3)"
      ],
      "metadata": {
        "id": "d989Aq8zGGYt"
      }
    },
    {
      "cell_type": "code",
      "source": [
        "%%R\n",
        "colnames(data)"
      ],
      "metadata": {
        "id": "o_fxYAuGLUDi"
      },
      "execution_count": 16,
      "outputs": []
    },
    {
      "cell_type": "code",
      "source": [
        "%%R\n",
        "data %>% \n",
        "filter(higher == \"no\" & (Medu >=3 & Fedu >=3)) %>% \n",
        "select(1:9, higher, Medu, Fedu)\n"
      ],
      "metadata": {
        "id": "8H-AxgmMIqEv"
      },
      "execution_count": 17,
      "outputs": []
    },
    {
      "cell_type": "markdown",
      "source": [
        "## Ejercicio 6. Alumnos que quieren continuar con sus estudios pero sus padres no cuentan con un alto grado de estudios (<=3)"
      ],
      "metadata": {
        "id": "oCCPdDmqGF4O"
      }
    },
    {
      "cell_type": "code",
      "source": [
        "%%R\n",
        "data %>% \n",
        "filter(higher == \"yes\" & (Medu <=3 & Fedu <=3)) %>% \n",
        "select(1:9, higher, Medu, Fedu)"
      ],
      "metadata": {
        "id": "zOYfgOYYPNOq"
      },
      "execution_count": null,
      "outputs": []
    },
    {
      "cell_type": "markdown",
      "source": [
        "## Ejercicio 7. Alumnos provenientes de una zona rural que no cuentan con internet en casa"
      ],
      "metadata": {
        "id": "ELXSvIupG_pV"
      }
    },
    {
      "cell_type": "code",
      "source": [
        "%%R\n",
        "colnames(data)"
      ],
      "metadata": {
        "id": "xzuOcNN6NYL-"
      },
      "execution_count": null,
      "outputs": []
    },
    {
      "cell_type": "code",
      "source": [
        "%%R\n",
        "data %>% \n",
        "filter(address == \"R\" & (internet == \"no\")) %>% \n",
        "select(1:9, address, internet)"
      ],
      "metadata": {
        "id": "jqedbw4MNWIF"
      },
      "execution_count": null,
      "outputs": []
    },
    {
      "cell_type": "markdown",
      "source": [
        "## Ejercicio 8. Promedio de calificaciones G1, G2, G3 (mostrar primeros 50 estudiantes)"
      ],
      "metadata": {
        "id": "9J8cEfDgHAJu"
      }
    },
    {
      "cell_type": "code",
      "source": [
        "%%R\n",
        "colnames(data)"
      ],
      "metadata": {
        "id": "dwvqgPoSPR9i"
      },
      "execution_count": null,
      "outputs": []
    },
    {
      "cell_type": "code",
      "source": [
        "%%R\n",
        "data %>% \n",
        "select(1:9, G1, G2, G3) %>%\n",
        "mutate(prom = (G1+G2+G3)/3) %>% \n",
        "arrange(desc(prom)) %>%\n",
        "head(n = 50)"
      ],
      "metadata": {
        "id": "Q6OHwAZfRVgM"
      },
      "execution_count": null,
      "outputs": []
    },
    {
      "cell_type": "markdown",
      "source": [
        "## Ejercicio 9. Número de alumnos menores de edad y número de alumnos mayores de edad"
      ],
      "metadata": {
        "id": "mvp7YSqeHAgi"
      }
    },
    {
      "cell_type": "code",
      "source": [
        "%%R\n",
        "data %>%\n",
        "select(age) %>%\n",
        "filter(age >= 18) %>%\n",
        "count(age)\n",
        "\n",
        "# Mayor de edad"
      ],
      "metadata": {
        "colab": {
          "base_uri": "https://localhost:8080/"
        },
        "id": "r89MwwOAScBg",
        "outputId": "630c69a1-584f-4463-b33c-2f2da185af19"
      },
      "execution_count": 32,
      "outputs": [
        {
          "output_type": "stream",
          "name": "stdout",
          "text": [
            "  age  n\n",
            "1  18 82\n",
            "2  19 24\n",
            "3  20  3\n",
            "4  21  1\n",
            "5  22  1\n"
          ]
        }
      ]
    },
    {
      "cell_type": "code",
      "source": [
        "%%R\n",
        "data %>%\n",
        "filter(age < 18) %>%\n",
        "rownames() %>% \n",
        "length() -> menoresEdad \n",
        "\n",
        "data %>%\n",
        "filter(age >= 18) %>%\n",
        "rownames() %>% \n",
        "length() -> mayoresEdad\n",
        "\n",
        "c(menoresEdad,mayoresEdad)"
      ],
      "metadata": {
        "colab": {
          "base_uri": "https://localhost:8080/"
        },
        "id": "LvyvpuArW3Qk",
        "outputId": "42cc7ab8-bf22-4336-8f2c-ba2eeaeccb48"
      },
      "execution_count": 36,
      "outputs": [
        {
          "output_type": "stream",
          "name": "stdout",
          "text": [
            "[1] 284 111\n"
          ]
        }
      ]
    },
    {
      "cell_type": "code",
      "source": [
        "%%R\n",
        "data %>%\n",
        "select(age) %>%\n",
        "filter(age < 18) %>%\n",
        "count(age)\n",
        "\n",
        "# Menor de edad"
      ],
      "metadata": {
        "colab": {
          "base_uri": "https://localhost:8080/"
        },
        "id": "AvmJHJifWcAz",
        "outputId": "40ed68b7-42cd-4ad7-8fb3-87ccbacd3b23"
      },
      "execution_count": 31,
      "outputs": [
        {
          "output_type": "stream",
          "name": "stdout",
          "text": [
            "  age   n\n",
            "1  15  82\n",
            "2  16 104\n",
            "3  17  98\n"
          ]
        }
      ]
    },
    {
      "cell_type": "markdown",
      "source": [
        "## Ejercicio 10. ¿Qué grupo representa un mayor número de relaciones románticas, los hombres o las mujeres?"
      ],
      "metadata": {
        "id": "XLeN2U-3Hdx-"
      }
    },
    {
      "cell_type": "code",
      "source": [
        "%%R\n",
        "data %>% \n",
        "group_by(sex) %>% \n",
        "count(romantic) %>%\n",
        "filter(romantic == \"yes\")"
      ],
      "metadata": {
        "colab": {
          "base_uri": "https://localhost:8080/"
        },
        "id": "tlGZ-H5-FycH",
        "outputId": "b2a6b1f4-7c9d-49c5-f559-9d2c7112be24"
      },
      "execution_count": 37,
      "outputs": [
        {
          "output_type": "stream",
          "name": "stdout",
          "text": [
            "# A tibble: 2 × 3\n",
            "# Groups:   sex [2]\n",
            "  sex   romantic     n\n",
            "  <chr> <chr>    <int>\n",
            "1 F     yes         79\n",
            "2 M     yes         53\n"
          ]
        }
      ]
    },
    {
      "cell_type": "markdown",
      "source": [
        "### Texto extra"
      ],
      "metadata": {
        "id": "ubV9m0jXYpEA"
      }
    },
    {
      "cell_type": "code",
      "execution_count": null,
      "metadata": {
        "id": "ENtGVXFt3Af3"
      },
      "outputs": [],
      "source": [
        "%%R\n",
        "#MUTATE Sirve para crear una nueva columna de datos\n",
        "data %>%\n",
        "select(age, G1, G2,G3) %>% # %>% significa algo así como \"después\"\n",
        "mutate(prom =(G1+G2+G3)/3) %>%\n",
        "filter(prom > 10)"
      ]
    },
    {
      "cell_type": "code",
      "execution_count": null,
      "metadata": {
        "id": "LAMePgHz5G4E"
      },
      "outputs": [],
      "source": [
        "%%R\n",
        "#ARRANGE Ordena valores de un dataframe\n",
        "data %>%\n",
        "select(age, G1)\n",
        "mutate(prom = (G1+G2+G3)/3) %>%\n",
        "filter(prom > 10) %>%\n",
        "arrange(desc(prom))"
      ]
    }
  ],
  "metadata": {
    "colab": {
      "provenance": []
    },
    "kernelspec": {
      "display_name": "Python 3",
      "name": "python3"
    },
    "language_info": {
      "name": "python"
    }
  },
  "nbformat": 4,
  "nbformat_minor": 0
}