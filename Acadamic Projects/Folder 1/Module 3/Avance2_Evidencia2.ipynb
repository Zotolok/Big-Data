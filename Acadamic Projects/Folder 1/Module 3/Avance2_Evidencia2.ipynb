{
  "nbformat": 4,
  "nbformat_minor": 0,
  "metadata": {
    "colab": {
      "provenance": []
    },
    "kernelspec": {
      "name": "python3",
      "display_name": "Python 3"
    },
    "language_info": {
      "name": "python"
    }
  },
  "cells": [
    {
      "cell_type": "markdown",
      "source": [
        "# Nombre: Celic Gabriel Hernández Archundia\n",
        "# Matrícula: 2877240"
      ],
      "metadata": {
        "id": "-4B9TimhDdOY"
      }
    },
    {
      "cell_type": "markdown",
      "source": [
        "## Nota 1. Considerar en todos los ejercicios que pueden existir valores nulos (NA)\n",
        "## Nota 2. Si no hay otra instrucción, ordenar los resultados de mayor a menor valor"
      ],
      "metadata": {
        "id": "XirPmVXsDp6y"
      }
    },
    {
      "cell_type": "code",
      "source": [
        "%%capture\n",
        "!pip install rpy2==3.5.1"
      ],
      "metadata": {
        "id": "vZgvLJjFG0Ik"
      },
      "execution_count": 1,
      "outputs": []
    },
    {
      "cell_type": "code",
      "source": [
        "%load_ext rpy2.ipython"
      ],
      "metadata": {
        "id": "fRfoOijkG54m"
      },
      "execution_count": 2,
      "outputs": []
    },
    {
      "cell_type": "code",
      "source": [
        "from google.colab import drive\n",
        "drive.mount('/content/drive')"
      ],
      "metadata": {
        "colab": {
          "base_uri": "https://localhost:8080/",
          "height": 0
        },
        "id": "3uZUZGUjHDhr",
        "outputId": "9bf2ef0f-7340-4987-c527-a25bf7004b1b"
      },
      "execution_count": 3,
      "outputs": [
        {
          "output_type": "stream",
          "name": "stdout",
          "text": [
            "Mounted at /content/drive\n"
          ]
        }
      ]
    },
    {
      "cell_type": "code",
      "source": [
        "%%R\n",
        "library(readr)\n",
        "library(magrittr)\n",
        "library(dplyr)"
      ],
      "metadata": {
        "colab": {
          "base_uri": "https://localhost:8080/",
          "height": 0
        },
        "id": "cvlD7KR2HLyM",
        "outputId": "7675dc30-fec8-4dd0-eb84-07af05f5e5f0"
      },
      "execution_count": 4,
      "outputs": [
        {
          "output_type": "stream",
          "name": "stderr",
          "text": [
            "WARNING:rpy2.rinterface_lib.callbacks:R[write to console]: \n",
            "Attaching package: ‘dplyr’\n",
            "\n",
            "\n",
            "WARNING:rpy2.rinterface_lib.callbacks:R[write to console]: The following objects are masked from ‘package:stats’:\n",
            "\n",
            "    filter, lag\n",
            "\n",
            "\n",
            "WARNING:rpy2.rinterface_lib.callbacks:R[write to console]: The following objects are masked from ‘package:base’:\n",
            "\n",
            "    intersect, setdiff, setequal, union\n",
            "\n",
            "\n"
          ]
        }
      ]
    },
    {
      "cell_type": "code",
      "source": [
        "%%R\n",
        "datos <- read.csv(\"drive/MyDrive/Tecmilenio/Big Data/videogames.csv\")"
      ],
      "metadata": {
        "id": "BT_QAl-iHsO1"
      },
      "execution_count": 5,
      "outputs": []
    },
    {
      "cell_type": "markdown",
      "source": [
        "### 1. Cantidad de videojuegos por plataforma"
      ],
      "metadata": {
        "id": "KVqDFQsiEDOW"
      }
    },
    {
      "cell_type": "code",
      "execution_count": 6,
      "metadata": {
        "colab": {
          "base_uri": "https://localhost:8080/",
          "height": 0
        },
        "id": "sGyWAJZhDV-4",
        "outputId": "31f6944a-8359-418b-ba80-2c90cd1d84c3"
      },
      "outputs": [
        {
          "output_type": "stream",
          "name": "stdout",
          "text": [
            " [1] \"Name\"            \"Platform\"        \"Year_of_Release\" \"Genre\"          \n",
            " [5] \"Publisher\"       \"NA_Sales\"        \"EU_Sales\"        \"JP_Sales\"       \n",
            " [9] \"Other_Sales\"     \"Global_Sales\"    \"Critic_Score\"    \"Critic_Count\"   \n",
            "[13] \"User_Score\"      \"User_Count\"      \"Developer\"       \"Rating\"         \n"
          ]
        }
      ],
      "source": [
        "%%R \n",
        "colnames(datos)"
      ]
    },
    {
      "cell_type": "code",
      "source": [
        "%%R\n",
        "datos %>%\n",
        "group_by(Platform) %>%\n",
        "summarize(cantidad = n()) %>%\n",
        "arrange(desc(cantidad)) "
      ],
      "metadata": {
        "colab": {
          "base_uri": "https://localhost:8080/",
          "height": 0
        },
        "id": "B6gG3svNIEO4",
        "outputId": "7c53a5c9-9075-4f3e-eaa1-860e3f1adcca"
      },
      "execution_count": 7,
      "outputs": [
        {
          "output_type": "stream",
          "name": "stdout",
          "text": [
            "# A tibble: 31 × 2\n",
            "   Platform cantidad\n",
            "   <chr>       <int>\n",
            " 1 PS2          2161\n",
            " 2 DS           2152\n",
            " 3 PS3          1331\n",
            " 4 Wii          1320\n",
            " 5 X360         1262\n",
            " 6 PSP          1209\n",
            " 7 PS           1197\n",
            " 8 PC            974\n",
            " 9 XB            824\n",
            "10 GBA           822\n",
            "# ℹ 21 more rows\n",
            "# ℹ Use `print(n = ...)` to see more rows\n"
          ]
        }
      ]
    },
    {
      "cell_type": "markdown",
      "source": [
        "### 2. Cantidad de videojuegos por rating"
      ],
      "metadata": {
        "id": "Egk533X8DeA3"
      }
    },
    {
      "cell_type": "code",
      "source": [
        "%%R\n",
        "datos %>%\n",
        "filter(Rating != \"\") %>%\n",
        "group_by(Rating) %>%\n",
        "summarize(cantidad = n()) %>%\n",
        "arrange(desc(cantidad)) "
      ],
      "metadata": {
        "colab": {
          "base_uri": "https://localhost:8080/",
          "height": 0
        },
        "id": "CC6xTZytDeVQ",
        "outputId": "f8696823-8a66-4788-f22b-7dbe3fb51545"
      },
      "execution_count": 8,
      "outputs": [
        {
          "output_type": "stream",
          "name": "stdout",
          "text": [
            "# A tibble: 8 × 2\n",
            "  Rating cantidad\n",
            "  <chr>     <int>\n",
            "1 E          3991\n",
            "2 T          2961\n",
            "3 M          1563\n",
            "4 E10+       1420\n",
            "5 EC            8\n",
            "6 K-A           3\n",
            "7 RP            3\n",
            "8 AO            1\n"
          ]
        }
      ]
    },
    {
      "cell_type": "markdown",
      "source": [
        "### 3. Cantidad de videojuegos lanzados antes del año 2000 y cantidad de videojuegos lanzados después del año 2000"
      ],
      "metadata": {
        "id": "udDqLxlIDet4"
      }
    },
    {
      "cell_type": "code",
      "source": [
        "%%R\n",
        "colnames(datos)"
      ],
      "metadata": {
        "colab": {
          "base_uri": "https://localhost:8080/",
          "height": 0
        },
        "id": "bw1DMV3yJCuf",
        "outputId": "4dc7aa83-8243-486d-f1fc-a04b4efef1b8"
      },
      "execution_count": 9,
      "outputs": [
        {
          "output_type": "stream",
          "name": "stdout",
          "text": [
            " [1] \"Name\"            \"Platform\"        \"Year_of_Release\" \"Genre\"          \n",
            " [5] \"Publisher\"       \"NA_Sales\"        \"EU_Sales\"        \"JP_Sales\"       \n",
            " [9] \"Other_Sales\"     \"Global_Sales\"    \"Critic_Score\"    \"Critic_Count\"   \n",
            "[13] \"User_Score\"      \"User_Count\"      \"Developer\"       \"Rating\"         \n"
          ]
        }
      ]
    },
    {
      "cell_type": "code",
      "source": [
        "%%R\n",
        "datos %>%\n",
        "filter(Year_of_Release < 2000) %>%\n",
        "select(Name) %>%\n",
        "# Cantidad de juegos lanzados antes del 2000\n",
        "count() -> cantidadPre2000\n",
        "\n",
        "datos %>%\n",
        "filter(Year_of_Release > 2000) %>%\n",
        "select(Name) %>%\n",
        "# Cantidad de juegos lanzados después del 2000\n",
        "count() -> cantidadPos2000\n",
        "\n",
        "c(cantidadPre2000,cantidadPos2000)"
      ],
      "metadata": {
        "colab": {
          "base_uri": "https://localhost:8080/",
          "height": 0
        },
        "id": "tX0wIqYuDfHb",
        "outputId": "57bd5ab0-752b-43e9-b585-e6fa8e2beb52"
      },
      "execution_count": 10,
      "outputs": [
        {
          "output_type": "stream",
          "name": "stdout",
          "text": [
            "$n\n",
            "[1] 1976\n",
            "\n",
            "$n\n",
            "[1] 14393\n",
            "\n"
          ]
        }
      ]
    },
    {
      "cell_type": "markdown",
      "source": [
        "### 4. Plataforma cuyos videojuegos han recibido el mayor número de críticas"
      ],
      "metadata": {
        "id": "cguZfn9yDffh"
      }
    },
    {
      "cell_type": "code",
      "source": [
        "%%R\n",
        "colnames(datos)"
      ],
      "metadata": {
        "colab": {
          "base_uri": "https://localhost:8080/",
          "height": 0
        },
        "id": "opQHjSZ8DfvN",
        "outputId": "b9754848-8c47-4bd2-c15f-4e069fc64ec8"
      },
      "execution_count": 11,
      "outputs": [
        {
          "output_type": "stream",
          "name": "stdout",
          "text": [
            " [1] \"Name\"            \"Platform\"        \"Year_of_Release\" \"Genre\"          \n",
            " [5] \"Publisher\"       \"NA_Sales\"        \"EU_Sales\"        \"JP_Sales\"       \n",
            " [9] \"Other_Sales\"     \"Global_Sales\"    \"Critic_Score\"    \"Critic_Count\"   \n",
            "[13] \"User_Score\"      \"User_Count\"      \"Developer\"       \"Rating\"         \n"
          ]
        }
      ]
    },
    {
      "cell_type": "code",
      "source": [
        "%%R\n",
        "datos %>%\n",
        "filter(!is.na(Critic_Count) & Platform != \"\") %>%\n",
        "group_by(Platform) %>%\n",
        "summarize(criticas = sum(Critic_Count)) %>% \n",
        "arrange(desc(criticas)) %>%\n",
        "print(n=1)"
      ],
      "metadata": {
        "colab": {
          "base_uri": "https://localhost:8080/",
          "height": 0
        },
        "id": "AUKEbF2yKwxh",
        "outputId": "63c9bfc8-2831-41df-a89e-14b3ac53736c"
      },
      "execution_count": 12,
      "outputs": [
        {
          "output_type": "stream",
          "name": "stdout",
          "text": [
            "# A tibble: 17 × 2\n",
            "  Platform criticas\n",
            "  <chr>       <int>\n",
            "1 X360        38583\n",
            "# ℹ 16 more rows\n",
            "# ℹ Use `print(n = ...)` to see more rows\n"
          ]
        }
      ]
    },
    {
      "cell_type": "markdown",
      "source": [
        "### 5. Cantidad de videojuegos por género"
      ],
      "metadata": {
        "id": "Cl-5NqYjDgQC"
      }
    },
    {
      "cell_type": "code",
      "source": [
        "%%R\n",
        "datos %>%\n",
        "filter(Genre != \"\") %>%\n",
        "group_by(Genre) %>%\n",
        "summarize(cantidad = n()) %>%\n",
        "arrange(desc(cantidad))"
      ],
      "metadata": {
        "colab": {
          "base_uri": "https://localhost:8080/",
          "height": 0
        },
        "id": "ttLEZCs2Dglp",
        "outputId": "9c2e8afa-bd76-4c3f-8ebf-c6793d1d4028"
      },
      "execution_count": 13,
      "outputs": [
        {
          "output_type": "stream",
          "name": "stdout",
          "text": [
            "# A tibble: 12 × 2\n",
            "   Genre        cantidad\n",
            "   <chr>           <int>\n",
            " 1 Action           3370\n",
            " 2 Sports           2348\n",
            " 3 Misc             1750\n",
            " 4 Role-Playing     1500\n",
            " 5 Shooter          1323\n",
            " 6 Adventure        1303\n",
            " 7 Racing           1249\n",
            " 8 Platform          888\n",
            " 9 Simulation        874\n",
            "10 Fighting          849\n",
            "11 Strategy          683\n",
            "12 Puzzle            580\n"
          ]
        }
      ]
    },
    {
      "cell_type": "markdown",
      "source": [
        "### 6. Ventas totales en Norteamérica por parte de cada empresa desarrolladora"
      ],
      "metadata": {
        "id": "IAcRnKJhFlUJ"
      }
    },
    {
      "cell_type": "code",
      "source": [
        "%%R\n",
        "colnames(datos)"
      ],
      "metadata": {
        "colab": {
          "base_uri": "https://localhost:8080/",
          "height": 0
        },
        "id": "yuft23TuN9eR",
        "outputId": "de4b829d-bdbe-4ed3-a347-8dc18f62a220"
      },
      "execution_count": 14,
      "outputs": [
        {
          "output_type": "stream",
          "name": "stdout",
          "text": [
            " [1] \"Name\"            \"Platform\"        \"Year_of_Release\" \"Genre\"          \n",
            " [5] \"Publisher\"       \"NA_Sales\"        \"EU_Sales\"        \"JP_Sales\"       \n",
            " [9] \"Other_Sales\"     \"Global_Sales\"    \"Critic_Score\"    \"Critic_Count\"   \n",
            "[13] \"User_Score\"      \"User_Count\"      \"Developer\"       \"Rating\"         \n"
          ]
        }
      ]
    },
    {
      "cell_type": "code",
      "source": [
        "%%R\n",
        "datos %>%\n",
        "group_by(Developer) %>%\n",
        "summarize(ventasNA = sum(NA_Sales)) %>%\n",
        "arrange(desc(ventasNA))"
      ],
      "metadata": {
        "colab": {
          "base_uri": "https://localhost:8080/",
          "height": 0
        },
        "id": "OA4j8opVODOM",
        "outputId": "6b67ce7c-6c58-4abb-d38e-57fabb486e55"
      },
      "execution_count": 15,
      "outputs": [
        {
          "output_type": "stream",
          "name": "stdout",
          "text": [
            "# A tibble: 1,697 × 2\n",
            "   Developer          ventasNA\n",
            "   <chr>                 <dbl>\n",
            " 1 \"\"                   1238. \n",
            " 2 \"Nintendo\"            231. \n",
            " 3 \"EA Sports\"            96.8\n",
            " 4 \"EA Tiburon\"           78.7\n",
            " 5 \"Ubisoft\"              76.9\n",
            " 6 \"EA Canada\"            66.2\n",
            " 7 \"Treyarch\"             56.9\n",
            " 8 \"Visual Concepts\"      56.0\n",
            " 9 \"Rockstar North\"       55.2\n",
            "10 \"Ubisoft Montreal\"     51.6\n",
            "# ℹ 1,687 more rows\n",
            "# ℹ Use `print(n = ...)` to see more rows\n"
          ]
        }
      ]
    },
    {
      "cell_type": "markdown",
      "source": [
        "### 7. Ventas globales por género de videojuegos"
      ],
      "metadata": {
        "id": "RdMPEzM5Flrv"
      }
    },
    {
      "cell_type": "code",
      "source": [
        "%%R\n",
        "colnames(datos)"
      ],
      "metadata": {
        "colab": {
          "base_uri": "https://localhost:8080/",
          "height": 0
        },
        "id": "mGOAvGJEPiSU",
        "outputId": "1dfd0937-e3e6-49da-9c6b-280c4a37b84d"
      },
      "execution_count": 16,
      "outputs": [
        {
          "output_type": "stream",
          "name": "stdout",
          "text": [
            " [1] \"Name\"            \"Platform\"        \"Year_of_Release\" \"Genre\"          \n",
            " [5] \"Publisher\"       \"NA_Sales\"        \"EU_Sales\"        \"JP_Sales\"       \n",
            " [9] \"Other_Sales\"     \"Global_Sales\"    \"Critic_Score\"    \"Critic_Count\"   \n",
            "[13] \"User_Score\"      \"User_Count\"      \"Developer\"       \"Rating\"         \n"
          ]
        }
      ]
    },
    {
      "cell_type": "code",
      "source": [
        "%%R\n",
        "datos %>%\n",
        "group_by(Genre) %>%\n",
        "summarize(ventasGLOB = sum(Global_Sales)) %>%\n",
        "arrange(desc(ventasGLOB))"
      ],
      "metadata": {
        "colab": {
          "base_uri": "https://localhost:8080/",
          "height": 0
        },
        "id": "YyIZSEckPlre",
        "outputId": "35b3e3da-4a0f-47ac-e382-4fdacca7746f"
      },
      "execution_count": 17,
      "outputs": [
        {
          "output_type": "stream",
          "name": "stdout",
          "text": [
            "# A tibble: 13 × 2\n",
            "   Genre          ventasGLOB\n",
            "   <chr>               <dbl>\n",
            " 1 \"Action\"          1745.  \n",
            " 2 \"Sports\"          1332   \n",
            " 3 \"Shooter\"         1053.  \n",
            " 4 \"Role-Playing\"     934.  \n",
            " 5 \"Platform\"         828.  \n",
            " 6 \"Misc\"             803.  \n",
            " 7 \"Racing\"           729.  \n",
            " 8 \"Fighting\"         447.  \n",
            " 9 \"Simulation\"       390.  \n",
            "10 \"Puzzle\"           243.  \n",
            "11 \"Adventure\"        238.  \n",
            "12 \"Strategy\"         174.  \n",
            "13 \"\"                   2.42\n"
          ]
        }
      ]
    },
    {
      "cell_type": "markdown",
      "source": [
        "### 8. Región en donde se ha obtenido la mayor cantidad de ventas de videojuegos"
      ],
      "metadata": {
        "id": "POTmVPPsFl-p"
      }
    },
    {
      "cell_type": "code",
      "source": [
        "%%R\n",
        "colnames(datos)"
      ],
      "metadata": {
        "colab": {
          "base_uri": "https://localhost:8080/",
          "height": 0
        },
        "id": "4cB0V2hFQLsb",
        "outputId": "af08088c-e802-44b9-8d9f-b20009501ccd"
      },
      "execution_count": 18,
      "outputs": [
        {
          "output_type": "stream",
          "name": "stdout",
          "text": [
            " [1] \"Name\"            \"Platform\"        \"Year_of_Release\" \"Genre\"          \n",
            " [5] \"Publisher\"       \"NA_Sales\"        \"EU_Sales\"        \"JP_Sales\"       \n",
            " [9] \"Other_Sales\"     \"Global_Sales\"    \"Critic_Score\"    \"Critic_Count\"   \n",
            "[13] \"User_Score\"      \"User_Count\"      \"Developer\"       \"Rating\"         \n"
          ]
        }
      ]
    },
    {
      "cell_type": "code",
      "source": [
        "%%R\n",
        "datos %>%\n",
        "select(Global_Sales, NA_Sales, EU_Sales, JP_Sales) %>%\n",
        "colSums() "
      ],
      "metadata": {
        "colab": {
          "base_uri": "https://localhost:8080/",
          "height": 0
        },
        "id": "aekq9BhZP_W0",
        "outputId": "3705d70b-b17c-47cb-f9d8-f9b10e00a1c4"
      },
      "execution_count": 19,
      "outputs": [
        {
          "output_type": "stream",
          "name": "stdout",
          "text": [
            "Global_Sales     NA_Sales     EU_Sales     JP_Sales \n",
            "     8920.30      4402.62      2424.67      1297.43 \n"
          ]
        }
      ]
    },
    {
      "cell_type": "markdown",
      "source": [
        "### 9. Videojuego más vendido cada año"
      ],
      "metadata": {
        "id": "rYaJKS8SFmWU"
      }
    },
    {
      "cell_type": "code",
      "source": [
        "%%R\n",
        "colnames(datos)"
      ],
      "metadata": {
        "colab": {
          "base_uri": "https://localhost:8080/",
          "height": 0
        },
        "id": "uAvMgouCSlj1",
        "outputId": "a7be6259-24a4-4640-afaf-6fd63b69f2d0"
      },
      "execution_count": 20,
      "outputs": [
        {
          "output_type": "stream",
          "name": "stdout",
          "text": [
            " [1] \"Name\"            \"Platform\"        \"Year_of_Release\" \"Genre\"          \n",
            " [5] \"Publisher\"       \"NA_Sales\"        \"EU_Sales\"        \"JP_Sales\"       \n",
            " [9] \"Other_Sales\"     \"Global_Sales\"    \"Critic_Score\"    \"Critic_Count\"   \n",
            "[13] \"User_Score\"      \"User_Count\"      \"Developer\"       \"Rating\"         \n"
          ]
        }
      ]
    },
    {
      "cell_type": "code",
      "source": [
        "%%R\n",
        "datos %>%\n",
        "filter(Year_of_Release != \"N/A\") %>%\n",
        "select(Name, Year_of_Release, Global_Sales) %>%\n",
        "group_by(Year_of_Release) %>% \n",
        "slice_max(Global_Sales) %>% \n",
        "arrange(desc(Year_of_Release)) %>%\n",
        "head(10)"
      ],
      "metadata": {
        "colab": {
          "base_uri": "https://localhost:8080/",
          "height": 0
        },
        "id": "EU3cAqhqStpk",
        "outputId": "265067d8-10f3-4948-e8fb-e3c920a659a7"
      },
      "execution_count": 25,
      "outputs": [
        {
          "output_type": "stream",
          "name": "stdout",
          "text": [
            "# A tibble: 10 × 3\n",
            "# Groups:   Year_of_Release [10]\n",
            "   Name                                             Year_of_Release Global_Sales\n",
            "   <chr>                                            <chr>                  <dbl>\n",
            " 1 Imagine: Makeup Artist                           2020                    0.29\n",
            " 2 Phantasy Star Online 2 Episode 4: Deluxe Package 2017                    0.04\n",
            " 3 FIFA 17                                          2016                    7.59\n",
            " 4 Call of Duty: Black Ops 3                        2015                   14.6 \n",
            " 5 Grand Theft Auto V                               2014                   12.6 \n",
            " 6 Grand Theft Auto V                               2013                   21.0 \n",
            " 7 Call of Duty: Black Ops II                       2012                   13.8 \n",
            " 8 Call of Duty: Modern Warfare 3                   2011                   14.7 \n",
            " 9 Kinect Adventures!                               2010                   21.8 \n",
            "10 Wii Sports Resort                                2009                   32.8 \n"
          ]
        }
      ]
    },
    {
      "cell_type": "markdown",
      "source": [
        "### 10. Videojuego(s) más viejo(s) y videojuego(s) más nuevo(s) de acuerdo al registro"
      ],
      "metadata": {
        "id": "Xq4R3AQWFm0s"
      }
    },
    {
      "cell_type": "code",
      "source": [
        "%%R\n",
        "colnames(datos)"
      ],
      "metadata": {
        "colab": {
          "base_uri": "https://localhost:8080/",
          "height": 0
        },
        "id": "nCCAG-ksUG4b",
        "outputId": "34aad981-d929-4f1c-dc9a-d0db6bb805c7"
      },
      "execution_count": 22,
      "outputs": [
        {
          "output_type": "stream",
          "name": "stdout",
          "text": [
            " [1] \"Name\"            \"Platform\"        \"Year_of_Release\" \"Genre\"          \n",
            " [5] \"Publisher\"       \"NA_Sales\"        \"EU_Sales\"        \"JP_Sales\"       \n",
            " [9] \"Other_Sales\"     \"Global_Sales\"    \"Critic_Score\"    \"Critic_Count\"   \n",
            "[13] \"User_Score\"      \"User_Count\"      \"Developer\"       \"Rating\"         \n"
          ]
        }
      ]
    },
    {
      "cell_type": "code",
      "source": [
        "%%R\n",
        "datos %>%\n",
        "filter(Year_of_Release != \"N/A\") %>%\n",
        "select(Name, Year_of_Release) %>%\n",
        "arrange(desc(Year_of_Release)) %>%\n",
        "head(1) -> masReciente\n",
        "\n",
        "datos %>%\n",
        "filter(Year_of_Release != \"N/A\") %>%\n",
        "select(Name, Year_of_Release) %>%\n",
        "arrange(desc(Year_of_Release)) %>%\n",
        "tail(1) -> masViejo\n",
        "\n",
        "c(masReciente, masViejo)"
      ],
      "metadata": {
        "colab": {
          "base_uri": "https://localhost:8080/",
          "height": 0
        },
        "id": "-3sfN9R6UQgC",
        "outputId": "fe1453a7-01b0-4f45-b2b1-84692c98d413"
      },
      "execution_count": 23,
      "outputs": [
        {
          "output_type": "stream",
          "name": "stdout",
          "text": [
            "$Name\n",
            "[1] \"Imagine: Makeup Artist\"\n",
            "\n",
            "$Year_of_Release\n",
            "[1] \"2020\"\n",
            "\n",
            "$Name\n",
            "[1] \"Checkers\"\n",
            "\n",
            "$Year_of_Release\n",
            "[1] \"1980\"\n",
            "\n"
          ]
        }
      ]
    },
    {
      "cell_type": "markdown",
      "source": [
        "### 11. Videojuego más vendido globalmente de tu género favorito"
      ],
      "metadata": {
        "id": "ZIJad-7YFnQq"
      }
    },
    {
      "cell_type": "code",
      "source": [
        "%%R\n",
        "datos %>%\n",
        "filter(Genre == \"Shooter\") %>%\n",
        "select(Name, Global_Sales) %>%\n",
        "head(1)"
      ],
      "metadata": {
        "colab": {
          "base_uri": "https://localhost:8080/",
          "height": 0
        },
        "id": "eanFz446Vurg",
        "outputId": "13367fce-d894-45aa-c8ad-e3dadaab476f"
      },
      "execution_count": 24,
      "outputs": [
        {
          "output_type": "stream",
          "name": "stdout",
          "text": [
            "       Name Global_Sales\n",
            "1 Duck Hunt        28.31\n"
          ]
        }
      ]
    }
  ]
}