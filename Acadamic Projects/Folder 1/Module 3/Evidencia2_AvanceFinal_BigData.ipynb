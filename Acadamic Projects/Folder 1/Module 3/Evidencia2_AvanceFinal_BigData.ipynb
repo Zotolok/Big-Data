{
  "nbformat": 4,
  "nbformat_minor": 0,
  "metadata": {
    "colab": {
      "provenance": []
    },
    "kernelspec": {
      "name": "python3",
      "display_name": "Python 3"
    },
    "language_info": {
      "name": "python"
    }
  },
  "cells": [
    {
      "cell_type": "markdown",
      "source": [
        "# Evidencia 2 (Avance Final)\n",
        "## Integrantes del Equipo: \n",
        "### -Celic Gabriel Hernández Archundia   2877240\n",
        "### -Diego Alfredo López Malerva      2999206\n",
        "### -Ivan Gutierrez Gomez     2877087\n",
        "### -Diego Iván García Zarza     2897709"
      ],
      "metadata": {
        "id": "qwWzmYD_y7WG"
      }
    },
    {
      "cell_type": "code",
      "execution_count": 1,
      "metadata": {
        "id": "JyXsjFiNyaO8"
      },
      "outputs": [],
      "source": [
        "%%capture\n",
        "!pip install rpy2==3.5.1"
      ]
    },
    {
      "cell_type": "code",
      "source": [
        "%load_ext rpy2.ipython"
      ],
      "metadata": {
        "id": "570AHITzzD4Q"
      },
      "execution_count": 2,
      "outputs": []
    },
    {
      "cell_type": "code",
      "source": [
        "from google.colab import drive \n",
        "drive.mount('/content/drive')"
      ],
      "metadata": {
        "colab": {
          "base_uri": "https://localhost:8080/",
          "height": 0
        },
        "id": "tBDeqYAVzEPY",
        "outputId": "aeb60f08-47cd-47f6-c94e-096c202f8fc3"
      },
      "execution_count": 3,
      "outputs": [
        {
          "output_type": "stream",
          "name": "stdout",
          "text": [
            "Mounted at /content/drive\n"
          ]
        }
      ]
    },
    {
      "cell_type": "code",
      "source": [
        "%%R\n",
        "library(readr)\n",
        "library(magrittr)\n",
        "library(dplyr)"
      ],
      "metadata": {
        "colab": {
          "base_uri": "https://localhost:8080/",
          "height": 0
        },
        "id": "1IM4WUDZzXrg",
        "outputId": "317ab4fe-b47e-4aaa-9aa9-47c7625dd843"
      },
      "execution_count": 4,
      "outputs": [
        {
          "output_type": "stream",
          "name": "stderr",
          "text": [
            "WARNING:rpy2.rinterface_lib.callbacks:R[write to console]: \n",
            "Attaching package: ‘dplyr’\n",
            "\n",
            "\n",
            "WARNING:rpy2.rinterface_lib.callbacks:R[write to console]: The following objects are masked from ‘package:stats’:\n",
            "\n",
            "    filter, lag\n",
            "\n",
            "\n",
            "WARNING:rpy2.rinterface_lib.callbacks:R[write to console]: The following objects are masked from ‘package:base’:\n",
            "\n",
            "    intersect, setdiff, setequal, union\n",
            "\n",
            "\n"
          ]
        }
      ]
    },
    {
      "cell_type": "code",
      "source": [
        "%%R\n",
        "datos <- read.csv(\"drive/MyDrive/Tecmilenio/Big Data/ds_salaries.csv\")"
      ],
      "metadata": {
        "id": "tNypIe0SzYMb"
      },
      "execution_count": 5,
      "outputs": []
    },
    {
      "cell_type": "markdown",
      "source": [
        "### 1. La columna \"salary_in_usd\" muestra el salario anual en dólares de cada puesto de trabajo. Si un dolar equivale a 17.81 pesos mexicanos, elabore una nueva columna que muestre la conversasión a salario mensual en pesos y muestre el top 10 de los títulos profesionales que tienen el mejor sueldo en ciencia de datos."
      ],
      "metadata": {
        "id": "uuoS9OvCz51Z"
      }
    },
    {
      "cell_type": "code",
      "source": [
        "%%R\n",
        "datos %>% \n",
        "select(job_title, salary_in_usd) %>%\n",
        "mutate(salario_mx = (17.81*salary_in_usd)/12) %>% \n",
        "select(job_title, salario_mx) %>%\n",
        "arrange( desc(salario_mx)) %>%\n",
        "head(n= 10)"
      ],
      "metadata": {
        "colab": {
          "base_uri": "https://localhost:8080/",
          "height": 0
        },
        "id": "FdWWC1yXCXxc",
        "outputId": "1a33f488-a2dd-49e0-bf0e-d9c8f0b5025f"
      },
      "execution_count": 52,
      "outputs": [
        {
          "output_type": "stream",
          "name": "stdout",
          "text": [
            "                            job_title salario_mx\n",
            "1                  Research Scientist   667875.0\n",
            "2                        Data Analyst   639626.9\n",
            "3                        AI Scientist   629040.3\n",
            "4  Applied Machine Learning Scientist   627802.5\n",
            "5            Principal Data Scientist   617413.3\n",
            "6                      Data Scientist   611476.7\n",
            "7                 Data Analytics Lead   601087.5\n",
            "8                        Data Analyst   571404.2\n",
            "9              Applied Data Scientist   563983.3\n",
            "10                     Data Architect   558165.4\n"
          ]
        }
      ]
    },
    {
      "cell_type": "markdown",
      "source": [
        "### 2. Suponga que desea aplicar este año para un puesto de los presentados en este conjunto de datos. Si un nivel de experiencia es \"EN\" y quiere obtener el sueldo más alto posible, ¿Qué título le conviene más obtener? Obtenga el salario promedio de cada puesto cuyo año sea el año actual para encontrar la respuesta y muéstrela junto con su salario mensual en pesos mexicanos."
      ],
      "metadata": {
        "id": "xTyOe3L6z6PT"
      }
    },
    {
      "cell_type": "code",
      "source": [
        "%%R  \n",
        "datos %>%\n",
        "select(work_year, experience_level, job_title, salary_in_usd, company_size) %>%      \n",
        "filter(work_year == 2023)%>%\n",
        "filter(experience_level == \"EN\") %>%\n",
        "group_by(job_title) %>%\n",
        "summarize(salario.en.pesos = mean((salary_in_usd)*17.81)/12) %>%\n",
        "arrange(desc(salario.en.pesos)) %>%\n",
        "print(n= 10)"
      ],
      "metadata": {
        "colab": {
          "base_uri": "https://localhost:8080/",
          "height": 0
        },
        "id": "llqLbg9MCPjx",
        "outputId": "4e2cf5d6-8e64-47c3-e253-51eae677f929"
      },
      "execution_count": 51,
      "outputs": [
        {
          "output_type": "stream",
          "name": "stdout",
          "text": [
            "# A tibble: 19 × 2\n",
            "   job_title                 salario.en.pesos\n",
            "   <chr>                                <dbl>\n",
            " 1 Computer Vision Engineer           326517.\n",
            " 2 Applied Scientist                  248385.\n",
            " 3 Machine Learning Engineer          229364.\n",
            " 4 Research Scientist                 213720 \n",
            " 5 Deep Learning Engineer             200362.\n",
            " 6 BI Developer                       192942.\n",
            " 7 Big Data Engineer                  192942.\n",
            " 8 Research Engineer                  192942.\n",
            " 9 AI Developer                       177730.\n",
            "10 Data Quality Analyst               148417.\n",
            "# ℹ 9 more rows\n",
            "# ℹ Use `print(n = ...)` to see more rows\n"
          ]
        }
      ]
    },
    {
      "cell_type": "markdown",
      "source": [
        "Le conviene más ser Computer Vision Engineer"
      ],
      "metadata": {
        "id": "HduS6IWsC3T5"
      }
    },
    {
      "cell_type": "markdown",
      "source": [
        "### 3. Existen registro de trabajadores que radican en México.  Averigüe qué título profesional, nivel de experiencia y salario mensual en pesos mexicanos tienen y ordene los registros de mayor a menor por su salario.\n",
        "\n",
        "### Nota: La columna para saber en donde radica un trabajador es \"employee_residence\""
      ],
      "metadata": {
        "id": "VPB4HGg4z6kQ"
      }
    },
    {
      "cell_type": "code",
      "source": [
        "%%R\n",
        "datos %>%\n",
        "filter(employee_residence == \"MX\") %>%\n",
        "select(job_title, experience_level, salary_in_usd) %>%\n",
        "mutate(salary_in_mx_mensual = ((salary_in_usd)*17.81)/12) %>%\n",
        "select(-salary_in_usd) %>%\n",
        "arrange(desc(salary_in_mx_mensual)) %>%\n",
        "head(10)"
      ],
      "metadata": {
        "colab": {
          "base_uri": "https://localhost:8080/",
          "height": 0
        },
        "id": "mFixVaYS1Svi",
        "outputId": "8f1f3d4e-1e88-487b-a106-db895537ad7a"
      },
      "execution_count": 29,
      "outputs": [
        {
          "output_type": "stream",
          "name": "stdout",
          "text": [
            "                   job_title experience_level salary_in_mx_mensual\n",
            "1  Machine Learning Engineer               SE            378462.50\n",
            "2  Machine Learning Engineer               SE            274570.83\n",
            "3       Data Science Manager               SE            222625.00\n",
            "4       Data Science Manager               SE            133575.00\n",
            "5              Data Engineer               MI            106860.00\n",
            "6              Data Engineer               MI             89050.00\n",
            "7  Machine Learning Engineer               MI             53430.00\n",
            "8              Data Engineer               SE             49735.91\n",
            "9             Data Scientist               MI             44525.00\n",
            "10                BI Analyst               EN             17810.00\n"
          ]
        }
      ]
    },
    {
      "cell_type": "markdown",
      "source": [
        "### 4. Para alguien con experiencia \"EN\" que desea buscar un puesto de tiempo completo y ganar lo más posible, ¿le conviene trabajar de manera remota o presencial?"
      ],
      "metadata": {
        "id": "bYSaVjhGz7nX"
      }
    },
    {
      "cell_type": "code",
      "source": [
        "%%R\n",
        "datos %>%\n",
        "select(experience_level, employment_type, remote_ratio, salary_in_usd) %>%\n",
        "filter(experience_level == \"EN\" & employment_type == \"FT\") %>%\n",
        "group_by(remote_ratio) %>%\n",
        "summarize(salario = mean(salary_in_usd)) "
      ],
      "metadata": {
        "colab": {
          "base_uri": "https://localhost:8080/",
          "height": 0
        },
        "id": "TuXY1hJX5z0o",
        "outputId": "6d6a502f-d2e7-4df5-b761-74f3cbad5d63"
      },
      "execution_count": 50,
      "outputs": [
        {
          "output_type": "stream",
          "name": "stdout",
          "text": [
            "# A tibble: 3 × 2\n",
            "  remote_ratio salario\n",
            "         <int>   <dbl>\n",
            "1            0 104582.\n",
            "2           50  65344 \n",
            "3          100  67016.\n"
          ]
        }
      ]
    },
    {
      "cell_type": "markdown",
      "source": [
        "Es más conveniente trabajar de forma presencial que remota si es que el objetivo es ganar más dinero, tomando en cuenta los requerimientos mencionados en la pregunta"
      ],
      "metadata": {
        "id": "qAli_3iwBH_g"
      }
    },
    {
      "cell_type": "markdown",
      "source": [
        "### 5. Cantidad de registros donde el país de residencia de la compañia y del trabajador son diferentes"
      ],
      "metadata": {
        "id": "649J5xNcCfkZ"
      }
    },
    {
      "cell_type": "code",
      "source": [
        "%%R\n",
        "datos %>%\n",
        "filter(employee_residence != company_location)%>%\n",
        "count()"
      ],
      "metadata": {
        "colab": {
          "base_uri": "https://localhost:8080/",
          "height": 0
        },
        "id": "jn3J8yw2CgZv",
        "outputId": "9c852ddb-4537-444e-9d75-0c2a496f6896"
      },
      "execution_count": 53,
      "outputs": [
        {
          "output_type": "stream",
          "name": "stdout",
          "text": [
            "   n\n",
            "1 96\n"
          ]
        }
      ]
    },
    {
      "cell_type": "markdown",
      "source": [
        "### 6. Salario mensual promedio en pesos mexicanos para un trabajador con experiencia \"EN\" en una empresa de tamaño. S, L y M de acuerdo con los datos del año 2022"
      ],
      "metadata": {
        "id": "IEHFQCZrCgq9"
      }
    },
    {
      "cell_type": "code",
      "source": [
        "%%R  \n",
        "datos %>%\n",
        "select(work_year, experience_level, salary_in_usd, company_size) %>%      \n",
        "filter(work_year == 2022)%>%\n",
        "filter(experience_level == \"EN\") %>%\n",
        "group_by(company_size) %>%\n",
        "summarize(salario.en.pesos = mean((salary_in_usd)*17.81)/12)"
      ],
      "metadata": {
        "colab": {
          "base_uri": "https://localhost:8080/",
          "height": 0
        },
        "id": "ZAYnOi7OChHN",
        "outputId": "2afb4a2f-4bce-4684-c27f-4db39bc8f5d7"
      },
      "execution_count": 54,
      "outputs": [
        {
          "output_type": "stream",
          "name": "stdout",
          "text": [
            "# A tibble: 3 × 2\n",
            "  company_size salario.en.pesos\n",
            "  <chr>                   <dbl>\n",
            "1 L                     105853.\n",
            "2 M                     127823.\n",
            "3 S                      83360.\n"
          ]
        }
      ]
    },
    {
      "cell_type": "markdown",
      "source": [
        "### 7. Top 10 Cantidad de trabajadores de cada país registrado  que trabajan  en una compañía ubicada en Estados Unidos (ordenados de mayor a menor)"
      ],
      "metadata": {
        "id": "aZ_iqytcCxKe"
      }
    },
    {
      "cell_type": "code",
      "source": [
        "%%R\n",
        "datos %>%\n",
        "filter(company_location == \"US\")%>%\n",
        "group_by(employee_residence)%>%\n",
        "count()%>%\n",
        "arrange(desc(n))%>%\n",
        "head(10)"
      ],
      "metadata": {
        "colab": {
          "base_uri": "https://localhost:8080/",
          "height": 0
        },
        "id": "UPfUgVBHCxbl",
        "outputId": "7d0a6aea-f9cd-4967-865c-50f31ead5726"
      },
      "execution_count": 55,
      "outputs": [
        {
          "output_type": "stream",
          "name": "stdout",
          "text": [
            "# A tibble: 10 × 2\n",
            "# Groups:   employee_residence [10]\n",
            "   employee_residence     n\n",
            "   <chr>              <int>\n",
            " 1 US                  2999\n",
            " 2 IN                     7\n",
            " 3 BR                     3\n",
            " 4 ES                     3\n",
            " 5 AR                     2\n",
            " 6 BO                     2\n",
            " 7 PT                     2\n",
            " 8 RU                     2\n",
            " 9 BE                     1\n",
            "10 BG                     1\n"
          ]
        }
      ]
    },
    {
      "cell_type": "markdown",
      "source": [
        "### 8. ¿Cuál es la equivalencia en promedio de cada moneda utilizada para la conversión en dólares?"
      ],
      "metadata": {
        "id": "HrUKcoWuCx1D"
      }
    },
    {
      "cell_type": "code",
      "source": [
        "%%R\n",
        "datos %>%\n",
        "group_by(salary_currency) %>%\n",
        "summarize(prom = mean(salary), prom_usd = mean(salary_in_usd)) %>%\n",
        "summarize(curr = salary_currency, promtot = prom / prom_usd)"
      ],
      "metadata": {
        "colab": {
          "base_uri": "https://localhost:8080/",
          "height": 0
        },
        "id": "muDXKmJGCyJI",
        "outputId": "343fdbfa-1151-4955-91f4-2fb7cda8addb"
      },
      "execution_count": 59,
      "outputs": [
        {
          "output_type": "stream",
          "name": "stdout",
          "text": [
            "# A tibble: 20 × 2\n",
            "   curr  promtot\n",
            "   <chr>   <dbl>\n",
            " 1 AUD     1.43 \n",
            " 2 BRL     5.27 \n",
            " 3 CAD     1.29 \n",
            " 4 CHF     0.946\n",
            " 5 CLP   759.   \n",
            " 6 CZK    23.4  \n",
            " 7 DKK     6.41 \n",
            " 8 EUR     0.918\n",
            " 9 GBP     0.809\n",
            "10 HKD     7.84 \n",
            "11 HUF   319.   \n",
            "12 ILS     3.54 \n",
            "13 INR    77.0  \n",
            "14 JPY   109.   \n",
            "15 MXN    21.5  \n",
            "16 PLN     4.19 \n",
            "17 SGD     1.35 \n",
            "18 THB    34.0  \n",
            "19 TRY     8.92 \n",
            "20 USD     1    \n"
          ]
        }
      ]
    }
  ]
}