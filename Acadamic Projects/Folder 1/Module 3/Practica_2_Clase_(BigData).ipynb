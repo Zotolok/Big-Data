{
  "nbformat": 4,
  "nbformat_minor": 0,
  "metadata": {
    "colab": {
      "provenance": []
    },
    "kernelspec": {
      "name": "python3",
      "display_name": "Python 3"
    },
    "language_info": {
      "name": "python"
    }
  },
  "cells": [
    {
      "cell_type": "markdown",
      "source": [
        "# Nombre: Celic Gabriel Hernández Archundia\n",
        "# Matrícula: 2877240"
      ],
      "metadata": {
        "id": "DmAEkVN__Fys"
      }
    },
    {
      "cell_type": "code",
      "source": [
        "%%capture\n",
        "!pip install rpy2==3.5.1"
      ],
      "metadata": {
        "id": "nJTeGVCJ_S7l"
      },
      "execution_count": 2,
      "outputs": []
    },
    {
      "cell_type": "code",
      "source": [
        "%load_ext rpy2.ipython"
      ],
      "metadata": {
        "id": "AVd5dzqJ_ajG"
      },
      "execution_count": 3,
      "outputs": []
    },
    {
      "cell_type": "code",
      "source": [
        "from google.colab import drive\n",
        "drive.mount('/content/drive',force_remount=True)"
      ],
      "metadata": {
        "colab": {
          "base_uri": "https://localhost:8080/",
          "height": 0
        },
        "id": "Sn3wajb-_e13",
        "outputId": "6aa4a793-3de3-481e-d337-9f73b5cb6f5c"
      },
      "execution_count": 4,
      "outputs": [
        {
          "output_type": "stream",
          "name": "stdout",
          "text": [
            "Mounted at /content/drive\n"
          ]
        }
      ]
    },
    {
      "cell_type": "code",
      "execution_count": 6,
      "metadata": {
        "colab": {
          "base_uri": "https://localhost:8080/",
          "height": 0
        },
        "id": "-7uecDDR-s_N",
        "outputId": "044a33c5-9f0e-4efb-e2ff-2a865f5ea1ce"
      },
      "outputs": [
        {
          "output_type": "stream",
          "name": "stderr",
          "text": [
            "WARNING:rpy2.rinterface_lib.callbacks:R[write to console]: \n",
            "Attaching package: ‘dplyr’\n",
            "\n",
            "\n",
            "WARNING:rpy2.rinterface_lib.callbacks:R[write to console]: The following objects are masked from ‘package:stats’:\n",
            "\n",
            "    filter, lag\n",
            "\n",
            "\n",
            "WARNING:rpy2.rinterface_lib.callbacks:R[write to console]: The following objects are masked from ‘package:base’:\n",
            "\n",
            "    intersect, setdiff, setequal, union\n",
            "\n",
            "\n"
          ]
        }
      ],
      "source": [
        "%%R\n",
        "library(readr)\n",
        "library(magrittr)\n",
        "library(dplyr)"
      ]
    },
    {
      "cell_type": "code",
      "source": [
        "%%R\n",
        "datos <- read.csv(\"drive/MyDrive/Tecmilenio/Big Data/movies.csv\")"
      ],
      "metadata": {
        "id": "dpCGWEM9_QsO"
      },
      "execution_count": 5,
      "outputs": []
    },
    {
      "cell_type": "markdown",
      "source": [
        "### 0. ¿Cuántas películas tiene el conjunto de datos?"
      ],
      "metadata": {
        "id": "9h2QGfe2__8g"
      }
    },
    {
      "cell_type": "code",
      "source": [
        "%%R\n",
        "length(rownames(datos))"
      ],
      "metadata": {
        "colab": {
          "base_uri": "https://localhost:8080/",
          "height": 0
        },
        "id": "x-TW2WIG_-yR",
        "outputId": "27a09ef3-9ea5-4ff4-fb7f-df3890f98a65"
      },
      "execution_count": 7,
      "outputs": [
        {
          "output_type": "stream",
          "name": "stdout",
          "text": [
            "[1] 7668\n"
          ]
        }
      ]
    },
    {
      "cell_type": "markdown",
      "source": [
        "### 1. ¿Cuáles son los diferentes tipos de clasificación (Rating) y cuántos registros existen por cada uno?"
      ],
      "metadata": {
        "id": "2KS2VxDuApLc"
      }
    },
    {
      "cell_type": "code",
      "source": [
        "%%R\n",
        "colnames(datos)"
      ],
      "metadata": {
        "colab": {
          "base_uri": "https://localhost:8080/",
          "height": 0
        },
        "id": "rasRip7-A1_D",
        "outputId": "6b635e9b-94f6-4b67-d06b-c3fe15d5a50c"
      },
      "execution_count": 8,
      "outputs": [
        {
          "output_type": "stream",
          "name": "stdout",
          "text": [
            " [1] \"name\"     \"rating\"   \"genre\"    \"year\"     \"released\" \"score\"   \n",
            " [7] \"votes\"    \"director\" \"writer\"   \"star\"     \"country\"  \"budget\"  \n",
            "[13] \"gross\"    \"company\"  \"runtime\" \n"
          ]
        }
      ]
    },
    {
      "cell_type": "code",
      "source": [
        "%%R\n",
        "datos %>%\n",
        "group_by(rating) %>% # Tú quieres contar, promediar, etc., cuando usas groupby\n",
        "summarize(cantidad = n()) # n() -> para contar datos"
      ],
      "metadata": {
        "colab": {
          "base_uri": "https://localhost:8080/",
          "height": 0
        },
        "id": "CwYtRXE5A3KE",
        "outputId": "12580c8a-bbb2-4e80-f613-e65277358418"
      },
      "execution_count": 15,
      "outputs": [
        {
          "output_type": "stream",
          "name": "stdout",
          "text": [
            "# A tibble: 13 × 2\n",
            "   rating      cantidad\n",
            "   <chr>          <int>\n",
            " 1 \"\"                77\n",
            " 2 \"Approved\"         1\n",
            " 3 \"G\"              153\n",
            " 4 \"NC-17\"           23\n",
            " 5 \"Not Rated\"      283\n",
            " 6 \"PG\"            1252\n",
            " 7 \"PG-13\"         2112\n",
            " 8 \"R\"             3697\n",
            " 9 \"TV-14\"            1\n",
            "10 \"TV-MA\"            9\n",
            "11 \"TV-PG\"            5\n",
            "12 \"Unrated\"         52\n",
            "13 \"X\"                3\n"
          ]
        }
      ]
    },
    {
      "cell_type": "markdown",
      "source": [
        "### 2. ¿Cuáles son los diferentes tipos de género (Genre) y cuántos registros existen por cada uno?"
      ],
      "metadata": {
        "id": "Cs6MyILzA21D"
      }
    },
    {
      "cell_type": "code",
      "source": [
        "%%R\n",
        "datos %>%\n",
        "group_by(genre) %>% # Tú quieres contar, promediar, etc., cuando usas groupby\n",
        "summarize(cantidad = n()) # n() -> para contar datos"
      ],
      "metadata": {
        "colab": {
          "base_uri": "https://localhost:8080/",
          "height": 0
        },
        "id": "llHjljr3A2na",
        "outputId": "4f65fbba-47fb-409e-a120-51cf813cb7f4"
      },
      "execution_count": 17,
      "outputs": [
        {
          "output_type": "stream",
          "name": "stdout",
          "text": [
            "# A tibble: 19 × 2\n",
            "   genre     cantidad\n",
            "   <chr>        <int>\n",
            " 1 Action        1705\n",
            " 2 Adventure      427\n",
            " 3 Animation      338\n",
            " 4 Biography      443\n",
            " 5 Comedy        2245\n",
            " 6 Crime          551\n",
            " 7 Drama         1518\n",
            " 8 Family          11\n",
            " 9 Fantasy         44\n",
            "10 History          1\n",
            "11 Horror         322\n",
            "12 Music            1\n",
            "13 Musical          2\n",
            "14 Mystery         20\n",
            "15 Romance         10\n",
            "16 Sci-Fi          10\n",
            "17 Sport            1\n",
            "18 Thriller        16\n",
            "19 Western          3\n"
          ]
        }
      ]
    },
    {
      "cell_type": "markdown",
      "source": [
        "### 3. ¿Cuántas películas hay registradas por cada año?"
      ],
      "metadata": {
        "id": "s34T4t_kA2ak"
      }
    },
    {
      "cell_type": "code",
      "source": [
        "%%R\n",
        "datos %>%\n",
        "group_by(year) %>% # Tú quieres contar, promediar, etc., cuando usas groupby\n",
        "summarize(cantidad = n()) %>% # n() -> para contar datos\n",
        "print(n=41)"
      ],
      "metadata": {
        "colab": {
          "base_uri": "https://localhost:8080/",
          "height": 0
        },
        "id": "5OtFhwh4DLDO",
        "outputId": "99fddc27-22d2-4d97-bcce-f3e03a4b7e79"
      },
      "execution_count": 16,
      "outputs": [
        {
          "output_type": "stream",
          "name": "stdout",
          "text": [
            "# A tibble: 41 × 2\n",
            "    year cantidad\n",
            "   <int>    <int>\n",
            " 1  1980       92\n",
            " 2  1981      113\n",
            " 3  1982      126\n",
            " 4  1983      144\n",
            " 5  1984      168\n",
            " 6  1985      200\n",
            " 7  1986      200\n",
            " 8  1987      200\n",
            " 9  1988      200\n",
            "10  1989      200\n",
            "11  1990      200\n",
            "12  1991      200\n",
            "13  1992      200\n",
            "14  1993      200\n",
            "15  1994      200\n",
            "16  1995      200\n",
            "17  1996      200\n",
            "18  1997      200\n",
            "19  1998      200\n",
            "20  1999      200\n",
            "21  2000      200\n",
            "22  2001      200\n",
            "23  2002      200\n",
            "24  2003      200\n",
            "25  2004      200\n",
            "26  2005      200\n",
            "27  2006      200\n",
            "28  2007      200\n",
            "29  2008      200\n",
            "30  2009      200\n",
            "31  2010      200\n",
            "32  2011      200\n",
            "33  2012      200\n",
            "34  2013      200\n",
            "35  2014      200\n",
            "36  2015      200\n",
            "37  2016      200\n",
            "38  2017      200\n",
            "39  2018      200\n",
            "40  2019      200\n",
            "41  2020       25\n"
          ]
        }
      ]
    },
    {
      "cell_type": "markdown",
      "source": [
        "### 4. En promedio, ¿Qué año tiene el Score más alto?"
      ],
      "metadata": {
        "id": "9bjF9nUNDLoO"
      }
    },
    {
      "cell_type": "code",
      "source": [
        "%%R\n",
        "datos %>%\n",
        "group_by(year) %>% # Tú quieres contar, promediar, etc., cuando usas groupby\n",
        "summarize(col = mean(score)) %>% # n() -> para contar datos\n",
        "arrange(desc(col)) %>% # arrange es para acomodar en orden ascendente o descendente\n",
        "print(n=41)"
      ],
      "metadata": {
        "colab": {
          "base_uri": "https://localhost:8080/",
          "height": 0
        },
        "id": "GEW6TGJkDMBN",
        "outputId": "ac96350d-24ee-4bc2-a0d7-052334679303"
      },
      "execution_count": 21,
      "outputs": [
        {
          "output_type": "stream",
          "name": "stdout",
          "text": [
            "# A tibble: 41 × 2\n",
            "    year   col\n",
            "   <int> <dbl>\n",
            " 1  2016  6.62\n",
            " 2  2013  6.62\n",
            " 3  2014  6.59\n",
            " 4  2017  6.56\n",
            " 5  2015  6.52\n",
            " 6  2004  6.52\n",
            " 7  1999  6.50\n",
            " 8  2018  6.49\n",
            " 9  2011  6.48\n",
            "10  2007  6.47\n",
            "11  2012  6.47\n",
            "12  2006  6.46\n",
            "13  1998  6.46\n",
            "14  1995  6.46\n",
            "15  2010  6.46\n",
            "16  2001  6.45\n",
            "17  2009  6.44\n",
            "18  1992  6.41\n",
            "19  1991  6.39\n",
            "20  2008  6.39\n",
            "21  1993  6.38\n",
            "22  2005  6.36\n",
            "23  2019  6.36\n",
            "24  2002  6.36\n",
            "25  2000  6.36\n",
            "26  1997  6.36\n",
            "27  2003  6.33\n",
            "28  1990  6.33\n",
            "29  1994  6.31\n",
            "30  1985  6.31\n",
            "31  1980  6.30\n",
            "32  1981  6.30\n",
            "33  1982  6.29\n",
            "34  1988  6.28\n",
            "35  1996  6.24\n",
            "36  1987  6.22\n",
            "37  1984  6.19\n",
            "38  1989  6.18\n",
            "39  1986  6.15\n",
            "40  1983  6.02\n",
            "41  2020 NA   \n"
          ]
        }
      ]
    },
    {
      "cell_type": "markdown",
      "source": [
        "### 5. ¿Qué año tiene la cantidad de votos más alta?"
      ],
      "metadata": {
        "id": "hrSG__kHDMtO"
      }
    },
    {
      "cell_type": "code",
      "source": [
        "%%R\n",
        "datos %>%\n",
        "group_by(year) %>% # Tú quieres contar, promediar, etc., cuando usas groupby\n",
        "summarize(col = sum(votes)) %>% # n() -> para contar datos\n",
        "arrange(desc(col)) %>% # arrange es para acomodar en orden ascendente o descendente\n",
        "print(n=1)"
      ],
      "metadata": {
        "colab": {
          "base_uri": "https://localhost:8080/",
          "height": 0
        },
        "id": "4-JekOvZFT9Z",
        "outputId": "577ca473-bb48-4eec-a408-0441439a3b19"
      },
      "execution_count": 24,
      "outputs": [
        {
          "output_type": "stream",
          "name": "stdout",
          "text": [
            "# A tibble: 41 × 2\n",
            "   year      col\n",
            "  <int>    <dbl>\n",
            "1  2013 33093300\n",
            "# ℹ 40 more rows\n",
            "# ℹ Use `print(n = ...)` to see more rows\n"
          ]
        }
      ]
    },
    {
      "cell_type": "markdown",
      "source": [
        "### 6. ¿Qué directores han filmado más de 5 películas?"
      ],
      "metadata": {
        "id": "wu376rMEFUPR"
      }
    },
    {
      "cell_type": "code",
      "source": [
        "%%R\n",
        "colnames(datos)"
      ],
      "metadata": {
        "colab": {
          "base_uri": "https://localhost:8080/",
          "height": 0
        },
        "id": "D0Hg_WSqGttc",
        "outputId": "bc2e6c4f-cc8b-463a-cae4-0fc3548223ff"
      },
      "execution_count": 25,
      "outputs": [
        {
          "output_type": "stream",
          "name": "stdout",
          "text": [
            " [1] \"name\"     \"rating\"   \"genre\"    \"year\"     \"released\" \"score\"   \n",
            " [7] \"votes\"    \"director\" \"writer\"   \"star\"     \"country\"  \"budget\"  \n",
            "[13] \"gross\"    \"company\"  \"runtime\" \n"
          ]
        }
      ]
    },
    {
      "cell_type": "code",
      "source": [
        "%%R\n",
        "datos %>%\n",
        "group_by(director) %>% # Tú quieres contar, promediar, etc., cuando usas groupby\n",
        "summarize(col = n()) %>% # n() -> para contar datos\n",
        "arrange(desc(col)) %>% # arrange es para acomodar en orden ascendente o descendente\n",
        "print(n=5)"
      ],
      "metadata": {
        "colab": {
          "base_uri": "https://localhost:8080/",
          "height": 0
        },
        "id": "o97gCePDFUge",
        "outputId": "89825c0a-c08c-4803-ec46-56b76f8c5177"
      },
      "execution_count": 27,
      "outputs": [
        {
          "output_type": "stream",
          "name": "stdout",
          "text": [
            "# A tibble: 2,949 × 2\n",
            "  director           col\n",
            "  <chr>            <int>\n",
            "1 Woody Allen         38\n",
            "2 Clint Eastwood      31\n",
            "3 Directors           28\n",
            "4 Steven Spielberg    27\n",
            "5 Ron Howard          24\n",
            "# ℹ 2,944 more rows\n",
            "# ℹ Use `print(n = ...)` to see more rows\n"
          ]
        }
      ]
    },
    {
      "cell_type": "markdown",
      "source": [
        "### 7. ¿Quién es el actor protagonista que participó en más películas en cada década (80s, 90s, 00s, 10s, 20s)?"
      ],
      "metadata": {
        "id": "monI5NuDFU0S"
      }
    },
    {
      "cell_type": "code",
      "source": [
        "%%R\n",
        "datos %>%\n",
        "mutate(decade = case_when(\n",
        "    year >= 1980 & year < 1990 ~ \"80s\",\n",
        "    year >= 1990 & year < 2000 ~ \"90s\",\n",
        "    year >= 2000 & year < 2010 ~ \"00s\",\n",
        "    year >= 2010 & year < 2020 ~ \"10s\",\n",
        "    year >= 2020 & year < 2030 ~ \"20s\"\n",
        ")) %>% \n",
        "select(decade,star) %>% \n",
        "group_by(decade, star) %>% # Tú quieres contar, promediar, etc., cuando usas groupby\n",
        "summarize(num_peliculas = n()) %>% # n() -> para contar datos\n",
        "summarize(mejor_star = star[which.max(num_peliculas)], num_pelis = max(num_peliculas))"
      ],
      "metadata": {
        "colab": {
          "base_uri": "https://localhost:8080/",
          "height": 0
        },
        "id": "PLkRqQ8eFVJf",
        "outputId": "a7aee550-526e-4a35-a97f-c6506dce09d5"
      },
      "execution_count": 30,
      "outputs": [
        {
          "output_type": "stream",
          "name": "stdout",
          "text": [
            "`summarise()` has grouped output by 'decade'. You can override using the\n",
            "`.groups` argument.\n",
            "# A tibble: 5 × 3\n",
            "  decade mejor_star     num_pelis\n",
            "  <chr>  <chr>              <int>\n",
            "1 00s    Nicolas Cage          17\n",
            "2 10s    Dwayne Johnson        14\n",
            "3 20s    Augie Tulba            1\n",
            "4 80s    Burt Reynolds         14\n",
            "5 90s    Bruce Willis          15\n"
          ]
        }
      ]
    },
    {
      "cell_type": "markdown",
      "source": [
        "### 8. Top 10 de las películas con más presupuesto"
      ],
      "metadata": {
        "id": "gBYYaHZtFVYm"
      }
    },
    {
      "cell_type": "code",
      "source": [
        "%%R\n",
        "datos %>%\n",
        "select(name, budget) %>% # Tú quieres contar, promediar, etc., cuando usas groupby\n",
        "arrange(desc(budget)) %>% # arrange es para acomodar en orden ascendente o descendente\n",
        "head(n=10)"
      ],
      "metadata": {
        "colab": {
          "base_uri": "https://localhost:8080/",
          "height": 0
        },
        "id": "aXYCLWkyFVve",
        "outputId": "cc624d12-acb1-4a7f-e0d3-ed19e17ec017"
      },
      "execution_count": 35,
      "outputs": [
        {
          "output_type": "stream",
          "name": "stdout",
          "text": [
            "                                            name   budget\n",
            "1                              Avengers: Endgame 3.56e+08\n",
            "2                         Avengers: Infinity War 3.21e+08\n",
            "3        Star Wars: Episode VIII - The Last Jedi 3.17e+08\n",
            "4       Pirates of the Caribbean: at World's End 3.00e+08\n",
            "5                                 Justice League 3.00e+08\n",
            "6                        Solo: A Star Wars Story 2.75e+08\n",
            "7  Star Wars: Episode IX - The Rise of Skywalker 2.75e+08\n",
            "8                               Superman Returns 2.70e+08\n",
            "9                                        Tangled 2.60e+08\n",
            "10                                 The Lion King 2.60e+08\n"
          ]
        }
      ]
    }
  ]
}