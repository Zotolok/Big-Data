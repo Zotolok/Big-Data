{
 "cells": [
  {
   "cell_type": "markdown",
   "id": "5db80ae4",
   "metadata": {},
   "source": [
    "# Nombre: Celic Gabriel Hernández Archundia\n",
    "## Matrícula: 2877240\n",
    "## Materia: Fundamentos de programación de Big Data\n",
    "\n",
    "### Comentarios de Python"
   ]
  },
  {
   "cell_type": "code",
   "execution_count": 2,
   "id": "e67f3c4a",
   "metadata": {},
   "outputs": [
    {
     "data": {
      "text/plain": [
       "'Este es un comentario\\nmultilínea. Puedo seguir escribiendo\\nen esta línea.'"
      ]
     },
     "execution_count": 2,
     "metadata": {},
     "output_type": "execute_result"
    }
   ],
   "source": [
    "# Este es un comentario de una sola línea\n",
    "\"\"\"Este es un comentario\n",
    "multilínea. Puedo seguir escribiendo\n",
    "en esta línea.\"\"\""
   ]
  },
  {
   "cell_type": "code",
   "execution_count": 3,
   "id": "a043ba11",
   "metadata": {},
   "outputs": [
    {
     "name": "stdout",
     "output_type": "stream",
     "text": [
      "Este es un texto que se imprime\n"
     ]
    }
   ],
   "source": [
    "print(\"Este es un texto que se imprime\")"
   ]
  },
  {
   "cell_type": "code",
   "execution_count": 5,
   "id": "45feb9fc",
   "metadata": {},
   "outputs": [
    {
     "name": "stdout",
     "output_type": "stream",
     "text": [
      "Este texto tiene el símbolo \"dentro de mi texto\n",
      "Tambien puedo escribir texto con comillas simples\n"
     ]
    }
   ],
   "source": [
    "print(\"Este texto tiene el símbolo \\\"dentro de mi texto\")\n",
    "print('Tambien puedo escribir texto con comillas simples')"
   ]
  },
  {
   "cell_type": "code",
   "execution_count": 13,
   "id": "96dea0d9",
   "metadata": {},
   "outputs": [
    {
     "data": {
      "text/plain": [
       "-5"
      ]
     },
     "execution_count": 13,
     "metadata": {},
     "output_type": "execute_result"
    }
   ],
   "source": [
    "# Entero\n",
    "dato_entero = -5\n",
    "# Float (decimal)\n",
    "dato_float = 5.124435\n",
    "# Cada de caracteres\n",
    "dato_texto = \"Este es un texto\"\n",
    "# Booleano\n",
    "dato_booleano = True\n",
    "dato_entero"
   ]
  },
  {
   "cell_type": "code",
   "execution_count": 14,
   "id": "d75b4d5a",
   "metadata": {},
   "outputs": [
    {
     "name": "stdout",
     "output_type": "stream",
     "text": [
      "-5 5.124435 Este es un texto True\n"
     ]
    }
   ],
   "source": [
    "print(dato_entero, dato_float, dato_texto, dato_booleano)"
   ]
  },
  {
   "cell_type": "code",
   "execution_count": 16,
   "id": "24520a1f",
   "metadata": {},
   "outputs": [
    {
     "name": "stdout",
     "output_type": "stream",
     "text": [
      "<class 'int'> <class 'float'> <class 'str'> <class 'bool'>\n"
     ]
    }
   ],
   "source": [
    "print(type(dato_entero), type(dato_float), type(dato_texto), type(dato_booleano))"
   ]
  },
  {
   "cell_type": "code",
   "execution_count": 17,
   "id": "81d0de6b",
   "metadata": {},
   "outputs": [],
   "source": [
    "valor = 3\n",
    "Valor = 4"
   ]
  },
  {
   "cell_type": "code",
   "execution_count": 20,
   "id": "bc545a18",
   "metadata": {},
   "outputs": [
    {
     "data": {
      "text/plain": [
       "7"
      ]
     },
     "execution_count": 20,
     "metadata": {},
     "output_type": "execute_result"
    }
   ],
   "source": [
    "valor + Valor"
   ]
  },
  {
   "cell_type": "code",
   "execution_count": 21,
   "id": "3edc7f5c",
   "metadata": {},
   "outputs": [
    {
     "data": {
      "text/plain": [
       "-1"
      ]
     },
     "execution_count": 21,
     "metadata": {},
     "output_type": "execute_result"
    }
   ],
   "source": [
    "valor - Valor"
   ]
  },
  {
   "cell_type": "code",
   "execution_count": 22,
   "id": "93a8a8b8",
   "metadata": {},
   "outputs": [
    {
     "data": {
      "text/plain": [
       "12"
      ]
     },
     "execution_count": 22,
     "metadata": {},
     "output_type": "execute_result"
    }
   ],
   "source": [
    "valor * Valor"
   ]
  },
  {
   "cell_type": "code",
   "execution_count": 23,
   "id": "cfc50726",
   "metadata": {},
   "outputs": [
    {
     "data": {
      "text/plain": [
       "0.75"
      ]
     },
     "execution_count": 23,
     "metadata": {},
     "output_type": "execute_result"
    }
   ],
   "source": [
    "valor / Valor"
   ]
  },
  {
   "cell_type": "code",
   "execution_count": 24,
   "id": "1ea10fd0",
   "metadata": {},
   "outputs": [
    {
     "data": {
      "text/plain": [
       "81"
      ]
     },
     "execution_count": 24,
     "metadata": {},
     "output_type": "execute_result"
    }
   ],
   "source": [
    "valor ** Valor"
   ]
  },
  {
   "cell_type": "code",
   "execution_count": 25,
   "id": "5430e70b",
   "metadata": {},
   "outputs": [
    {
     "data": {
      "text/plain": [
       "15"
      ]
     },
     "execution_count": 25,
     "metadata": {},
     "output_type": "execute_result"
    }
   ],
   "source": [
    "valor + Valor * valor"
   ]
  },
  {
   "cell_type": "code",
   "execution_count": 28,
   "id": "473b11ea",
   "metadata": {},
   "outputs": [
    {
     "data": {
      "text/plain": [
       "4.0"
      ]
     },
     "execution_count": 28,
     "metadata": {},
     "output_type": "execute_result"
    }
   ],
   "source": [
    "import math\n",
    "\n",
    "math.sqrt(16)"
   ]
  },
  {
   "cell_type": "code",
   "execution_count": 31,
   "id": "d86f3f37",
   "metadata": {},
   "outputs": [
    {
     "data": {
      "text/plain": [
       "3"
      ]
     },
     "execution_count": 31,
     "metadata": {},
     "output_type": "execute_result"
    }
   ],
   "source": [
    "valor % Valor"
   ]
  },
  {
   "cell_type": "markdown",
   "id": "273a5c80",
   "metadata": {},
   "source": [
    "Entrada de usuario"
   ]
  },
  {
   "cell_type": "code",
   "execution_count": 30,
   "id": "aceb247c",
   "metadata": {},
   "outputs": [
    {
     "name": "stdout",
     "output_type": "stream",
     "text": [
      "Por favor escribe tu edad: iugh\n"
     ]
    }
   ],
   "source": [
    "# La función input solicita una entrada al usuario\n",
    "edad = input(\"Por favor escribe tu edad: \")"
   ]
  },
  {
   "cell_type": "code",
   "execution_count": 32,
   "id": "041494c6",
   "metadata": {},
   "outputs": [
    {
     "name": "stdout",
     "output_type": "stream",
     "text": [
      "iugh\n"
     ]
    }
   ],
   "source": [
    "print(edad)"
   ]
  },
  {
   "cell_type": "code",
   "execution_count": 35,
   "id": "8436c5bf",
   "metadata": {},
   "outputs": [
    {
     "name": "stdout",
     "output_type": "stream",
     "text": [
      "Escribe tu edad y yo calculo los días que has vivido20\n",
      "Has vivido  7300  dias\n"
     ]
    }
   ],
   "source": [
    "edad = input(\"Escribe tu edad y yo calculo los días que has vivido\")\n",
    "dias_vividos = int(edad) *365\n",
    "print(\"Has vivido \", dias_vividos, \" dias\")"
   ]
  },
  {
   "cell_type": "markdown",
   "id": "ebccf9b9",
   "metadata": {},
   "source": [
    "## Ejercicios\n"
   ]
  },
  {
   "cell_type": "markdown",
   "id": "4b1129a8",
   "metadata": {},
   "source": [
    "Ejercicio 1: Programa que muestra en pantalla la cadena de texto ¡Hola Mundo!\n",
    "\n",
    "Ejercicio 2: Programa que almacena la cadena ¡Hola Mundo! en una variable y luego muestra por pantalla el contenido de la variable.\n",
    "\n",
    "Ejercicio 3: Programa que pregunta el nombre del usuario en la consola y después muestra por pantalla la cadena ¡Hola \\<nombre\\>! donde \\<nombre\\> es el nombre que el usuario introdujo.\n",
    "\n",
    "Ejercicio 4: Escribir un programa que pregunte al usuario por el número de horas trabajadas y el coste por hora. Después debe mostrar por pantalla la paga que le corresponde."
   ]
  },
  {
   "cell_type": "markdown",
   "id": "4612a20a",
   "metadata": {},
   "source": [
    "### Ejercicio 1"
   ]
  },
  {
   "cell_type": "code",
   "execution_count": 45,
   "id": "bbf406be",
   "metadata": {},
   "outputs": [
    {
     "name": "stdout",
     "output_type": "stream",
     "text": [
      "¡Hola Mundo!\n"
     ]
    }
   ],
   "source": [
    "print(\"¡Hola Mundo!\")"
   ]
  },
  {
   "cell_type": "markdown",
   "id": "ef571738",
   "metadata": {},
   "source": [
    "### Ejercicio 2"
   ]
  },
  {
   "cell_type": "code",
   "execution_count": 46,
   "id": "64149cd9",
   "metadata": {},
   "outputs": [
    {
     "name": "stdout",
     "output_type": "stream",
     "text": [
      "¡Hola Mundo!\n"
     ]
    }
   ],
   "source": [
    "var = \"¡Hola Mundo!\"\n",
    "print(var)"
   ]
  },
  {
   "cell_type": "markdown",
   "id": "8efed565",
   "metadata": {},
   "source": [
    "### Ejercicio 3"
   ]
  },
  {
   "cell_type": "code",
   "execution_count": 44,
   "id": "9d788882",
   "metadata": {},
   "outputs": [
    {
     "name": "stdout",
     "output_type": "stream",
     "text": [
      "¿Cuál es tu nombre? Celic\n",
      "¡Hola Celic !\n"
     ]
    }
   ],
   "source": [
    "usuario = input(\"¿Cuál es tu nombre? \")\n",
    "print(\"¡Hola\",usuario, \"!\")"
   ]
  },
  {
   "cell_type": "markdown",
   "id": "29f9cc1f",
   "metadata": {},
   "source": [
    "### Ejercicio 4"
   ]
  },
  {
   "cell_type": "code",
   "execution_count": 43,
   "id": "9c230f06",
   "metadata": {},
   "outputs": [
    {
     "name": "stdout",
     "output_type": "stream",
     "text": [
      "Horas trabajadas: 8\n",
      "Coste por hora: 250\n",
      "Paga correspondiente: $ 2000\n"
     ]
    }
   ],
   "source": [
    "horas = input(\"Horas trabajadas: \")\n",
    "costeHora = input(\"Coste por hora: \")\n",
    "paga = int(horas) * int(costeHora)\n",
    "print(\"Paga correspondiente: $\",paga)"
   ]
  },
  {
   "cell_type": "code",
   "execution_count": 1,
   "id": "2e946995",
   "metadata": {},
   "outputs": [
    {
     "name": "stdout",
     "output_type": "stream",
     "text": [
      "5\n",
      "5.0\n",
      "2.5\n",
      "2\n"
     ]
    }
   ],
   "source": [
    "datos = \"Sergio\"\n",
    "print(int(5.5))\n",
    "print(float(5))\n",
    "\n",
    "print(5/2)\n",
    "print(5//2)"
   ]
  },
  {
   "cell_type": "markdown",
   "id": "bfa473d3",
   "metadata": {},
   "source": [
    "#### Operadores lógicos"
   ]
  },
  {
   "cell_type": "code",
   "execution_count": 8,
   "id": "6256eae9",
   "metadata": {},
   "outputs": [],
   "source": [
    "a = 10\n",
    "b = 10\n",
    "c = 9.9"
   ]
  },
  {
   "cell_type": "code",
   "execution_count": 4,
   "id": "ec9147ff",
   "metadata": {},
   "outputs": [
    {
     "name": "stdout",
     "output_type": "stream",
     "text": [
      "True\n",
      "False\n",
      "False\n",
      "True\n",
      "True\n",
      "True\n",
      "False\n",
      "True\n",
      "False\n"
     ]
    },
    {
     "data": {
      "text/plain": [
       "'\\nprint(a == b) # igual\\nprint(a != b) # diferente\\nprint(a < c) # Menor que\\nprint(a > c) # mayor que\\nprint(a >= b) # mayor o igual que\\nprint()\\n'"
      ]
     },
     "execution_count": 4,
     "metadata": {},
     "output_type": "execute_result"
    }
   ],
   "source": [
    "print(a == b) # Igual\n",
    "print(a != b) # Diferente\n",
    "print(a < c) # Menor que\n",
    "print(a > c) # Mayor que\n",
    "print(a >= b) # Mayor o igual que\n",
    "print(c <= a) # Menor o igual que\n",
    "\n",
    "print(a == b and a == c)\n",
    "print(a == b or a ==c)\n",
    "print(not(a == b))\n",
    "\n",
    "\"\"\"\n",
    "print(a == b) # igual\n",
    "print(a != b) # diferente\n",
    "print(a < c) # Menor que\n",
    "print(a > c) # mayor que\n",
    "print(a >= b) # mayor o igual que\n",
    "print()\n",
    "\"\"\"\n"
   ]
  },
  {
   "cell_type": "code",
   "execution_count": 5,
   "id": "62465f16",
   "metadata": {},
   "outputs": [
    {
     "name": "stdout",
     "output_type": "stream",
     "text": [
      "False\n",
      "True\n",
      "False\n",
      "False\n",
      "True\n"
     ]
    }
   ],
   "source": [
    "a = \"5\"\n",
    "b = 5\n",
    "c = 5.0\n",
    "d = True\n",
    "e = 1\n",
    "\n",
    "print(a == b)\n",
    "print(b == c)\n",
    "print(a == c)\n",
    "print(a == d)\n",
    "print(d == e)\n"
   ]
  },
  {
   "cell_type": "markdown",
   "id": "addc438c",
   "metadata": {},
   "source": [
    "#### Estructuras de control"
   ]
  },
  {
   "cell_type": "code",
   "execution_count": 7,
   "id": "8be3875c",
   "metadata": {},
   "outputs": [
    {
     "name": "stdout",
     "output_type": "stream",
     "text": [
      "Eres mayor de edad\n"
     ]
    }
   ],
   "source": [
    "a = 18\n",
    "b = \"México\"\n",
    "\n",
    "if a == 18 and b == \"México\":\n",
    "    print(\"Eres mayor de edad\")\n",
    "else:\n",
    "    print(\"No puedo saber si eres mayor de edad\")"
   ]
  },
  {
   "cell_type": "code",
   "execution_count": 8,
   "id": "27775a79",
   "metadata": {},
   "outputs": [
    {
     "name": "stdout",
     "output_type": "stream",
     "text": [
      "Eres mayor de edad en México\n",
      "Eres mayor de edad en México\n"
     ]
    }
   ],
   "source": [
    "a = 18\n",
    "b = \"México\"\n",
    "if a >= 18 and b == \"México\":\n",
    "    print(\"Eres mayor de edad en\", b)\n",
    "elif a >= 21 and b == \"Japón\":\n",
    "    print(\"Eres mayor de edad en\", b)\n",
    "elif a >= 21 and b == \"Estados Unidos\":\n",
    "    print(\"Eres mayor de edad en\", b)\n",
    "else:\n",
    "    print(\"No puedo saber si eres mayor de edad\")\n",
    "    \n",
    "if((a >= 18 and b == \"México\") or (a >= 21 and b == \"Japón\") or (a >= 21 and b == \"Estados Unidos\")):\n",
    "    print(\"Eres mayor de edad en\", b)\n",
    "else:\n",
    "    print(\"No puedo saber si eres mayor de edad\")"
   ]
  },
  {
   "cell_type": "markdown",
   "id": "5f439685",
   "metadata": {},
   "source": [
    "### Ejercicio 5\n",
    "Programa que solicita al usuario un entero n y computa el valor de n + n^2 + n^3"
   ]
  },
  {
   "cell_type": "code",
   "execution_count": 14,
   "id": "cefc2077",
   "metadata": {},
   "outputs": [
    {
     "name": "stdout",
     "output_type": "stream",
     "text": [
      "Ingrese un número:4\n",
      "n + (n^2)+(n^3):  84\n"
     ]
    }
   ],
   "source": [
    "n = input(\"Ingrese un número:\")\n",
    "n = int(n)\n",
    "resultado = n+n**2+n**3\n",
    "print(\"n + (n^2)+(n^3):\",resultado)"
   ]
  },
  {
   "cell_type": "markdown",
   "id": "423a1818",
   "metadata": {},
   "source": [
    "### Ejercicio 6\n",
    "Programa que calcula el volumen de una esfera con radio r"
   ]
  },
  {
   "cell_type": "code",
   "execution_count": 16,
   "id": "9d0c4a6b",
   "metadata": {},
   "outputs": [
    {
     "name": "stdout",
     "output_type": "stream",
     "text": [
      "Calcula el volúmen de una esfera\n",
      "Inserte el radio de la esfera:5\n",
      "Volumen: 523.5999999999999\n"
     ]
    }
   ],
   "source": [
    "print(\"Calcula el volúmen de una esfera\")\n",
    "r = input(\"Inserte el radio de la esfera:\")\n",
    "r = float(r)\n",
    "v = ((4/3)*3.1416*r**3)\n",
    "print(\"Volumen:\",v)"
   ]
  },
  {
   "cell_type": "markdown",
   "id": "4d26e0f8",
   "metadata": {},
   "source": [
    "### Ejercicio 7\n",
    "Programa que calcula el área de un triángulo"
   ]
  },
  {
   "cell_type": "code",
   "execution_count": 18,
   "id": "4ae2338b",
   "metadata": {},
   "outputs": [
    {
     "name": "stdout",
     "output_type": "stream",
     "text": [
      "Calcula el área de un triángulo\n",
      "Base:8\n",
      "Altura:9\n",
      "Área: 36.0\n"
     ]
    }
   ],
   "source": [
    "print(\"Calcula el área de un triángulo\")\n",
    "base = input(\"Base:\")\n",
    "base = float(base)\n",
    "altura = input(\"Altura:\")\n",
    "altura = float(altura)\n",
    "area = (base*altura)/2\n",
    "print(\"Área:\",area)"
   ]
  },
  {
   "cell_type": "markdown",
   "id": "15ad1c92",
   "metadata": {},
   "source": [
    "### Ejercicio 8\n",
    "Programa que regresa tu nombre de alumno escrito n veces."
   ]
  },
  {
   "cell_type": "code",
   "execution_count": 23,
   "id": "645e0278",
   "metadata": {},
   "outputs": [
    {
     "name": "stdout",
     "output_type": "stream",
     "text": [
      "Escriba su nombre: Celic\n",
      "Repeticiones: 6\n",
      "CelicCelicCelicCelicCelicCelic\n"
     ]
    }
   ],
   "source": [
    "nombre = input(\"Escriba su nombre: \")\n",
    "n = input(\"Repeticiones: \")\n",
    "n = int(n)\n",
    "print(nombre*n)"
   ]
  },
  {
   "cell_type": "markdown",
   "id": "8c4f5ee7",
   "metadata": {},
   "source": [
    "### Ejercicio 9\n",
    "Programa que resuelve la ecuación (x + y)^2"
   ]
  },
  {
   "cell_type": "code",
   "execution_count": 3,
   "id": "52858abd",
   "metadata": {},
   "outputs": [
    {
     "name": "stdout",
     "output_type": "stream",
     "text": [
      "Ecuación (x + y)^2\n",
      "\n",
      "Escribe el valor de x: 5\n",
      "Escribe el valor de y: 4\n",
      "Resultado: 81\n"
     ]
    }
   ],
   "source": [
    "print(\"Ecuación (x + y)^2\\n\")\n",
    "\n",
    "x = input(\"Escribe el valor de x: \")\n",
    "x = int(x)\n",
    "y = input(\"Escribe el valor de y: \")\n",
    "y = int(y)\n",
    "\n",
    "resultado = (x+y)**2\n",
    "\n",
    "print(\"Resultado:\",resultado)"
   ]
  },
  {
   "cell_type": "markdown",
   "id": "1b6227a8",
   "metadata": {},
   "source": [
    "### Ejercicio 10\n",
    "Programa que calcula la distancia entre dos puntos (x1,y1) y (x2,y2)"
   ]
  },
  {
   "cell_type": "code",
   "execution_count": 4,
   "id": "fa7f06ba",
   "metadata": {},
   "outputs": [
    {
     "name": "stdout",
     "output_type": "stream",
     "text": [
      "Calcula la distancia entre 2 puntos\n",
      "x1: 18\n",
      "y1: 21\n",
      "x2: 4\n",
      "y2: 3\n",
      "La distancia es: 22.80350850198276\n"
     ]
    }
   ],
   "source": [
    "import math\n",
    "\n",
    "print(\"Calcula la distancia entre 2 puntos\\n\")\n",
    "x1 = input(\"x1: \")\n",
    "x1 = float(x1)\n",
    "y1 = input(\"y1: \")\n",
    "y1 = float(y1)\n",
    "\n",
    "x2 = input(\"x2: \")\n",
    "x2 = float(x2)\n",
    "y2 = input(\"y2: \")\n",
    "y2 = float(y2)\n",
    "\n",
    "d = ((x2-x1)**2)+((y2-y1)**2)\n",
    "resultado = math.sqrt(d)\n",
    "print(\"\\nLa distancia es:\",resultado)\n"
   ]
  },
  {
   "cell_type": "markdown",
   "id": "17723ec1",
   "metadata": {},
   "source": [
    "### Ejercicio 11\n",
    "Programa que calcula el valor de la hipotenusa de un triángulo rectángulo"
   ]
  },
  {
   "cell_type": "code",
   "execution_count": 7,
   "id": "cd2eee5e",
   "metadata": {},
   "outputs": [
    {
     "name": "stdout",
     "output_type": "stream",
     "text": [
      "cateto 1: 7\n",
      "cateto 2: 9\n",
      "La hipotenusa es: 11.40175425099138\n"
     ]
    }
   ],
   "source": [
    "import math\n",
    "\n",
    "a = input(\"cateto 1: \")\n",
    "a = float(a)\n",
    "\n",
    "b = input(\"cateto 2: \")\n",
    "b = float(b)\n",
    "\n",
    "c = ((a**2) + (b**2))\n",
    "\n",
    "resultado = math.sqrt(c)\n",
    "print(\"La hipotenusa es:\",resultado)"
   ]
  },
  {
   "cell_type": "markdown",
   "id": "4b2748b4",
   "metadata": {},
   "source": [
    "### Ejercicio 12\n",
    "Programa que solicita al usuario un valor en metros y regresa la equivalencia en pulgadas, yardas, y millas."
   ]
  },
  {
   "cell_type": "code",
   "execution_count": 6,
   "id": "aa95a50d",
   "metadata": {},
   "outputs": [
    {
     "name": "stdout",
     "output_type": "stream",
     "text": [
      "Convertor de metros a pulgadas, yardas, y millas\n",
      "\n",
      "Escriba un valor en metros: 17\n",
      "\n",
      "Resultados:\n",
      "\n",
      "Metros: 17.0 \n",
      "Pulgadas: 669.29 \n",
      "Yardas: 18.581 \n",
      "Millas 0.01056329\n"
     ]
    }
   ],
   "source": [
    "print(\"Convertor de metros a pulgadas, yardas, y millas\\n\")\n",
    "\n",
    "m = input(\"Escriba un valor en metros: \")\n",
    "m = float(m)\n",
    "pulgadas = m * 39.37\n",
    "yardas = m * 1.093\n",
    "millas = m * 0.00062137 \n",
    "\n",
    "print(\"\\nResultados:\\n\\nMetros:\",m,\"\\nPulgadas:\",pulgadas,\"\\nYardas:\",yardas,\"\\nMillas\",millas)"
   ]
  }
 ],
 "metadata": {
  "kernelspec": {
   "display_name": "Python 3 (ipykernel)",
   "language": "python",
   "name": "python3"
  },
  "language_info": {
   "codemirror_mode": {
    "name": "ipython",
    "version": 3
   },
   "file_extension": ".py",
   "mimetype": "text/x-python",
   "name": "python",
   "nbconvert_exporter": "python",
   "pygments_lexer": "ipython3",
   "version": "3.9.13"
  }
 },
 "nbformat": 4,
 "nbformat_minor": 5
}
