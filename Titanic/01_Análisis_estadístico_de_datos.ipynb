{
  "nbformat": 4,
  "nbformat_minor": 0,
  "metadata": {
    "colab": {
      "provenance": []
    },
    "kernelspec": {
      "name": "python3",
      "display_name": "Python 3"
    },
    "language_info": {
      "name": "python"
    }
  },
  "cells": [
    {
      "cell_type": "code",
      "execution_count": null,
      "metadata": {
        "colab": {
          "base_uri": "https://localhost:8080/",
          "height": 356
        },
        "id": "JDi3jYUS0tOH",
        "outputId": "1f4171d8-415e-4dd9-d79b-ceaf7951be07"
      },
      "outputs": [
        {
          "name": "stdout",
          "output_type": "stream",
          "text": [
            "Nombre de archivo CSV: titanic\n"
          ]
        },
        {
          "output_type": "execute_result",
          "data": {
            "text/plain": [
              "<matplotlib.axes._subplots.AxesSubplot at 0x7fcf38cdd750>"
            ]
          },
          "metadata": {},
          "execution_count": 1
        },
        {
          "output_type": "display_data",
          "data": {
            "text/plain": [
              "<Figure size 432x288 with 1 Axes>"
            ],
            "image/png": "[encoded data removed]"
          },
          "metadata": {
            "needs_background": "light"
          }
        }
      ],
      "source": [
        "# LECTURA DE UN ARCHIVO CSV\n",
        "import pandas as pd\n",
        "from  math import isnan\n",
        "import seaborn as sns\n",
        "\n",
        "\n",
        "nombreArch = input(\"Nombre de archivo CSV: \")\n",
        "datosOrigen = pd.read_csv(nombreArch+'.csv', encoding='UTF8')\n",
        "#datosOrigen.head()\n",
        "#datosOrigen.info()\n",
        "#datosOrigen.describe()\n",
        "sns.heatmap(datosOrigen.isnull(), cbar=False, cmap='viridis')\n"
      ]
    },
    {
      "cell_type": "code",
      "source": [
        "datosOrigen.head()\n",
        "#datosOrigen.info()\n",
        "#datosOrigen.describe()"
      ],
      "metadata": {
        "colab": {
          "base_uri": "https://localhost:8080/",
          "height": 285
        },
        "id": "FmGBPS3e-WdH",
        "outputId": "b66125e6-b3fc-4dfa-c8f0-a35e39377853"
      },
      "execution_count": null,
      "outputs": [
        {
          "output_type": "execute_result",
          "data": {
            "text/plain": [
              "   PassengerId  Survived  Pclass  \\\n",
              "0            1         0       3   \n",
              "1            2         1       1   \n",
              "2            3         1       3   \n",
              "3            4         1       1   \n",
              "4            5         0       3   \n",
              "\n",
              "                                                Name     Sex   Age  SibSp  \\\n",
              "0                            Braund, Mr. Owen Harris    male  22.0      1   \n",
              "1  Cumings, Mrs. John Bradley (Florence Briggs Th...  female  38.0      1   \n",
              "2                             Heikkinen, Miss. Laina  female  26.0      0   \n",
              "3       Futrelle, Mrs. Jacques Heath (Lily May Peel)  female  35.0      1   \n",
              "4                           Allen, Mr. William Henry    male  35.0      0   \n",
              "\n",
              "   Parch            Ticket     Fare Cabin Embarked  \n",
              "0      0         A/5 21171   7.2500   NaN        S  \n",
              "1      0          PC 17599  71.2833   C85        C  \n",
              "2      0  STON/O2. 3101282   7.9250   NaN        S  \n",
              "3      0            113803  53.1000  C123        S  \n",
              "4      0            373450   8.0500   NaN        S  "
            ],
            "text/html": [
              "\n",
              "  <div id=\"df-6d4d7f33-25bc-4176-bbe0-81adfb857193\">\n",
              "    <div class=\"colab-df-container\">\n",
              "      <div>\n",
              "<style scoped>\n",
              "    .dataframe tbody tr th:only-of-type {\n",
              "        vertical-align: middle;\n",
              "    }\n",
              "\n",
              "    .dataframe tbody tr th {\n",
              "        vertical-align: top;\n",
              "    }\n",
              "\n",
              "    .dataframe thead th {\n",
              "        text-align: right;\n",
              "    }\n",
              "</style>\n",
              "<table border=\"1\" class=\"dataframe\">\n",
              "  <thead>\n",
              "    <tr style=\"text-align: right;\">\n",
              "      <th></th>\n",
              "      <th>PassengerId</th>\n",
              "      <th>Survived</th>\n",
              "      <th>Pclass</th>\n",
              "      <th>Name</th>\n",
              "      <th>Sex</th>\n",
              "      <th>Age</th>\n",
              "      <th>SibSp</th>\n",
              "      <th>Parch</th>\n",
              "      <th>Ticket</th>\n",
              "      <th>Fare</th>\n",
              "      <th>Cabin</th>\n",
              "      <th>Embarked</th>\n",
              "    </tr>\n",
              "  </thead>\n",
              "  <tbody>\n",
              "    <tr>\n",
              "      <th>0</th>\n",
              "      <td>1</td>\n",
              "      <td>0</td>\n",
              "      <td>3</td>\n",
              "      <td>Braund, Mr. Owen Harris</td>\n",
              "      <td>male</td>\n",
              "      <td>22.0</td>\n",
              "      <td>1</td>\n",
              "      <td>0</td>\n",
              "      <td>A/5 21171</td>\n",
              "      <td>7.2500</td>\n",
              "      <td>NaN</td>\n",
              "      <td>S</td>\n",
              "    </tr>\n",
              "    <tr>\n",
              "      <th>1</th>\n",
              "      <td>2</td>\n",
              "      <td>1</td>\n",
              "      <td>1</td>\n",
              "      <td>Cumings, Mrs. John Bradley (Florence Briggs Th...</td>\n",
              "      <td>female</td>\n",
              "      <td>38.0</td>\n",
              "      <td>1</td>\n",
              "      <td>0</td>\n",
              "      <td>PC 17599</td>\n",
              "      <td>71.2833</td>\n",
              "      <td>C85</td>\n",
              "      <td>C</td>\n",
              "    </tr>\n",
              "    <tr>\n",
              "      <th>2</th>\n",
              "      <td>3</td>\n",
              "      <td>1</td>\n",
              "      <td>3</td>\n",
              "      <td>Heikkinen, Miss. Laina</td>\n",
              "      <td>female</td>\n",
              "      <td>26.0</td>\n",
              "      <td>0</td>\n",
              "      <td>0</td>\n",
              "      <td>STON/O2. 3101282</td>\n",
              "      <td>7.9250</td>\n",
              "      <td>NaN</td>\n",
              "      <td>S</td>\n",
              "    </tr>\n",
              "    <tr>\n",
              "      <th>3</th>\n",
              "      <td>4</td>\n",
              "      <td>1</td>\n",
              "      <td>1</td>\n",
              "      <td>Futrelle, Mrs. Jacques Heath (Lily May Peel)</td>\n",
              "      <td>female</td>\n",
              "      <td>35.0</td>\n",
              "      <td>1</td>\n",
              "      <td>0</td>\n",
              "      <td>113803</td>\n",
              "      <td>53.1000</td>\n",
              "      <td>C123</td>\n",
              "      <td>S</td>\n",
              "    </tr>\n",
              "    <tr>\n",
              "      <th>4</th>\n",
              "      <td>5</td>\n",
              "      <td>0</td>\n",
              "      <td>3</td>\n",
              "      <td>Allen, Mr. William Henry</td>\n",
              "      <td>male</td>\n",
              "      <td>35.0</td>\n",
              "      <td>0</td>\n",
              "      <td>0</td>\n",
              "      <td>373450</td>\n",
              "      <td>8.0500</td>\n",
              "      <td>NaN</td>\n",
              "      <td>S</td>\n",
              "    </tr>\n",
              "  </tbody>\n",
              "</table>\n",
              "</div>\n",
              "      <button class=\"colab-df-convert\" onclick=\"convertToInteractive('df-6d4d7f33-25bc-4176-bbe0-81adfb857193')\"\n",
              "              title=\"Convert this dataframe to an interactive table.\"\n",
              "              style=\"display:none;\">\n",
              "        \n",
              "  <svg xmlns=\"http://www.w3.org/2000/svg\" height=\"24px\"viewBox=\"0 0 24 24\"\n",
              "       width=\"24px\">\n",
              "    <path d=\"M0 0h24v24H0V0z\" fill=\"none\"/>\n",
              "    <path d=\"M18.56 5.44l.94 2.06.94-2.06 2.06-.94-2.06-.94-.94-2.06-.94 2.06-2.06.94zm-11 1L8.5 8.5l.94-2.06 2.06-.94-2.06-.94L8.5 2.5l-.94 2.06-2.06.94zm10 10l.94 2.06.94-2.06 2.06-.94-2.06-.94-.94-2.06-.94 2.06-2.06.94z\"/><path d=\"M17.41 7.96l-1.37-1.37c-.4-.4-.92-.59-1.43-.59-.52 0-1.04.2-1.43.59L10.3 9.45l-7.72 7.72c-.78.78-.78 2.05 0 2.83L4 21.41c.39.39.9.59 1.41.59.51 0 1.02-.2 1.41-.59l7.78-7.78 2.81-2.81c.8-.78.8-2.07 0-2.86zM5.41 20L4 18.59l7.72-7.72 1.47 1.35L5.41 20z\"/>\n",
              "  </svg>\n",
              "      </button>\n",
              "      \n",
              "  <style>\n",
              "    .colab-df-container {\n",
              "      display:flex;\n",
              "      flex-wrap:wrap;\n",
              "      gap: 12px;\n",
              "    }\n",
              "\n",
              "    .colab-df-convert {\n",
              "      background-color: #E8F0FE;\n",
              "      border: none;\n",
              "      border-radius: 50%;\n",
              "      cursor: pointer;\n",
              "      display: none;\n",
              "      fill: #1967D2;\n",
              "      height: 32px;\n",
              "      padding: 0 0 0 0;\n",
              "      width: 32px;\n",
              "    }\n",
              "\n",
              "    .colab-df-convert:hover {\n",
              "      background-color: #E2EBFA;\n",
              "      box-shadow: 0px 1px 2px rgba(60, 64, 67, 0.3), 0px 1px 3px 1px rgba(60, 64, 67, 0.15);\n",
              "      fill: #174EA6;\n",
              "    }\n",
              "\n",
              "    [theme=dark] .colab-df-convert {\n",
              "      background-color: #3B4455;\n",
              "      fill: #D2E3FC;\n",
              "    }\n",
              "\n",
              "    [theme=dark] .colab-df-convert:hover {\n",
              "      background-color: #434B5C;\n",
              "      box-shadow: 0px 1px 3px 1px rgba(0, 0, 0, 0.15);\n",
              "      filter: drop-shadow(0px 1px 2px rgba(0, 0, 0, 0.3));\n",
              "      fill: #FFFFFF;\n",
              "    }\n",
              "  </style>\n",
              "\n",
              "      <script>\n",
              "        const buttonEl =\n",
              "          document.querySelector('#df-6d4d7f33-25bc-4176-bbe0-81adfb857193 button.colab-df-convert');\n",
              "        buttonEl.style.display =\n",
              "          google.colab.kernel.accessAllowed ? 'block' : 'none';\n",
              "\n",
              "        async function convertToInteractive(key) {\n",
              "          const element = document.querySelector('#df-6d4d7f33-25bc-4176-bbe0-81adfb857193');\n",
              "          const dataTable =\n",
              "            await google.colab.kernel.invokeFunction('convertToInteractive',\n",
              "                                                     [key], {});\n",
              "          if (!dataTable) return;\n",
              "\n",
              "          const docLinkHtml = 'Like what you see? Visit the ' +\n",
              "            '<a target=\"_blank\" href=https://colab.research.google.com/notebooks/data_table.ipynb>data table notebook</a>'\n",
              "            + ' to learn more about interactive tables.';\n",
              "          element.innerHTML = '';\n",
              "          dataTable['output_type'] = 'display_data';\n",
              "          await google.colab.output.renderOutput(dataTable, element);\n",
              "          const docLink = document.createElement('div');\n",
              "          docLink.innerHTML = docLinkHtml;\n",
              "          element.appendChild(docLink);\n",
              "        }\n",
              "      </script>\n",
              "    </div>\n",
              "  </div>\n",
              "  "
            ]
          },
          "metadata": {},
          "execution_count": 2
        }
      ]
    },
    {
      "cell_type": "code",
      "source": [
        "datosOrigen.info()"
      ],
      "metadata": {
        "colab": {
          "base_uri": "https://localhost:8080/"
        },
        "id": "gFrxGOGl-YyA",
        "outputId": "bdad75d1-fbcd-48c2-ffbb-3c60a87b91ef"
      },
      "execution_count": null,
      "outputs": [
        {
          "output_type": "stream",
          "name": "stdout",
          "text": [
            "<class 'pandas.core.frame.DataFrame'>\n",
            "RangeIndex: 891 entries, 0 to 890\n",
            "Data columns (total 12 columns):\n",
            " #   Column       Non-Null Count  Dtype  \n",
            "---  ------       --------------  -----  \n",
            " 0   PassengerId  891 non-null    int64  \n",
            " 1   Survived     891 non-null    int64  \n",
            " 2   Pclass       891 non-null    int64  \n",
            " 3   Name         891 non-null    object \n",
            " 4   Sex          891 non-null    object \n",
            " 5   Age          714 non-null    float64\n",
            " 6   SibSp        891 non-null    int64  \n",
            " 7   Parch        891 non-null    int64  \n",
            " 8   Ticket       891 non-null    object \n",
            " 9   Fare         891 non-null    float64\n",
            " 10  Cabin        204 non-null    object \n",
            " 11  Embarked     889 non-null    object \n",
            "dtypes: float64(2), int64(5), object(5)\n",
            "memory usage: 83.7+ KB\n"
          ]
        }
      ]
    },
    {
      "cell_type": "code",
      "source": [
        "datosOrigen.describe()"
      ],
      "metadata": {
        "colab": {
          "base_uri": "https://localhost:8080/",
          "height": 300
        },
        "id": "HzKhDRCd-ZtQ",
        "outputId": "3c163765-c09a-475f-ca72-46c455f39a9b"
      },
      "execution_count": null,
      "outputs": [
        {
          "output_type": "execute_result",
          "data": {
            "text/plain": [
              "       PassengerId    Survived      Pclass         Age       SibSp  \\\n",
              "count   891.000000  891.000000  891.000000  714.000000  891.000000   \n",
              "mean    446.000000    0.383838    2.308642   29.699118    0.523008   \n",
              "std     257.353842    0.486592    0.836071   14.526497    1.102743   \n",
              "min       1.000000    0.000000    1.000000    0.420000    0.000000   \n",
              "25%     223.500000    0.000000    2.000000   20.125000    0.000000   \n",
              "50%     446.000000    0.000000    3.000000   28.000000    0.000000   \n",
              "75%     668.500000    1.000000    3.000000   38.000000    1.000000   \n",
              "max     891.000000    1.000000    3.000000   80.000000    8.000000   \n",
              "\n",
              "            Parch        Fare  \n",
              "count  891.000000  891.000000  \n",
              "mean     0.381594   32.204208  \n",
              "std      0.806057   49.693429  \n",
              "min      0.000000    0.000000  \n",
              "25%      0.000000    7.910400  \n",
              "50%      0.000000   14.454200  \n",
              "75%      0.000000   31.000000  \n",
              "max      6.000000  512.329200  "
            ],
            "text/html": [
              "\n",
              "  <div id=\"df-76caa113-aa3f-4910-8bdb-639e86599f2e\">\n",
              "    <div class=\"colab-df-container\">\n",
              "      <div>\n",
              "<style scoped>\n",
              "    .dataframe tbody tr th:only-of-type {\n",
              "        vertical-align: middle;\n",
              "    }\n",
              "\n",
              "    .dataframe tbody tr th {\n",
              "        vertical-align: top;\n",
              "    }\n",
              "\n",
              "    .dataframe thead th {\n",
              "        text-align: right;\n",
              "    }\n",
              "</style>\n",
              "<table border=\"1\" class=\"dataframe\">\n",
              "  <thead>\n",
              "    <tr style=\"text-align: right;\">\n",
              "      <th></th>\n",
              "      <th>PassengerId</th>\n",
              "      <th>Survived</th>\n",
              "      <th>Pclass</th>\n",
              "      <th>Age</th>\n",
              "      <th>SibSp</th>\n",
              "      <th>Parch</th>\n",
              "      <th>Fare</th>\n",
              "    </tr>\n",
              "  </thead>\n",
              "  <tbody>\n",
              "    <tr>\n",
              "      <th>count</th>\n",
              "      <td>891.000000</td>\n",
              "      <td>891.000000</td>\n",
              "      <td>891.000000</td>\n",
              "      <td>714.000000</td>\n",
              "      <td>891.000000</td>\n",
              "      <td>891.000000</td>\n",
              "      <td>891.000000</td>\n",
              "    </tr>\n",
              "    <tr>\n",
              "      <th>mean</th>\n",
              "      <td>446.000000</td>\n",
              "      <td>0.383838</td>\n",
              "      <td>2.308642</td>\n",
              "      <td>29.699118</td>\n",
              "      <td>0.523008</td>\n",
              "      <td>0.381594</td>\n",
              "      <td>32.204208</td>\n",
              "    </tr>\n",
              "    <tr>\n",
              "      <th>std</th>\n",
              "      <td>257.353842</td>\n",
              "      <td>0.486592</td>\n",
              "      <td>0.836071</td>\n",
              "      <td>14.526497</td>\n",
              "      <td>1.102743</td>\n",
              "      <td>0.806057</td>\n",
              "      <td>49.693429</td>\n",
              "    </tr>\n",
              "    <tr>\n",
              "      <th>min</th>\n",
              "      <td>1.000000</td>\n",
              "      <td>0.000000</td>\n",
              "      <td>1.000000</td>\n",
              "      <td>0.420000</td>\n",
              "      <td>0.000000</td>\n",
              "      <td>0.000000</td>\n",
              "      <td>0.000000</td>\n",
              "    </tr>\n",
              "    <tr>\n",
              "      <th>25%</th>\n",
              "      <td>223.500000</td>\n",
              "      <td>0.000000</td>\n",
              "      <td>2.000000</td>\n",
              "      <td>20.125000</td>\n",
              "      <td>0.000000</td>\n",
              "      <td>0.000000</td>\n",
              "      <td>7.910400</td>\n",
              "    </tr>\n",
              "    <tr>\n",
              "      <th>50%</th>\n",
              "      <td>446.000000</td>\n",
              "      <td>0.000000</td>\n",
              "      <td>3.000000</td>\n",
              "      <td>28.000000</td>\n",
              "      <td>0.000000</td>\n",
              "      <td>0.000000</td>\n",
              "      <td>14.454200</td>\n",
              "    </tr>\n",
              "    <tr>\n",
              "      <th>75%</th>\n",
              "      <td>668.500000</td>\n",
              "      <td>1.000000</td>\n",
              "      <td>3.000000</td>\n",
              "      <td>38.000000</td>\n",
              "      <td>1.000000</td>\n",
              "      <td>0.000000</td>\n",
              "      <td>31.000000</td>\n",
              "    </tr>\n",
              "    <tr>\n",
              "      <th>max</th>\n",
              "      <td>891.000000</td>\n",
              "      <td>1.000000</td>\n",
              "      <td>3.000000</td>\n",
              "      <td>80.000000</td>\n",
              "      <td>8.000000</td>\n",
              "      <td>6.000000</td>\n",
              "      <td>512.329200</td>\n",
              "    </tr>\n",
              "  </tbody>\n",
              "</table>\n",
              "</div>\n",
              "      <button class=\"colab-df-convert\" onclick=\"convertToInteractive('df-76caa113-aa3f-4910-8bdb-639e86599f2e')\"\n",
              "              title=\"Convert this dataframe to an interactive table.\"\n",
              "              style=\"display:none;\">\n",
              "        \n",
              "  <svg xmlns=\"http://www.w3.org/2000/svg\" height=\"24px\"viewBox=\"0 0 24 24\"\n",
              "       width=\"24px\">\n",
              "    <path d=\"M0 0h24v24H0V0z\" fill=\"none\"/>\n",
              "    <path d=\"M18.56 5.44l.94 2.06.94-2.06 2.06-.94-2.06-.94-.94-2.06-.94 2.06-2.06.94zm-11 1L8.5 8.5l.94-2.06 2.06-.94-2.06-.94L8.5 2.5l-.94 2.06-2.06.94zm10 10l.94 2.06.94-2.06 2.06-.94-2.06-.94-.94-2.06-.94 2.06-2.06.94z\"/><path d=\"M17.41 7.96l-1.37-1.37c-.4-.4-.92-.59-1.43-.59-.52 0-1.04.2-1.43.59L10.3 9.45l-7.72 7.72c-.78.78-.78 2.05 0 2.83L4 21.41c.39.39.9.59 1.41.59.51 0 1.02-.2 1.41-.59l7.78-7.78 2.81-2.81c.8-.78.8-2.07 0-2.86zM5.41 20L4 18.59l7.72-7.72 1.47 1.35L5.41 20z\"/>\n",
              "  </svg>\n",
              "      </button>\n",
              "      \n",
              "  <style>\n",
              "    .colab-df-container {\n",
              "      display:flex;\n",
              "      flex-wrap:wrap;\n",
              "      gap: 12px;\n",
              "    }\n",
              "\n",
              "    .colab-df-convert {\n",
              "      background-color: #E8F0FE;\n",
              "      border: none;\n",
              "      border-radius: 50%;\n",
              "      cursor: pointer;\n",
              "      display: none;\n",
              "      fill: #1967D2;\n",
              "      height: 32px;\n",
              "      padding: 0 0 0 0;\n",
              "      width: 32px;\n",
              "    }\n",
              "\n",
              "    .colab-df-convert:hover {\n",
              "      background-color: #E2EBFA;\n",
              "      box-shadow: 0px 1px 2px rgba(60, 64, 67, 0.3), 0px 1px 3px 1px rgba(60, 64, 67, 0.15);\n",
              "      fill: #174EA6;\n",
              "    }\n",
              "\n",
              "    [theme=dark] .colab-df-convert {\n",
              "      background-color: #3B4455;\n",
              "      fill: #D2E3FC;\n",
              "    }\n",
              "\n",
              "    [theme=dark] .colab-df-convert:hover {\n",
              "      background-color: #434B5C;\n",
              "      box-shadow: 0px 1px 3px 1px rgba(0, 0, 0, 0.15);\n",
              "      filter: drop-shadow(0px 1px 2px rgba(0, 0, 0, 0.3));\n",
              "      fill: #FFFFFF;\n",
              "    }\n",
              "  </style>\n",
              "\n",
              "      <script>\n",
              "        const buttonEl =\n",
              "          document.querySelector('#df-76caa113-aa3f-4910-8bdb-639e86599f2e button.colab-df-convert');\n",
              "        buttonEl.style.display =\n",
              "          google.colab.kernel.accessAllowed ? 'block' : 'none';\n",
              "\n",
              "        async function convertToInteractive(key) {\n",
              "          const element = document.querySelector('#df-76caa113-aa3f-4910-8bdb-639e86599f2e');\n",
              "          const dataTable =\n",
              "            await google.colab.kernel.invokeFunction('convertToInteractive',\n",
              "                                                     [key], {});\n",
              "          if (!dataTable) return;\n",
              "\n",
              "          const docLinkHtml = 'Like what you see? Visit the ' +\n",
              "            '<a target=\"_blank\" href=https://colab.research.google.com/notebooks/data_table.ipynb>data table notebook</a>'\n",
              "            + ' to learn more about interactive tables.';\n",
              "          element.innerHTML = '';\n",
              "          dataTable['output_type'] = 'display_data';\n",
              "          await google.colab.output.renderOutput(dataTable, element);\n",
              "          const docLink = document.createElement('div');\n",
              "          docLink.innerHTML = docLinkHtml;\n",
              "          element.appendChild(docLink);\n",
              "        }\n",
              "      </script>\n",
              "    </div>\n",
              "  </div>\n",
              "  "
            ]
          },
          "metadata": {},
          "execution_count": 4
        }
      ]
    },
    {
      "cell_type": "code",
      "source": [
        "nombreArch = input(\"Nombre de archivo CSV: \")\n",
        "datosOrigen = pd.read_csv(nombreArch+'.csv', encoding='UTF8')\n",
        "\n",
        "# SELECCION DE ALGUNOS ATRIBUTOS\n",
        "quitarCabin = datosOrigen[['PassengerId','Survived','Pclass','Name','Sex','Age','SibSp','Parch','Ticket','Fare','Embarked']]\n",
        "#quitarCabin.info()\n",
        "#print(ds_clean.Embarked.isnull().sum())\n",
        "\n",
        "# ELIMINACIÓN DE ALGUNOS ATRIBUTOS\n",
        "#quitaCabin2 = datosOrigen.drop(columns=['Cabin'])\n",
        "#quitaCabin2.info()\n",
        "\n",
        "#SELECCION DE LA COLUMNA A LIMPIAR\n",
        "#seleccion = datosOrigen[['Embarked']]\n",
        "#limpia = seleccion.fillna('S')\n",
        "#limpia.info()\n",
        "\n",
        "mr = 0\n",
        "mrs = 0\n",
        "miss = 0\n",
        "master = 0\n",
        "otro = 0\n",
        "\n",
        "listamr = []\n",
        "listamiss = []\n",
        "listamrs = []\n",
        "listamaster = []\n",
        "listaotro = []\n",
        "\n",
        "for i in range(len(datosOrigen)):\n",
        "  dato = datosOrigen.loc[i,\"Name\"]\n",
        "  age = datosOrigen.loc[i,\"Age\"]\n",
        "  if isnan(age):\n",
        "#    print(\"BRINCO******************************\")\n",
        "    if 'Mr.' in dato:\n",
        "      mr += 1\n",
        "    elif 'Mrs.' in dato:\n",
        "      mrs += 1\n",
        "    elif 'Master.' in dato:\n",
        "      master += 1\n",
        "    elif 'Miss.' in dato:\n",
        "      miss += 1\n",
        "    else:\n",
        "      otro += 1\n",
        "    continue\n",
        "  age = float(age)\n",
        "  #print(dato,age)\n",
        "  if 'Mr.' in dato:\n",
        "    listamr.append(age)\n",
        "  elif 'Mrs.' in dato:\n",
        "    listamrs.append(age)\n",
        "  elif 'Master.' in dato:\n",
        "    listamaster.append(age)\n",
        "  elif 'Miss.' in dato:\n",
        "    listamiss.append(age)\n",
        "  else:\n",
        "    listaotro.append(age)\n",
        "  #print(datosOrigen.loc[i,\"PassengerId\"], datosOrigen.loc[i,\"Name\"])\n",
        "\n",
        "df = pd.DataFrame(listamr)\n",
        "print(\"****\\nMISTER:\")\n",
        "print('MEDIANA',df.median())\n",
        "print('MODA',df.mode())\n",
        "print('MEDIA',df.mean())\n",
        "print('Cuenta',len(listamr))\n",
        "print('faltan',mr)\n",
        "print()\n",
        "df = pd.DataFrame(listamrs)\n",
        "print(\"****\\nMISSTRESS:\")\n",
        "print('MEDIANA',df.median())\n",
        "print('MODA',df.mode())\n",
        "print('MEDIA',df.mean())\n",
        "print('Cuenta',len(listamrs))\n",
        "print('faltan',mrs)\n",
        "print()\n",
        "df = pd.DataFrame(listamaster)\n",
        "print(\"****\\nMASTER:\")\n",
        "print('MEDIANA',df.median())\n",
        "print('MODA',df.mode())\n",
        "print('MEDIA',df.mean())\n",
        "print('Cuenta',len(listamaster))\n",
        "print('faltan',master)\n",
        "print()\n",
        "df = pd.DataFrame(listamiss)\n",
        "print(\"****\\nMISS:\")\n",
        "print('MEDIANA',df.median())\n",
        "print('MODA',df.mode())\n",
        "print('MEDIA',df.mean())\n",
        "print('Cuenta',len(listamiss))\n",
        "print('faltan',miss)\n",
        "print()\n",
        "df = pd.DataFrame(listaotro)\n",
        "print(\"****\\nOTRO:\")\n",
        "print('MEDIANA',df.median())\n",
        "print('MODA',df.mode())\n",
        "print('MEDIA',df.mean())\n",
        "print('Cuenta',len(listaotro))\n",
        "print('faltan',otro)"
      ],
      "metadata": {
        "colab": {
          "base_uri": "https://localhost:8080/"
        },
        "id": "F60Oaa-R-Zx_",
        "outputId": "f864639f-95a9-424a-8904-a7c79e8bf2da"
      },
      "execution_count": null,
      "outputs": [
        {
          "output_type": "stream",
          "name": "stdout",
          "text": [
            "Nombre de archivo CSV: titanic\n",
            "****\n",
            "MISTER:\n",
            "MEDIANA 0    30.0\n",
            "dtype: float64\n",
            "MODA       0\n",
            "0  19.0\n",
            "1  25.0\n",
            "MEDIA 0    32.36809\n",
            "dtype: float64\n",
            "Cuenta 398\n",
            "faltan 119\n",
            "\n",
            "****\n",
            "MISSTRESS:\n",
            "MEDIANA 0    35.0\n",
            "dtype: float64\n",
            "MODA       0\n",
            "0  24.0\n",
            "MEDIA 0    35.898148\n",
            "dtype: float64\n",
            "Cuenta 108\n",
            "faltan 17\n",
            "\n",
            "****\n",
            "MASTER:\n",
            "MEDIANA 0    3.5\n",
            "dtype: float64\n",
            "MODA      0\n",
            "0  1.0\n",
            "1  4.0\n",
            "MEDIA 0    4.574167\n",
            "dtype: float64\n",
            "Cuenta 36\n",
            "faltan 4\n",
            "\n",
            "****\n",
            "MISS:\n",
            "MEDIANA 0    21.0\n",
            "dtype: float64\n",
            "MODA       0\n",
            "0  18.0\n",
            "MEDIA 0    21.773973\n",
            "dtype: float64\n",
            "Cuenta 146\n",
            "faltan 36\n",
            "\n",
            "****\n",
            "OTRO:\n",
            "MEDIANA 0    44.5\n",
            "dtype: float64\n",
            "MODA       0\n",
            "0  24.0\n",
            "MEDIA 0    42.384615\n",
            "dtype: float64\n",
            "Cuenta 26\n",
            "faltan 1\n"
          ]
        }
      ]
    },
    {
      "cell_type": "code",
      "source": [
        "nombreArch = input(\"Nombre de archivo CSV: \")\n",
        "datosOrigen = pd.read_csv(nombreArch+'.csv', encoding='UTF8')\n",
        "salida = open(\"datoslimpios.csv\",'w')\n",
        "quitarCabin = datosOrigen[['PassengerId','Survived','Pclass','Name','Sex','Age','SibSp','Parch','Ticket','Fare','Embarked']]\n",
        "\n",
        "for i in range(len(datosOrigen)):\n",
        "  pa = datosOrigen.loc[i,\"PassengerId\"]\n",
        "  su = datosOrigen.loc[i,\"Survived\"]\n",
        "  cl = datosOrigen.loc[i,\"Pclass\"]\n",
        "  nam = datosOrigen.loc[i,\"Name\"]\n",
        "  se = datosOrigen.loc[i,\"Sex\"]\n",
        "  ag = datosOrigen.loc[i,\"Age\"]\n",
        "  si = datosOrigen.loc[i,\"SibSp\"]\n",
        "  pr = datosOrigen.loc[i,\"Parch\"]\n",
        "  ti = datosOrigen.loc[i,\"Ticket\"]\n",
        "  fa = datosOrigen.loc[i,\"Fare\"]\n",
        "  em = datosOrigen.loc[i,\"Embarked\"]\n",
        "\n",
        "  #print(pa,su,cl,nam,se,ag,si,pr,ti,fa,em)\n",
        "  if pd.isnull(em):\n",
        "    em = 'S'\n",
        "  if pd.isnull(ag):\n",
        "    if 'Mr.' in nam:\n",
        "      ag = 30\n",
        "      #print(\"************************************************\")\n",
        "    elif 'Mrs.' in nam:\n",
        "      ag = 35\n",
        "      #print(\"************************************************\")\n",
        "    elif 'Miss.' in nam:\n",
        "      ag = 21\n",
        "      #print(\"************************************************\")\n",
        "    elif 'Master.' in nam:\n",
        "      ag = 3.5\n",
        "      #print(\"************************************************\")\n",
        "    else:\n",
        "      ag = 42\n",
        "      #print(\"************************************************\")\n",
        "  #print(pa,su,cl,nam,se,ag,si,pr,ti,fa,em)\n",
        "  salida.write(''+str(pa)+','+str(su)+','+str(cl)+','+str(nam)+','+str(se)+','+str(ag)+','+str(si)+','+str(pr)+','+str(ti)+','+str(fa)+','+str(em)+'\\n')\n",
        "salida.close()"
      ],
      "metadata": {
        "colab": {
          "base_uri": "https://localhost:8080/"
        },
        "id": "Juug0yFEJ8h4",
        "outputId": "1fa80867-e30a-488f-ebe2-513ad30803a4"
      },
      "execution_count": null,
      "outputs": [
        {
          "name": "stdout",
          "output_type": "stream",
          "text": [
            "Nombre de archivo CSV: titanic\n"
          ]
        }
      ]
    },
    {
      "cell_type": "code",
      "source": [
        "# VALIDACIÓN DE DATOS LIMPIOS\n",
        "datosLimpios = pd.read_csv(\"datoslimpios.csv\", encoding='UTF8', header=None)\n",
        "sns.heatmap(datosLimpios.isnull(), cbar=False, cmap='viridis')\n",
        "datosLimpios.info()"
      ],
      "metadata": {
        "colab": {
          "base_uri": "https://localhost:8080/",
          "height": 600
        },
        "id": "M01PN_wFNBHH",
        "outputId": "6da33cd9-2581-49eb-9af7-ec275e0e0bcd"
      },
      "execution_count": null,
      "outputs": [
        {
          "output_type": "stream",
          "name": "stdout",
          "text": [
            "<class 'pandas.core.frame.DataFrame'>\n",
            "RangeIndex: 891 entries, 0 to 890\n",
            "Data columns (total 12 columns):\n",
            " #   Column  Non-Null Count  Dtype  \n",
            "---  ------  --------------  -----  \n",
            " 0   0       891 non-null    int64  \n",
            " 1   1       891 non-null    int64  \n",
            " 2   2       891 non-null    int64  \n",
            " 3   3       891 non-null    object \n",
            " 4   4       891 non-null    object \n",
            " 5   5       891 non-null    object \n",
            " 6   6       891 non-null    float64\n",
            " 7   7       891 non-null    int64  \n",
            " 8   8       891 non-null    int64  \n",
            " 9   9       891 non-null    object \n",
            " 10  10      891 non-null    float64\n",
            " 11  11      891 non-null    object \n",
            "dtypes: float64(2), int64(5), object(5)\n",
            "memory usage: 83.7+ KB\n"
          ]
        },
        {
          "output_type": "display_data",
          "data": {
            "text/plain": [
              "<Figure size 432x288 with 1 Axes>"
            ],
            "image/png": "[encoded data removed]"
          },
          "metadata": {
            "needs_background": "light"
          }
        }
      ]
    },
    {
      "cell_type": "code",
      "source": [
        "import matplotlib.pyplot as plt\n",
        "import numpy as np\n"
      ],
      "metadata": {
        "id": "haVdycocNdMC"
      },
      "execution_count": null,
      "outputs": []
    },
    {
      "cell_type": "code",
      "source": [
        "def estadisticaNumerica(dataset, variable):\n",
        "  cuenta = len(dataset[variable])\n",
        "  media = dataset[variable].mean(skipna = False)\n",
        "  mediana = dataset[variable].median(skipna = False)\n",
        "  moda = dataset[variable].mode(dropna = False)\n",
        "  desvia = dataset[variable].std(skipna = False)\n",
        "  sesgo = dataset[variable].skew(skipna = False)\n",
        "  curtosis = dataset[variable].kurtosis(skipna = False)\n",
        "  print(variable, cuenta, media, mediana, desvia, sesgo, curtosis, end='')\n",
        "  if len(moda) < 2:\n",
        "    print(moda)\n",
        "  else:\n",
        "    print()\n",
        "    print(moda)\n",
        "  print()\n",
        "  datos = dataset[variable]\n",
        "  figura = plt.figure(figsize =(10, 2))\n",
        "  ax = figura.add_axes([0, 0, 1, 1])\n",
        "  ax.boxplot(datos,vert=False)\n",
        "  plt.show()\n",
        "  hist, bin_edges = np.histogram(datos, 10)\n",
        "  plt.hist(datos, bins=bin_edges)\n",
        "  plt.show()\n",
        "\n",
        "def estadisticaCategorica(dataset, variable):\n",
        "  cuenta = len(dataset[variable])\n",
        "  print(variable, cuenta)\n",
        "  print('moda, distribucion de frecuencias')\n",
        "\n",
        "nombreArch = input(\"Nombre de archivo CSV: \")\n",
        "datosOrigen = pd.read_csv(nombreArch+'.csv', encoding='UTF8')\n",
        "columnas = datosOrigen.columns\n",
        "tipos = datosOrigen.dtypes\n",
        "print('atributo, cuenta, media, mediana, desvia, sesgo, curtosis /moda')\n",
        "for i in range(len(columnas)):\n",
        "  atributo = columnas[i]\n",
        "  tipo = str(tipos[i])\n",
        "  #print(atributo,\" -- \",tipo)\n",
        "  if tipo.find('int') > -1 or tipo.find('float') > -1:\n",
        "    estadisticaNumerica(datosOrigen, atributo)\n",
        "  else:\n",
        "    estadisticaCategorica(datosOrigen, atributo)\n",
        "\n",
        "plt.matshow(datosOrigen.corr())\n",
        "plt.show()\n",
        "#datosOrigen.corr()\n",
        "corr = datosOrigen.corr()\n",
        "corr.style.background_gradient(cmap=\"Greens\").set_precision(3)"
      ],
      "metadata": {
        "colab": {
          "base_uri": "https://localhost:8080/",
          "height": 1000
        },
        "id": "UGyKRKLYQgw8",
        "outputId": "c9b588d1-8976-40be-9e9a-4d513c480cd3"
      },
      "execution_count": null,
      "outputs": [
        {
          "output_type": "stream",
          "name": "stdout",
          "text": [
            "Nombre de archivo CSV: datoslimpios\n",
            "atributo, cuenta, media, mediana, desvia, sesgo, curtosis /moda\n",
            "1 890 446.5 446.5 257.0651668351821 0.0 -1.2\n",
            "0        2\n",
            "1        3\n",
            "2        4\n",
            "3        5\n",
            "4        6\n",
            "      ... \n",
            "885    887\n",
            "886    888\n",
            "887    889\n",
            "888    890\n",
            "889    891\n",
            "Length: 890, dtype: int64\n",
            "\n"
          ]
        },
        {
          "output_type": "display_data",
          "data": {
            "text/plain": [
              "<Figure size 720x144 with 1 Axes>"
            ],
            "image/png": "[encoded data removed]"
          },
          "metadata": {
            "needs_background": "light"
          }
        },
        {
          "output_type": "display_data",
          "data": {
            "text/plain": [
              "<Figure size 432x288 with 1 Axes>"
            ],
            "image/png": "[encoded data removed]"
          },
          "metadata": {
            "needs_background": "light"
          }
        },
        {
          "output_type": "stream",
          "name": "stdout",
          "text": [
            "0 890 0.3842696629213483 0.0 0.4866956319007263 0.4766469365587006 -1.77680558506225840    0\n",
            "dtype: int64\n",
            "\n"
          ]
        },
        {
          "output_type": "display_data",
          "data": {
            "text/plain": [
              "<Figure size 720x144 with 1 Axes>"
            ],
            "image/png": "[encoded data removed]"
          },
          "metadata": {
            "needs_background": "light"
          }
        },
        {
          "output_type": "display_data",
          "data": {
            "text/plain": [
              "<Figure size 432x288 with 1 Axes>"
            ],
            "image/png": "[encoded data removed]"
          },
          "metadata": {
            "needs_background": "light"
          }
        },
        {
          "output_type": "stream",
          "name": "stdout",
          "text": [
            "3 890 2.3078651685393257 3.0 0.8362195608233012 -0.628766935098649 -1.28217692343857140    3\n",
            "dtype: int64\n",
            "\n"
          ]
        },
        {
          "output_type": "display_data",
          "data": {
            "text/plain": [
              "<Figure size 720x144 with 1 Axes>"
            ],
            "image/png": "[encoded data removed]"
          },
          "metadata": {
            "needs_background": "light"
          }
        },
        {
          "output_type": "display_data",
          "data": {
            "text/plain": [
              "<Figure size 432x288 with 1 Axes>"
            ],
            "image/png": "[encoded data removed]"
          },
          "metadata": {
            "needs_background": "light"
          }
        },
        {
          "output_type": "stream",
          "name": "stdout",
          "text": [
            "Braund 890\n",
            "moda, distribucion de frecuencias\n",
            " Mr. Owen Harris 890\n",
            "moda, distribucion de frecuencias\n",
            "male 890\n",
            "moda, distribucion de frecuencias\n",
            "22.0 890 29.393449438202246 30.0 13.26479649281335 0.43508586862793436 0.77931843488046890    30.0\n",
            "dtype: float64\n",
            "\n"
          ]
        },
        {
          "output_type": "display_data",
          "data": {
            "text/plain": [
              "<Figure size 720x144 with 1 Axes>"
            ],
            "image/png": "[encoded data removed]"
          },
          "metadata": {
            "needs_background": "light"
          }
        },
        {
          "output_type": "display_data",
          "data": {
            "text/plain": [
              "<Figure size 432x288 with 1 Axes>"
            ],
            "image/png": "[encoded data removed]"
          },
          "metadata": {
            "needs_background": "light"
          }
        },
        {
          "output_type": "stream",
          "name": "stdout",
          "text": [
            "1.1 890 0.5224719101123596 0.0 1.1032473601510504 3.695820219844582 17.8730531985462270    0\n",
            "dtype: int64\n",
            "\n"
          ]
        },
        {
          "output_type": "display_data",
          "data": {
            "text/plain": [
              "<Figure size 720x144 with 1 Axes>"
            ],
            "image/png": "[encoded data removed]"
          },
          "metadata": {
            "needs_background": "light"
          }
        },
        {
          "output_type": "display_data",
          "data": {
            "text/plain": [
              "<Figure size 432x288 with 1 Axes>"
            ],
            "image/png": "[encoded data removed]"
          },
          "metadata": {
            "needs_background": "light"
          }
        },
        {
          "output_type": "stream",
          "name": "stdout",
          "text": [
            "0.1 890 0.38202247191011235 0.0 0.8064087782289336 2.74713922844635 9.7643574852996660    0\n",
            "dtype: int64\n",
            "\n"
          ]
        },
        {
          "output_type": "display_data",
          "data": {
            "text/plain": [
              "<Figure size 720x144 with 1 Axes>"
            ],
            "image/png": "[encoded data removed]"
          },
          "metadata": {
            "needs_background": "light"
          }
        },
        {
          "output_type": "display_data",
          "data": {
            "text/plain": [
              "<Figure size 432x288 with 1 Axes>"
            ],
            "image/png": "[encoded data removed]"
          },
          "metadata": {
            "needs_background": "light"
          }
        },
        {
          "output_type": "stream",
          "name": "stdout",
          "text": [
            "A/5 21171 890\n",
            "moda, distribucion de frecuencias\n",
            "7.25 890 32.232246404494376 14.4542 49.71431749441972 4.785121638770901 33.3672198589425550    8.05\n",
            "dtype: float64\n",
            "\n"
          ]
        },
        {
          "output_type": "display_data",
          "data": {
            "text/plain": [
              "<Figure size 720x144 with 1 Axes>"
            ],
            "image/png": "[encoded data removed]"
          },
          "metadata": {
            "needs_background": "light"
          }
        },
        {
          "output_type": "display_data",
          "data": {
            "text/plain": [
              "<Figure size 432x288 with 1 Axes>"
            ],
            "image/png": "[encoded data removed]"
          },
          "metadata": {
            "needs_background": "light"
          }
        },
        {
          "output_type": "stream",
          "name": "stdout",
          "text": [
            "S 890\n",
            "moda, distribucion de frecuencias\n"
          ]
        },
        {
          "output_type": "display_data",
          "data": {
            "text/plain": [
              "<Figure size 288x288 with 1 Axes>"
            ],
            "image/png": "[encoded data removed]"
          },
          "metadata": {
            "needs_background": "light"
          }
        },
        {
          "output_type": "stream",
          "name": "stderr",
          "text": [
            "/usr/local/lib/python3.7/dist-packages/ipykernel_launcher.py:48: FutureWarning: this method is deprecated in favour of `Styler.format(precision=..)`\n"
          ]
        },
        {
          "output_type": "execute_result",
          "data": {
            "text/plain": [
              "<pandas.io.formats.style.Styler at 0x7fcf355ad750>"
            ],
            "text/html": [
              "<style type=\"text/css\">\n",
              "#T_2bf77_row0_col0, #T_2bf77_row1_col1, #T_2bf77_row2_col2, #T_2bf77_row3_col3, #T_2bf77_row4_col4, #T_2bf77_row5_col5, #T_2bf77_row6_col6 {\n",
              "  background-color: #00441b;\n",
              "  color: #f1f1f1;\n",
              "}\n",
              "#T_2bf77_row0_col1 {\n",
              "  background-color: #c8e9c1;\n",
              "  color: #000000;\n",
              "}\n",
              "#T_2bf77_row0_col2, #T_2bf77_row6_col3 {\n",
              "  background-color: #aedea7;\n",
              "  color: #000000;\n",
              "}\n",
              "#T_2bf77_row0_col3 {\n",
              "  background-color: #bbe4b4;\n",
              "  color: #000000;\n",
              "}\n",
              "#T_2bf77_row0_col4 {\n",
              "  background-color: #dbf1d6;\n",
              "  color: #000000;\n",
              "}\n",
              "#T_2bf77_row0_col5 {\n",
              "  background-color: #ddf2d8;\n",
              "  color: #000000;\n",
              "}\n",
              "#T_2bf77_row0_col6 {\n",
              "  background-color: #a5db9f;\n",
              "  color: #000000;\n",
              "}\n",
              "#T_2bf77_row1_col0 {\n",
              "  background-color: #f0f9ed;\n",
              "  color: #000000;\n",
              "}\n",
              "#T_2bf77_row1_col2 {\n",
              "  background-color: #e3f4de;\n",
              "  color: #000000;\n",
              "}\n",
              "#T_2bf77_row1_col3 {\n",
              "  background-color: #d3eecd;\n",
              "  color: #000000;\n",
              "}\n",
              "#T_2bf77_row1_col4 {\n",
              "  background-color: #d8f0d2;\n",
              "  color: #000000;\n",
              "}\n",
              "#T_2bf77_row1_col5 {\n",
              "  background-color: #ccebc6;\n",
              "  color: #000000;\n",
              "}\n",
              "#T_2bf77_row1_col6 {\n",
              "  background-color: #6bc072;\n",
              "  color: #000000;\n",
              "}\n",
              "#T_2bf77_row2_col0 {\n",
              "  background-color: #f4fbf2;\n",
              "  color: #000000;\n",
              "}\n",
              "#T_2bf77_row2_col1, #T_2bf77_row2_col3, #T_2bf77_row2_col6, #T_2bf77_row3_col4, #T_2bf77_row3_col5, #T_2bf77_row4_col0, #T_2bf77_row6_col2 {\n",
              "  background-color: #f7fcf5;\n",
              "  color: #000000;\n",
              "}\n",
              "#T_2bf77_row2_col4 {\n",
              "  background-color: #c0e6b9;\n",
              "  color: #000000;\n",
              "}\n",
              "#T_2bf77_row2_col5 {\n",
              "  background-color: #daf0d4;\n",
              "  color: #000000;\n",
              "}\n",
              "#T_2bf77_row3_col0 {\n",
              "  background-color: #eaf7e6;\n",
              "  color: #000000;\n",
              "}\n",
              "#T_2bf77_row3_col1 {\n",
              "  background-color: #d5efcf;\n",
              "  color: #000000;\n",
              "}\n",
              "#T_2bf77_row3_col2 {\n",
              "  background-color: #e5f5e0;\n",
              "  color: #000000;\n",
              "}\n",
              "#T_2bf77_row3_col6 {\n",
              "  background-color: #92d28f;\n",
              "  color: #000000;\n",
              "}\n",
              "#T_2bf77_row4_col1 {\n",
              "  background-color: #cdecc7;\n",
              "  color: #000000;\n",
              "}\n",
              "#T_2bf77_row4_col2 {\n",
              "  background-color: #95d391;\n",
              "  color: #000000;\n",
              "}\n",
              "#T_2bf77_row4_col3, #T_2bf77_row6_col0 {\n",
              "  background-color: #eef8ea;\n",
              "  color: #000000;\n",
              "}\n",
              "#T_2bf77_row4_col5 {\n",
              "  background-color: #70c274;\n",
              "  color: #000000;\n",
              "}\n",
              "#T_2bf77_row4_col6 {\n",
              "  background-color: #83cb82;\n",
              "  color: #000000;\n",
              "}\n",
              "#T_2bf77_row5_col0 {\n",
              "  background-color: #f0f9ec;\n",
              "  color: #000000;\n",
              "}\n",
              "#T_2bf77_row5_col1 {\n",
              "  background-color: #b4e1ad;\n",
              "  color: #000000;\n",
              "}\n",
              "#T_2bf77_row5_col2 {\n",
              "  background-color: #a4da9e;\n",
              "  color: #000000;\n",
              "}\n",
              "#T_2bf77_row5_col3 {\n",
              "  background-color: #e5f5e1;\n",
              "  color: #000000;\n",
              "}\n",
              "#T_2bf77_row5_col4 {\n",
              "  background-color: #65bd6f;\n",
              "  color: #f1f1f1;\n",
              "}\n",
              "#T_2bf77_row5_col6 {\n",
              "  background-color: #76c578;\n",
              "  color: #000000;\n",
              "}\n",
              "#T_2bf77_row6_col1 {\n",
              "  background-color: #88ce87;\n",
              "  color: #000000;\n",
              "}\n",
              "#T_2bf77_row6_col4 {\n",
              "  background-color: #acdea6;\n",
              "  color: #000000;\n",
              "}\n",
              "#T_2bf77_row6_col5 {\n",
              "  background-color: #abdda5;\n",
              "  color: #000000;\n",
              "}\n",
              "</style>\n",
              "<table id=\"T_2bf77_\" class=\"dataframe\">\n",
              "  <thead>\n",
              "    <tr>\n",
              "      <th class=\"blank level0\" >&nbsp;</th>\n",
              "      <th class=\"col_heading level0 col0\" >1</th>\n",
              "      <th class=\"col_heading level0 col1\" >0</th>\n",
              "      <th class=\"col_heading level0 col2\" >3</th>\n",
              "      <th class=\"col_heading level0 col3\" >22.0</th>\n",
              "      <th class=\"col_heading level0 col4\" >1.1</th>\n",
              "      <th class=\"col_heading level0 col5\" >0.1</th>\n",
              "      <th class=\"col_heading level0 col6\" >7.25</th>\n",
              "    </tr>\n",
              "  </thead>\n",
              "  <tbody>\n",
              "    <tr>\n",
              "      <th id=\"T_2bf77_level0_row0\" class=\"row_heading level0 row0\" >1</th>\n",
              "      <td id=\"T_2bf77_row0_col0\" class=\"data row0 col0\" >1.000</td>\n",
              "      <td id=\"T_2bf77_row0_col1\" class=\"data row0 col1\" >-0.007</td>\n",
              "      <td id=\"T_2bf77_row0_col2\" class=\"data row0 col2\" >-0.034</td>\n",
              "      <td id=\"T_2bf77_row0_col3\" class=\"data row0 col3\" >0.041</td>\n",
              "      <td id=\"T_2bf77_row0_col4\" class=\"data row0 col4\" >-0.057</td>\n",
              "      <td id=\"T_2bf77_row0_col5\" class=\"data row0 col5\" >-0.003</td>\n",
              "      <td id=\"T_2bf77_row0_col6\" class=\"data row0 col6\" >0.012</td>\n",
              "    </tr>\n",
              "    <tr>\n",
              "      <th id=\"T_2bf77_level0_row1\" class=\"row_heading level0 row1\" >0</th>\n",
              "      <td id=\"T_2bf77_row1_col0\" class=\"data row1 col0\" >-0.007</td>\n",
              "      <td id=\"T_2bf77_row1_col1\" class=\"data row1 col1\" >1.000</td>\n",
              "      <td id=\"T_2bf77_row1_col2\" class=\"data row1 col2\" >-0.338</td>\n",
              "      <td id=\"T_2bf77_row1_col3\" class=\"data row1 col3\" >-0.079</td>\n",
              "      <td id=\"T_2bf77_row1_col4\" class=\"data row1 col4\" >-0.035</td>\n",
              "      <td id=\"T_2bf77_row1_col5\" class=\"data row1 col5\" >0.081</td>\n",
              "      <td id=\"T_2bf77_row1_col6\" class=\"data row1 col6\" >0.257</td>\n",
              "    </tr>\n",
              "    <tr>\n",
              "      <th id=\"T_2bf77_level0_row2\" class=\"row_heading level0 row2\" >3</th>\n",
              "      <td id=\"T_2bf77_row2_col0\" class=\"data row2 col0\" >-0.034</td>\n",
              "      <td id=\"T_2bf77_row2_col1\" class=\"data row2 col1\" >-0.338</td>\n",
              "      <td id=\"T_2bf77_row2_col2\" class=\"data row2 col2\" >1.000</td>\n",
              "      <td id=\"T_2bf77_row2_col3\" class=\"data row2 col3\" >-0.353</td>\n",
              "      <td id=\"T_2bf77_row2_col4\" class=\"data row2 col4\" >0.083</td>\n",
              "      <td id=\"T_2bf77_row2_col5\" class=\"data row2 col5\" >0.019</td>\n",
              "      <td id=\"T_2bf77_row2_col6\" class=\"data row2 col6\" >-0.549</td>\n",
              "    </tr>\n",
              "    <tr>\n",
              "      <th id=\"T_2bf77_level0_row3\" class=\"row_heading level0 row3\" >22.0</th>\n",
              "      <td id=\"T_2bf77_row3_col0\" class=\"data row3 col0\" >0.041</td>\n",
              "      <td id=\"T_2bf77_row3_col1\" class=\"data row3 col1\" >-0.079</td>\n",
              "      <td id=\"T_2bf77_row3_col2\" class=\"data row3 col2\" >-0.353</td>\n",
              "      <td id=\"T_2bf77_row3_col3\" class=\"data row3 col3\" >1.000</td>\n",
              "      <td id=\"T_2bf77_row3_col4\" class=\"data row3 col4\" >-0.265</td>\n",
              "      <td id=\"T_2bf77_row3_col5\" class=\"data row3 col5\" >-0.188</td>\n",
              "      <td id=\"T_2bf77_row3_col6\" class=\"data row3 col6\" >0.098</td>\n",
              "    </tr>\n",
              "    <tr>\n",
              "      <th id=\"T_2bf77_level0_row4\" class=\"row_heading level0 row4\" >1.1</th>\n",
              "      <td id=\"T_2bf77_row4_col0\" class=\"data row4 col0\" >-0.057</td>\n",
              "      <td id=\"T_2bf77_row4_col1\" class=\"data row4 col1\" >-0.035</td>\n",
              "      <td id=\"T_2bf77_row4_col2\" class=\"data row4 col2\" >0.083</td>\n",
              "      <td id=\"T_2bf77_row4_col3\" class=\"data row4 col3\" >-0.265</td>\n",
              "      <td id=\"T_2bf77_row4_col4\" class=\"data row4 col4\" >1.000</td>\n",
              "      <td id=\"T_2bf77_row4_col5\" class=\"data row4 col5\" >0.415</td>\n",
              "      <td id=\"T_2bf77_row4_col6\" class=\"data row4 col6\" >0.160</td>\n",
              "    </tr>\n",
              "    <tr>\n",
              "      <th id=\"T_2bf77_level0_row5\" class=\"row_heading level0 row5\" >0.1</th>\n",
              "      <td id=\"T_2bf77_row5_col0\" class=\"data row5 col0\" >-0.003</td>\n",
              "      <td id=\"T_2bf77_row5_col1\" class=\"data row5 col1\" >0.081</td>\n",
              "      <td id=\"T_2bf77_row5_col2\" class=\"data row5 col2\" >0.019</td>\n",
              "      <td id=\"T_2bf77_row5_col3\" class=\"data row5 col3\" >-0.188</td>\n",
              "      <td id=\"T_2bf77_row5_col4\" class=\"data row5 col4\" >0.415</td>\n",
              "      <td id=\"T_2bf77_row5_col5\" class=\"data row5 col5\" >1.000</td>\n",
              "      <td id=\"T_2bf77_row5_col6\" class=\"data row5 col6\" >0.216</td>\n",
              "    </tr>\n",
              "    <tr>\n",
              "      <th id=\"T_2bf77_level0_row6\" class=\"row_heading level0 row6\" >7.25</th>\n",
              "      <td id=\"T_2bf77_row6_col0\" class=\"data row6 col0\" >0.012</td>\n",
              "      <td id=\"T_2bf77_row6_col1\" class=\"data row6 col1\" >0.257</td>\n",
              "      <td id=\"T_2bf77_row6_col2\" class=\"data row6 col2\" >-0.549</td>\n",
              "      <td id=\"T_2bf77_row6_col3\" class=\"data row6 col3\" >0.098</td>\n",
              "      <td id=\"T_2bf77_row6_col4\" class=\"data row6 col4\" >0.160</td>\n",
              "      <td id=\"T_2bf77_row6_col5\" class=\"data row6 col5\" >0.216</td>\n",
              "      <td id=\"T_2bf77_row6_col6\" class=\"data row6 col6\" >1.000</td>\n",
              "    </tr>\n",
              "  </tbody>\n",
              "</table>\n"
            ]
          },
          "metadata": {},
          "execution_count": 9
        }
      ]
    },
    {
      "cell_type": "code",
      "source": [
        "datosLimpios.columns = ['PassengerId','Survived','Pclass','Name','Title','Sex','Age','SibSp','Parch','Ticket','Fare','Embarked']"
      ],
      "metadata": {
        "id": "xri1AR5PUeTF"
      },
      "execution_count": null,
      "outputs": []
    },
    {
      "cell_type": "code",
      "source": [
        "datosLimpios.head(1)"
      ],
      "metadata": {
        "colab": {
          "base_uri": "https://localhost:8080/",
          "height": 81
        },
        "id": "gsgskWCmU_OI",
        "outputId": "b23b54af-038a-42d7-ccf5-20a439034b52"
      },
      "execution_count": null,
      "outputs": [
        {
          "output_type": "execute_result",
          "data": {
            "text/plain": [
              "   PassengerId  Survived  Pclass    Name             Title   Sex   Age  SibSp  \\\n",
              "0            1         0       3  Braund   Mr. Owen Harris  male  22.0      1   \n",
              "\n",
              "   Parch     Ticket  Fare Embarked  \n",
              "0      0  A/5 21171  7.25        S  "
            ],
            "text/html": [
              "\n",
              "  <div id=\"df-1de04e43-c348-4260-b0aa-1a827807c5e7\">\n",
              "    <div class=\"colab-df-container\">\n",
              "      <div>\n",
              "<style scoped>\n",
              "    .dataframe tbody tr th:only-of-type {\n",
              "        vertical-align: middle;\n",
              "    }\n",
              "\n",
              "    .dataframe tbody tr th {\n",
              "        vertical-align: top;\n",
              "    }\n",
              "\n",
              "    .dataframe thead th {\n",
              "        text-align: right;\n",
              "    }\n",
              "</style>\n",
              "<table border=\"1\" class=\"dataframe\">\n",
              "  <thead>\n",
              "    <tr style=\"text-align: right;\">\n",
              "      <th></th>\n",
              "      <th>PassengerId</th>\n",
              "      <th>Survived</th>\n",
              "      <th>Pclass</th>\n",
              "      <th>Name</th>\n",
              "      <th>Title</th>\n",
              "      <th>Sex</th>\n",
              "      <th>Age</th>\n",
              "      <th>SibSp</th>\n",
              "      <th>Parch</th>\n",
              "      <th>Ticket</th>\n",
              "      <th>Fare</th>\n",
              "      <th>Embarked</th>\n",
              "    </tr>\n",
              "  </thead>\n",
              "  <tbody>\n",
              "    <tr>\n",
              "      <th>0</th>\n",
              "      <td>1</td>\n",
              "      <td>0</td>\n",
              "      <td>3</td>\n",
              "      <td>Braund</td>\n",
              "      <td>Mr. Owen Harris</td>\n",
              "      <td>male</td>\n",
              "      <td>22.0</td>\n",
              "      <td>1</td>\n",
              "      <td>0</td>\n",
              "      <td>A/5 21171</td>\n",
              "      <td>7.25</td>\n",
              "      <td>S</td>\n",
              "    </tr>\n",
              "  </tbody>\n",
              "</table>\n",
              "</div>\n",
              "      <button class=\"colab-df-convert\" onclick=\"convertToInteractive('df-1de04e43-c348-4260-b0aa-1a827807c5e7')\"\n",
              "              title=\"Convert this dataframe to an interactive table.\"\n",
              "              style=\"display:none;\">\n",
              "        \n",
              "  <svg xmlns=\"http://www.w3.org/2000/svg\" height=\"24px\"viewBox=\"0 0 24 24\"\n",
              "       width=\"24px\">\n",
              "    <path d=\"M0 0h24v24H0V0z\" fill=\"none\"/>\n",
              "    <path d=\"M18.56 5.44l.94 2.06.94-2.06 2.06-.94-2.06-.94-.94-2.06-.94 2.06-2.06.94zm-11 1L8.5 8.5l.94-2.06 2.06-.94-2.06-.94L8.5 2.5l-.94 2.06-2.06.94zm10 10l.94 2.06.94-2.06 2.06-.94-2.06-.94-.94-2.06-.94 2.06-2.06.94z\"/><path d=\"M17.41 7.96l-1.37-1.37c-.4-.4-.92-.59-1.43-.59-.52 0-1.04.2-1.43.59L10.3 9.45l-7.72 7.72c-.78.78-.78 2.05 0 2.83L4 21.41c.39.39.9.59 1.41.59.51 0 1.02-.2 1.41-.59l7.78-7.78 2.81-2.81c.8-.78.8-2.07 0-2.86zM5.41 20L4 18.59l7.72-7.72 1.47 1.35L5.41 20z\"/>\n",
              "  </svg>\n",
              "      </button>\n",
              "      \n",
              "  <style>\n",
              "    .colab-df-container {\n",
              "      display:flex;\n",
              "      flex-wrap:wrap;\n",
              "      gap: 12px;\n",
              "    }\n",
              "\n",
              "    .colab-df-convert {\n",
              "      background-color: #E8F0FE;\n",
              "      border: none;\n",
              "      border-radius: 50%;\n",
              "      cursor: pointer;\n",
              "      display: none;\n",
              "      fill: #1967D2;\n",
              "      height: 32px;\n",
              "      padding: 0 0 0 0;\n",
              "      width: 32px;\n",
              "    }\n",
              "\n",
              "    .colab-df-convert:hover {\n",
              "      background-color: #E2EBFA;\n",
              "      box-shadow: 0px 1px 2px rgba(60, 64, 67, 0.3), 0px 1px 3px 1px rgba(60, 64, 67, 0.15);\n",
              "      fill: #174EA6;\n",
              "    }\n",
              "\n",
              "    [theme=dark] .colab-df-convert {\n",
              "      background-color: #3B4455;\n",
              "      fill: #D2E3FC;\n",
              "    }\n",
              "\n",
              "    [theme=dark] .colab-df-convert:hover {\n",
              "      background-color: #434B5C;\n",
              "      box-shadow: 0px 1px 3px 1px rgba(0, 0, 0, 0.15);\n",
              "      filter: drop-shadow(0px 1px 2px rgba(0, 0, 0, 0.3));\n",
              "      fill: #FFFFFF;\n",
              "    }\n",
              "  </style>\n",
              "\n",
              "      <script>\n",
              "        const buttonEl =\n",
              "          document.querySelector('#df-1de04e43-c348-4260-b0aa-1a827807c5e7 button.colab-df-convert');\n",
              "        buttonEl.style.display =\n",
              "          google.colab.kernel.accessAllowed ? 'block' : 'none';\n",
              "\n",
              "        async function convertToInteractive(key) {\n",
              "          const element = document.querySelector('#df-1de04e43-c348-4260-b0aa-1a827807c5e7');\n",
              "          const dataTable =\n",
              "            await google.colab.kernel.invokeFunction('convertToInteractive',\n",
              "                                                     [key], {});\n",
              "          if (!dataTable) return;\n",
              "\n",
              "          const docLinkHtml = 'Like what you see? Visit the ' +\n",
              "            '<a target=\"_blank\" href=https://colab.research.google.com/notebooks/data_table.ipynb>data table notebook</a>'\n",
              "            + ' to learn more about interactive tables.';\n",
              "          element.innerHTML = '';\n",
              "          dataTable['output_type'] = 'display_data';\n",
              "          await google.colab.output.renderOutput(dataTable, element);\n",
              "          const docLink = document.createElement('div');\n",
              "          docLink.innerHTML = docLinkHtml;\n",
              "          element.appendChild(docLink);\n",
              "        }\n",
              "      </script>\n",
              "    </div>\n",
              "  </div>\n",
              "  "
            ]
          },
          "metadata": {},
          "execution_count": 11
        }
      ]
    },
    {
      "cell_type": "code",
      "source": [
        "clase1 = 0\n",
        "clase2 = 0\n",
        "clase3 = 0\n",
        "\n",
        "clase1Suvirve = 0\n",
        "clase2Suvirve = 0\n",
        "clase3Suvirve = 0\n",
        "\n",
        "for i in range(len(datosLimpios)):\n",
        "  Clase = datosLimpios.loc[i,\"Pclass\"]\n",
        "  suvirve = datosLimpios.loc[i,\"Survived\"]\n",
        "  if Clase == 1:\n",
        "    clase1 += 1\n",
        "  elif Clase == 2:\n",
        "    clase2 += 1\n",
        "  elif Clase == 3:\n",
        "    clase3 += 1\n",
        "\n",
        "  if Clase == 1 and suvirve == 1:\n",
        "    clase1Suvirve += 1\n",
        "  elif Clase == 2 and suvirve == 1:\n",
        "    clase2Suvirve += 1\n",
        "  elif Clase == 3 and suvirve == 1:\n",
        "    clase3Suvirve += 1\n",
        "\n",
        "print(\"Clase 1\",clase1)\n",
        "print(\"Clase 2\",clase2)\n",
        "print(\"Clase 3\",clase3)\n",
        "\n",
        "print(\"Clase 1 suvirve\",clase1Suvirve)\n",
        "print(\"Clase 2 suvirve\",clase2Suvirve)\n",
        "print(\"Clase 3 suvirve\",clase3Suvirve)"
      ],
      "metadata": {
        "colab": {
          "base_uri": "https://localhost:8080/"
        },
        "id": "QxRQr-ZwWQkn",
        "outputId": "48f6a7e4-2352-44d8-faba-d6f28ab1f9ae"
      },
      "execution_count": null,
      "outputs": [
        {
          "output_type": "stream",
          "name": "stdout",
          "text": [
            "Clase 1 216\n",
            "Clase 2 184\n",
            "Clase 3 491\n",
            "Clase 1 suvirve 136\n",
            "Clase 2 suvirve 87\n",
            "Clase 3 suvirve 119\n"
          ]
        }
      ]
    }
  ]
}